{
 "cells": [
  {
   "cell_type": "code",
   "execution_count": 1,
   "metadata": {},
   "outputs": [],
   "source": [
    "from __future__ import print_function, division\n",
    "\n",
    "import thinkdsp\n",
    "import thinkplot\n",
    "import thinkstats2\n",
    "\n",
    "import numpy as np\n",
    "import pandas as pd\n",
    "\n",
    "import warnings\n",
    "warnings.filterwarnings('ignore')\n",
    "\n",
    "from ipywidgets import interact, interactive, fixed\n",
    "import ipywidgets as widgets\n",
    "\n",
    "%matplotlib inline"
   ]
  },
  {
   "cell_type": "markdown",
   "metadata": {},
   "source": [
    "Exercise: ``A Soft Murmur'' is a web site that plays a mixture of natural noise sources, including rain, waves, wind, etc. At http://asoftmurmur.com/about/ you can find their list of recordings, most of which are at http://freesound.org.\n",
    "\n",
    "Download a few of these files and compute the spectrum of each signal. Does the power spectrum look like white noise, pink noise, or Brownian noise? How does the spectrum vary over time?"
   ]
  },
  {
   "cell_type": "code",
   "execution_count": 2,
   "metadata": {},
   "outputs": [
    {
     "data": {
      "text/html": [
       "\n",
       "                <audio  controls=\"controls\" >\n",
       "                    <source src=\"https://freesound.org/people/Soarer/sounds/13793/download/13793__soarer__north-sea.wav\" type=\"audio/wav\" />\n",
       "                    Your browser does not support the audio element.\n",
       "                </audio>\n",
       "              "
      ],
      "text/plain": [
       "<IPython.lib.display.Audio object>"
      ]
     },
     "execution_count": 2,
     "metadata": {},
     "output_type": "execute_result"
    }
   ],
   "source": [
    "import IPython.display as dp\n",
    "\n",
    "url1= 'https://freesound.org/people/Soarer/sounds/13793/download/13793__soarer__north-sea.wav'\n",
    "#url2= 'https://freesound.org/people/OroborosNZ/sounds/141251/download/141251__oroborosnz__thunder-storm.aiff'\n",
    "url2= 'https://freesound.org/people/soundman9826/sounds/193335/download/193335__soundman9826__rain-and-thunder.mp3'\n",
    "url3= 'https://freesound.org/people/inchadney/sounds/56611/download/56611__inchadney__morning-in-the-country.wav'\n",
    "url4= 'https://freesound.org/people/martypinso/sounds/22604/download/22604__martypinso__dmp010037-crickets-texas.wav'\n",
    "\n",
    "dp.Audio(url= url1)"
   ]
  },
  {
   "cell_type": "code",
   "execution_count": 46,
   "metadata": {},
   "outputs": [],
   "source": [
    "def make_wave(self, duration=1, start=0, framerate=11025):\n",
    "        signal = UncorrelatedUniformNoise()\n",
    "        wave = signal.make_wave(duration, start, framerate)\n",
    "        spectrum = wave.make_spectrum()\n",
    "\n",
    "        spectrum.pink_filter(beta=self.beta)\n",
    "\n",
    "        wave2 = spectrum.make_wave()\n",
    "        wave2.unbias()\n",
    "        wave2.normalize(self.amp)\n",
    "        return wave2"
   ]
  },
  {
   "cell_type": "markdown",
   "metadata": {},
   "source": [
    "I chose a recording of ocean waves. I selected a short segment:"
   ]
  },
  {
   "cell_type": "code",
   "execution_count": 47,
   "metadata": {},
   "outputs": [
    {
     "ename": "ValueError",
     "evalue": "zero-size array to reduction operation maximum which has no identity",
     "output_type": "error",
     "traceback": [
      "\u001b[1;31m---------------------------------------------------------------------------\u001b[0m",
      "\u001b[1;31mValueError\u001b[0m                                Traceback (most recent call last)",
      "\u001b[1;32m<ipython-input-47-ec16ca83180b>\u001b[0m in \u001b[0;36m<module>\u001b[1;34m\u001b[0m\n\u001b[0;32m      1\u001b[0m \u001b[0msegment\u001b[0m \u001b[1;33m=\u001b[0m \u001b[0mwave\u001b[0m\u001b[1;33m.\u001b[0m\u001b[0msegment\u001b[0m\u001b[1;33m(\u001b[0m\u001b[0mstart\u001b[0m\u001b[1;33m=\u001b[0m \u001b[1;36m10\u001b[0m\u001b[1;33m,\u001b[0m \u001b[0mduration\u001b[0m\u001b[1;33m=\u001b[0m\u001b[1;36m1.0\u001b[0m\u001b[1;33m)\u001b[0m\u001b[1;33m\u001b[0m\u001b[1;33m\u001b[0m\u001b[0m\n\u001b[1;32m----> 2\u001b[1;33m \u001b[0msegment\u001b[0m\u001b[1;33m.\u001b[0m\u001b[0mmake_audio\u001b[0m\u001b[1;33m(\u001b[0m\u001b[1;33m)\u001b[0m\u001b[1;33m\u001b[0m\u001b[1;33m\u001b[0m\u001b[0m\n\u001b[0m",
      "\u001b[1;32m~\\Anaconda3\\envs\\grace87\\lib\\site-packages\\thinkdsp.py\u001b[0m in \u001b[0;36mmake_audio\u001b[1;34m(self)\u001b[0m\n\u001b[0;32m   1042\u001b[0m         \"\"\"Makes an IPython Audio object.\n\u001b[0;32m   1043\u001b[0m         \"\"\"\n\u001b[1;32m-> 1044\u001b[1;33m         \u001b[0maudio\u001b[0m \u001b[1;33m=\u001b[0m \u001b[0mAudio\u001b[0m\u001b[1;33m(\u001b[0m\u001b[0mdata\u001b[0m\u001b[1;33m=\u001b[0m\u001b[0mself\u001b[0m\u001b[1;33m.\u001b[0m\u001b[0mys\u001b[0m\u001b[1;33m.\u001b[0m\u001b[0mreal\u001b[0m\u001b[1;33m,\u001b[0m \u001b[0mrate\u001b[0m\u001b[1;33m=\u001b[0m\u001b[0mself\u001b[0m\u001b[1;33m.\u001b[0m\u001b[0mframerate\u001b[0m\u001b[1;33m)\u001b[0m\u001b[1;33m\u001b[0m\u001b[1;33m\u001b[0m\u001b[0m\n\u001b[0m\u001b[0;32m   1045\u001b[0m         \u001b[1;32mreturn\u001b[0m \u001b[0maudio\u001b[0m\u001b[1;33m\u001b[0m\u001b[1;33m\u001b[0m\u001b[0m\n\u001b[0;32m   1046\u001b[0m \u001b[1;33m\u001b[0m\u001b[0m\n",
      "\u001b[1;32m~\\Anaconda3\\envs\\grace87\\lib\\site-packages\\IPython\\lib\\display.py\u001b[0m in \u001b[0;36m__init__\u001b[1;34m(self, data, filename, url, embed, rate, autoplay, normalize, element_id)\u001b[0m\n\u001b[0;32m    113\u001b[0m             \u001b[1;32mif\u001b[0m \u001b[0mrate\u001b[0m \u001b[1;32mis\u001b[0m \u001b[1;32mNone\u001b[0m\u001b[1;33m:\u001b[0m\u001b[1;33m\u001b[0m\u001b[1;33m\u001b[0m\u001b[0m\n\u001b[0;32m    114\u001b[0m                 \u001b[1;32mraise\u001b[0m \u001b[0mValueError\u001b[0m\u001b[1;33m(\u001b[0m\u001b[1;34m\"rate must be specified when data is a numpy array or list of audio samples.\"\u001b[0m\u001b[1;33m)\u001b[0m\u001b[1;33m\u001b[0m\u001b[1;33m\u001b[0m\u001b[0m\n\u001b[1;32m--> 115\u001b[1;33m             \u001b[0mself\u001b[0m\u001b[1;33m.\u001b[0m\u001b[0mdata\u001b[0m \u001b[1;33m=\u001b[0m \u001b[0mAudio\u001b[0m\u001b[1;33m.\u001b[0m\u001b[0m_make_wav\u001b[0m\u001b[1;33m(\u001b[0m\u001b[0mdata\u001b[0m\u001b[1;33m,\u001b[0m \u001b[0mrate\u001b[0m\u001b[1;33m,\u001b[0m \u001b[0mnormalize\u001b[0m\u001b[1;33m)\u001b[0m\u001b[1;33m\u001b[0m\u001b[1;33m\u001b[0m\u001b[0m\n\u001b[0m\u001b[0;32m    116\u001b[0m \u001b[1;33m\u001b[0m\u001b[0m\n\u001b[0;32m    117\u001b[0m     \u001b[1;32mdef\u001b[0m \u001b[0mreload\u001b[0m\u001b[1;33m(\u001b[0m\u001b[0mself\u001b[0m\u001b[1;33m)\u001b[0m\u001b[1;33m:\u001b[0m\u001b[1;33m\u001b[0m\u001b[1;33m\u001b[0m\u001b[0m\n",
      "\u001b[1;32m~\\Anaconda3\\envs\\grace87\\lib\\site-packages\\IPython\\lib\\display.py\u001b[0m in \u001b[0;36m_make_wav\u001b[1;34m(data, rate, normalize)\u001b[0m\n\u001b[0;32m    136\u001b[0m \u001b[1;33m\u001b[0m\u001b[0m\n\u001b[0;32m    137\u001b[0m         \u001b[1;32mtry\u001b[0m\u001b[1;33m:\u001b[0m\u001b[1;33m\u001b[0m\u001b[1;33m\u001b[0m\u001b[0m\n\u001b[1;32m--> 138\u001b[1;33m             \u001b[0mscaled\u001b[0m\u001b[1;33m,\u001b[0m \u001b[0mnchan\u001b[0m \u001b[1;33m=\u001b[0m \u001b[0mAudio\u001b[0m\u001b[1;33m.\u001b[0m\u001b[0m_validate_and_normalize_with_numpy\u001b[0m\u001b[1;33m(\u001b[0m\u001b[0mdata\u001b[0m\u001b[1;33m,\u001b[0m \u001b[0mnormalize\u001b[0m\u001b[1;33m)\u001b[0m\u001b[1;33m\u001b[0m\u001b[1;33m\u001b[0m\u001b[0m\n\u001b[0m\u001b[0;32m    139\u001b[0m         \u001b[1;32mexcept\u001b[0m \u001b[0mImportError\u001b[0m\u001b[1;33m:\u001b[0m\u001b[1;33m\u001b[0m\u001b[1;33m\u001b[0m\u001b[0m\n\u001b[0;32m    140\u001b[0m             \u001b[0mscaled\u001b[0m\u001b[1;33m,\u001b[0m \u001b[0mnchan\u001b[0m \u001b[1;33m=\u001b[0m \u001b[0mAudio\u001b[0m\u001b[1;33m.\u001b[0m\u001b[0m_validate_and_normalize_without_numpy\u001b[0m\u001b[1;33m(\u001b[0m\u001b[0mdata\u001b[0m\u001b[1;33m,\u001b[0m \u001b[0mnormalize\u001b[0m\u001b[1;33m)\u001b[0m\u001b[1;33m\u001b[0m\u001b[1;33m\u001b[0m\u001b[0m\n",
      "\u001b[1;32m~\\Anaconda3\\envs\\grace87\\lib\\site-packages\\IPython\\lib\\display.py\u001b[0m in \u001b[0;36m_validate_and_normalize_with_numpy\u001b[1;34m(data, normalize)\u001b[0m\n\u001b[0;32m    169\u001b[0m             \u001b[1;32mraise\u001b[0m \u001b[0mValueError\u001b[0m\u001b[1;33m(\u001b[0m\u001b[1;34m'Array audio input must be a 1D or 2D array'\u001b[0m\u001b[1;33m)\u001b[0m\u001b[1;33m\u001b[0m\u001b[1;33m\u001b[0m\u001b[0m\n\u001b[0;32m    170\u001b[0m \u001b[1;33m\u001b[0m\u001b[0m\n\u001b[1;32m--> 171\u001b[1;33m         \u001b[0mmax_abs_value\u001b[0m \u001b[1;33m=\u001b[0m \u001b[0mnp\u001b[0m\u001b[1;33m.\u001b[0m\u001b[0mmax\u001b[0m\u001b[1;33m(\u001b[0m\u001b[0mnp\u001b[0m\u001b[1;33m.\u001b[0m\u001b[0mabs\u001b[0m\u001b[1;33m(\u001b[0m\u001b[0mdata\u001b[0m\u001b[1;33m)\u001b[0m\u001b[1;33m)\u001b[0m\u001b[1;33m\u001b[0m\u001b[1;33m\u001b[0m\u001b[0m\n\u001b[0m\u001b[0;32m    172\u001b[0m         \u001b[0mnormalization_factor\u001b[0m \u001b[1;33m=\u001b[0m \u001b[0mAudio\u001b[0m\u001b[1;33m.\u001b[0m\u001b[0m_get_normalization_factor\u001b[0m\u001b[1;33m(\u001b[0m\u001b[0mmax_abs_value\u001b[0m\u001b[1;33m,\u001b[0m \u001b[0mnormalize\u001b[0m\u001b[1;33m)\u001b[0m\u001b[1;33m\u001b[0m\u001b[1;33m\u001b[0m\u001b[0m\n\u001b[0;32m    173\u001b[0m         \u001b[0mscaled\u001b[0m \u001b[1;33m=\u001b[0m \u001b[0mnp\u001b[0m\u001b[1;33m.\u001b[0m\u001b[0mint16\u001b[0m\u001b[1;33m(\u001b[0m\u001b[0mdata\u001b[0m \u001b[1;33m/\u001b[0m \u001b[0mnormalization_factor\u001b[0m \u001b[1;33m*\u001b[0m \u001b[1;36m32767\u001b[0m\u001b[1;33m)\u001b[0m\u001b[1;33m.\u001b[0m\u001b[0mtolist\u001b[0m\u001b[1;33m(\u001b[0m\u001b[1;33m)\u001b[0m\u001b[1;33m\u001b[0m\u001b[1;33m\u001b[0m\u001b[0m\n",
      "\u001b[1;32m~\\Anaconda3\\envs\\grace87\\lib\\site-packages\\numpy\\core\\fromnumeric.py\u001b[0m in \u001b[0;36mamax\u001b[1;34m(a, axis, out, keepdims, initial)\u001b[0m\n\u001b[0;32m   2503\u001b[0m     \"\"\"\n\u001b[0;32m   2504\u001b[0m     return _wrapreduction(a, np.maximum, 'max', axis, None, out, keepdims=keepdims,\n\u001b[1;32m-> 2505\u001b[1;33m                           initial=initial)\n\u001b[0m\u001b[0;32m   2506\u001b[0m \u001b[1;33m\u001b[0m\u001b[0m\n\u001b[0;32m   2507\u001b[0m \u001b[1;33m\u001b[0m\u001b[0m\n",
      "\u001b[1;32m~\\Anaconda3\\envs\\grace87\\lib\\site-packages\\numpy\\core\\fromnumeric.py\u001b[0m in \u001b[0;36m_wrapreduction\u001b[1;34m(obj, ufunc, method, axis, dtype, out, **kwargs)\u001b[0m\n\u001b[0;32m     84\u001b[0m                 \u001b[1;32mreturn\u001b[0m \u001b[0mreduction\u001b[0m\u001b[1;33m(\u001b[0m\u001b[0maxis\u001b[0m\u001b[1;33m=\u001b[0m\u001b[0maxis\u001b[0m\u001b[1;33m,\u001b[0m \u001b[0mout\u001b[0m\u001b[1;33m=\u001b[0m\u001b[0mout\u001b[0m\u001b[1;33m,\u001b[0m \u001b[1;33m**\u001b[0m\u001b[0mpasskwargs\u001b[0m\u001b[1;33m)\u001b[0m\u001b[1;33m\u001b[0m\u001b[1;33m\u001b[0m\u001b[0m\n\u001b[0;32m     85\u001b[0m \u001b[1;33m\u001b[0m\u001b[0m\n\u001b[1;32m---> 86\u001b[1;33m     \u001b[1;32mreturn\u001b[0m \u001b[0mufunc\u001b[0m\u001b[1;33m.\u001b[0m\u001b[0mreduce\u001b[0m\u001b[1;33m(\u001b[0m\u001b[0mobj\u001b[0m\u001b[1;33m,\u001b[0m \u001b[0maxis\u001b[0m\u001b[1;33m,\u001b[0m \u001b[0mdtype\u001b[0m\u001b[1;33m,\u001b[0m \u001b[0mout\u001b[0m\u001b[1;33m,\u001b[0m \u001b[1;33m**\u001b[0m\u001b[0mpasskwargs\u001b[0m\u001b[1;33m)\u001b[0m\u001b[1;33m\u001b[0m\u001b[1;33m\u001b[0m\u001b[0m\n\u001b[0m\u001b[0;32m     87\u001b[0m \u001b[1;33m\u001b[0m\u001b[0m\n\u001b[0;32m     88\u001b[0m \u001b[1;33m\u001b[0m\u001b[0m\n",
      "\u001b[1;31mValueError\u001b[0m: zero-size array to reduction operation maximum which has no identity"
     ]
    }
   ],
   "source": [
    "segment = wave.segment(start= 10, duration=1.0)\n",
    "segment.make_audio()"
   ]
  },
  {
   "cell_type": "code",
   "execution_count": 4,
   "metadata": {},
   "outputs": [
    {
     "ename": "NameError",
     "evalue": "name 'segment' is not defined",
     "output_type": "error",
     "traceback": [
      "\u001b[1;31m---------------------------------------------------------------------------\u001b[0m",
      "\u001b[1;31mNameError\u001b[0m                                 Traceback (most recent call last)",
      "\u001b[1;32m<ipython-input-4-b1a5c8a1a907>\u001b[0m in \u001b[0;36m<module>\u001b[1;34m\u001b[0m\n\u001b[1;32m----> 1\u001b[1;33m \u001b[0msegment\u001b[0m\u001b[1;33m.\u001b[0m\u001b[0mplot\u001b[0m\u001b[1;33m(\u001b[0m\u001b[1;33m)\u001b[0m\u001b[1;33m\u001b[0m\u001b[1;33m\u001b[0m\u001b[0m\n\u001b[0m\u001b[0;32m      2\u001b[0m \u001b[1;32mimport\u001b[0m \u001b[0mmatplotlib\u001b[0m\u001b[1;33m.\u001b[0m\u001b[0mpyplot\u001b[0m \u001b[1;32mas\u001b[0m \u001b[0mpl\u001b[0m\u001b[1;33m\u001b[0m\u001b[1;33m\u001b[0m\u001b[0m\n\u001b[0;32m      3\u001b[0m \u001b[0mpl\u001b[0m\u001b[1;33m.\u001b[0m\u001b[0mxlim\u001b[0m\u001b[1;33m(\u001b[0m\u001b[1;33m[\u001b[0m\u001b[1;36m10.0\u001b[0m\u001b[1;33m,\u001b[0m\u001b[1;36m11\u001b[0m\u001b[1;33m]\u001b[0m\u001b[1;33m)\u001b[0m\u001b[1;33m\u001b[0m\u001b[1;33m\u001b[0m\u001b[0m\n",
      "\u001b[1;31mNameError\u001b[0m: name 'segment' is not defined"
     ]
    }
   ],
   "source": [
    "segment.plot()\n",
    "import matplotlib.pyplot as pl\n",
    "pl.xlim([10.0,11])"
   ]
  },
  {
   "cell_type": "markdown",
   "metadata": {},
   "source": [
    "頻譜圖"
   ]
  },
  {
   "cell_type": "code",
   "execution_count": 5,
   "metadata": {},
   "outputs": [
    {
     "ename": "NameError",
     "evalue": "name 'segment' is not defined",
     "output_type": "error",
     "traceback": [
      "\u001b[1;31m---------------------------------------------------------------------------\u001b[0m",
      "\u001b[1;31mNameError\u001b[0m                                 Traceback (most recent call last)",
      "\u001b[1;32m<ipython-input-5-26362d0e419a>\u001b[0m in \u001b[0;36m<module>\u001b[1;34m\u001b[0m\n\u001b[1;32m----> 1\u001b[1;33m \u001b[0mspectrum\u001b[0m \u001b[1;33m=\u001b[0m \u001b[0msegment\u001b[0m\u001b[1;33m.\u001b[0m\u001b[0mmake_spectrum\u001b[0m\u001b[1;33m(\u001b[0m\u001b[1;33m)\u001b[0m\u001b[1;33m\u001b[0m\u001b[1;33m\u001b[0m\u001b[0m\n\u001b[0m\u001b[0;32m      2\u001b[0m \u001b[0mspectrum\u001b[0m\u001b[1;33m.\u001b[0m\u001b[0mplot_power\u001b[0m\u001b[1;33m(\u001b[0m\u001b[0mhigh\u001b[0m\u001b[1;33m=\u001b[0m\u001b[1;36m1000\u001b[0m\u001b[1;33m)\u001b[0m\u001b[1;33m\u001b[0m\u001b[1;33m\u001b[0m\u001b[0m\n\u001b[0;32m      3\u001b[0m \u001b[0mthinkplot\u001b[0m\u001b[1;33m.\u001b[0m\u001b[0mconfig\u001b[0m\u001b[1;33m(\u001b[0m\u001b[0mxlabel\u001b[0m\u001b[1;33m=\u001b[0m\u001b[1;34m'Frequency (Hz)'\u001b[0m\u001b[1;33m)\u001b[0m\u001b[1;33m\u001b[0m\u001b[1;33m\u001b[0m\u001b[0m\n",
      "\u001b[1;31mNameError\u001b[0m: name 'segment' is not defined"
     ]
    }
   ],
   "source": [
    "spectrum = segment.make_spectrum()\n",
    "spectrum.plot_power(high=1000)\n",
    "thinkplot.config(xlabel='Frequency (Hz)')"
   ]
  },
  {
   "cell_type": "markdown",
   "metadata": {},
   "source": [
    "Amplitude drops off with frequency, so this might be red or pink noise. We can check by looking at the power spectrum on a log-log scale."
   ]
  },
  {
   "cell_type": "code",
   "execution_count": 6,
   "metadata": {},
   "outputs": [
    {
     "ename": "NameError",
     "evalue": "name 'spectrum' is not defined",
     "output_type": "error",
     "traceback": [
      "\u001b[1;31m---------------------------------------------------------------------------\u001b[0m",
      "\u001b[1;31mNameError\u001b[0m                                 Traceback (most recent call last)",
      "\u001b[1;32m<ipython-input-6-3da4fecdbb0d>\u001b[0m in \u001b[0;36m<module>\u001b[1;34m\u001b[0m\n\u001b[1;32m----> 1\u001b[1;33m \u001b[0mspectrum\u001b[0m\u001b[1;33m.\u001b[0m\u001b[0mplot_power\u001b[0m\u001b[1;33m(\u001b[0m\u001b[1;33m)\u001b[0m\u001b[1;33m\u001b[0m\u001b[1;33m\u001b[0m\u001b[0m\n\u001b[0m\u001b[0;32m      2\u001b[0m thinkplot.config(xlabel='Frequency (Hz)',\n\u001b[0;32m      3\u001b[0m                  \u001b[0mxscale\u001b[0m\u001b[1;33m=\u001b[0m\u001b[1;34m'log'\u001b[0m\u001b[1;33m,\u001b[0m\u001b[1;33m\u001b[0m\u001b[1;33m\u001b[0m\u001b[0m\n\u001b[0;32m      4\u001b[0m                  yscale='log')\n",
      "\u001b[1;31mNameError\u001b[0m: name 'spectrum' is not defined"
     ]
    }
   ],
   "source": [
    "spectrum.plot_power()\n",
    "thinkplot.config(xlabel='Frequency (Hz)',\n",
    "                 xscale='log', \n",
    "                 yscale='log')"
   ]
  },
  {
   "cell_type": "markdown",
   "metadata": {},
   "source": [
    "This structure, with increasing and then decreasing amplitude, seems to be common in natural noise sources.\n",
    "\n",
    "Above $f = 10^3$, it might be dropping off linearly, but we can't really tell.\n",
    "\n",
    "To see how the spectrum changes over time, I'll select another segment:"
   ]
  },
  {
   "cell_type": "markdown",
   "metadata": {},
   "source": [
    " plot the two spectrums"
   ]
  },
  {
   "cell_type": "code",
   "execution_count": null,
   "metadata": {},
   "outputs": [],
   "source": [
    "spectrum2 = segment2.make_spectrum()\n",
    "spectrum.plot_power(color='red')\n",
    "spectrum2.plot_power(color='blue')\n",
    "thinkplot.config(xlabel='Frequency (Hz)',\n",
    "                 ylabel='Amplitude')"
   ]
  },
  {
   "cell_type": "markdown",
   "metadata": {},
   "source": [
    "Here they are again, plotting power on a log-log scale."
   ]
  },
  {
   "cell_type": "code",
   "execution_count": 7,
   "metadata": {},
   "outputs": [
    {
     "ename": "NameError",
     "evalue": "name 'spectrum' is not defined",
     "output_type": "error",
     "traceback": [
      "\u001b[1;31m---------------------------------------------------------------------------\u001b[0m",
      "\u001b[1;31mNameError\u001b[0m                                 Traceback (most recent call last)",
      "\u001b[1;32m<ipython-input-7-f6df6b3346f9>\u001b[0m in \u001b[0;36m<module>\u001b[1;34m\u001b[0m\n\u001b[1;32m----> 1\u001b[1;33m \u001b[0mspectrum\u001b[0m\u001b[1;33m.\u001b[0m\u001b[0mplot_power\u001b[0m\u001b[1;33m(\u001b[0m\u001b[0mcolor\u001b[0m\u001b[1;33m=\u001b[0m\u001b[1;34m'red'\u001b[0m\u001b[1;33m)\u001b[0m\u001b[1;33m\u001b[0m\u001b[1;33m\u001b[0m\u001b[0m\n\u001b[0m\u001b[0;32m      2\u001b[0m \u001b[0mspectrum2\u001b[0m\u001b[1;33m.\u001b[0m\u001b[0mplot_power\u001b[0m\u001b[1;33m(\u001b[0m\u001b[0mcolor\u001b[0m\u001b[1;33m=\u001b[0m\u001b[1;34m'blue'\u001b[0m\u001b[1;33m)\u001b[0m\u001b[1;33m\u001b[0m\u001b[1;33m\u001b[0m\u001b[0m\n\u001b[0;32m      3\u001b[0m thinkplot.config(xlabel='Frequency (Hz)',\n\u001b[0;32m      4\u001b[0m                  \u001b[0mylabel\u001b[0m\u001b[1;33m=\u001b[0m\u001b[1;34m'Amplitude'\u001b[0m\u001b[1;33m,\u001b[0m\u001b[1;33m\u001b[0m\u001b[1;33m\u001b[0m\u001b[0m\n\u001b[0;32m      5\u001b[0m                  \u001b[0mxscale\u001b[0m\u001b[1;33m=\u001b[0m\u001b[1;34m'log'\u001b[0m\u001b[1;33m,\u001b[0m\u001b[1;33m\u001b[0m\u001b[1;33m\u001b[0m\u001b[0m\n",
      "\u001b[1;31mNameError\u001b[0m: name 'spectrum' is not defined"
     ]
    }
   ],
   "source": [
    "spectrum.plot_power(color='red')\n",
    "spectrum2.plot_power(color='blue')\n",
    "thinkplot.config(xlabel='Frequency (Hz)',\n",
    "                 ylabel='Amplitude',\n",
    "                 xscale='log', \n",
    "                 yscale='log')"
   ]
  },
  {
   "cell_type": "markdown",
   "metadata": {},
   "source": [
    "So the structure seems to be consistent over time.\n",
    "\n",
    "We can also look at a spectrogram"
   ]
  },
  {
   "cell_type": "code",
   "execution_count": 8,
   "metadata": {},
   "outputs": [
    {
     "ename": "NameError",
     "evalue": "name 'segment' is not defined",
     "output_type": "error",
     "traceback": [
      "\u001b[1;31m---------------------------------------------------------------------------\u001b[0m",
      "\u001b[1;31mNameError\u001b[0m                                 Traceback (most recent call last)",
      "\u001b[1;32m<ipython-input-8-e28b7b3d530a>\u001b[0m in \u001b[0;36m<module>\u001b[1;34m\u001b[0m\n\u001b[1;32m----> 1\u001b[1;33m \u001b[0msegment\u001b[0m\u001b[1;33m.\u001b[0m\u001b[0mmake_spectrogram\u001b[0m\u001b[1;33m(\u001b[0m\u001b[1;36m1024\u001b[0m\u001b[1;33m)\u001b[0m\u001b[1;33m.\u001b[0m\u001b[0mplot\u001b[0m\u001b[1;33m(\u001b[0m\u001b[0mhigh\u001b[0m\u001b[1;33m=\u001b[0m\u001b[1;36m2000\u001b[0m\u001b[1;33m)\u001b[0m\u001b[1;33m\u001b[0m\u001b[1;33m\u001b[0m\u001b[0m\n\u001b[0m",
      "\u001b[1;31mNameError\u001b[0m: name 'segment' is not defined"
     ]
    }
   ],
   "source": [
    "segment.make_spectrogram(1024).plot(high=2000)"
   ]
  },
  {
   "cell_type": "code",
   "execution_count": 9,
   "metadata": {},
   "outputs": [
    {
     "ename": "NameError",
     "evalue": "name 'segment2' is not defined",
     "output_type": "error",
     "traceback": [
      "\u001b[1;31m---------------------------------------------------------------------------\u001b[0m",
      "\u001b[1;31mNameError\u001b[0m                                 Traceback (most recent call last)",
      "\u001b[1;32m<ipython-input-9-768dbe881f51>\u001b[0m in \u001b[0;36m<module>\u001b[1;34m\u001b[0m\n\u001b[1;32m----> 1\u001b[1;33m \u001b[0msegment2\u001b[0m\u001b[1;33m.\u001b[0m\u001b[0mmake_spectrogram\u001b[0m\u001b[1;33m(\u001b[0m\u001b[1;36m1024\u001b[0m\u001b[1;33m)\u001b[0m\u001b[1;33m.\u001b[0m\u001b[0mplot\u001b[0m\u001b[1;33m(\u001b[0m\u001b[0mhigh\u001b[0m\u001b[1;33m=\u001b[0m\u001b[1;36m2000\u001b[0m\u001b[1;33m)\u001b[0m\u001b[1;33m\u001b[0m\u001b[1;33m\u001b[0m\u001b[0m\n\u001b[0m",
      "\u001b[1;31mNameError\u001b[0m: name 'segment2' is not defined"
     ]
    }
   ],
   "source": [
    "segment2.make_spectrogram(1024).plot(high=2000)"
   ]
  },
  {
   "cell_type": "markdown",
   "metadata": {},
   "source": [
    "Within this segment, the overall amplitude drops off, but the mixture of frequencies seems consistent."
   ]
  },
  {
   "cell_type": "markdown",
   "metadata": {},
   "source": [
    "Exercise: In a noise signal, the mixture of frequencies changes over time. In the long run, we expect the power at all frequencies to be equal, but in any sample, the power at each frequency is random."
   ]
  },
  {
   "cell_type": "code",
   "execution_count": 10,
   "metadata": {},
   "outputs": [
    {
     "ename": "NameError",
     "evalue": "name 'wave' is not defined",
     "output_type": "error",
     "traceback": [
      "\u001b[1;31m---------------------------------------------------------------------------\u001b[0m",
      "\u001b[1;31mNameError\u001b[0m                                 Traceback (most recent call last)",
      "\u001b[1;32m<ipython-input-10-84a090004059>\u001b[0m in \u001b[0;36m<module>\u001b[1;34m\u001b[0m\n\u001b[0;32m      5\u001b[0m \"\"\"\n\u001b[0;32m      6\u001b[0m \u001b[1;31m# make a spectrogram and extract the spectrums\u001b[0m\u001b[1;33m\u001b[0m\u001b[1;33m\u001b[0m\u001b[1;33m\u001b[0m\u001b[0m\n\u001b[1;32m----> 7\u001b[1;33m \u001b[0mspectro\u001b[0m \u001b[1;33m=\u001b[0m \u001b[0mwave\u001b[0m\u001b[1;33m.\u001b[0m\u001b[0mmake_spectrogram\u001b[0m\u001b[1;33m(\u001b[0m\u001b[0mseg_length\u001b[0m\u001b[1;33m,\u001b[0m \u001b[0mwin_flag\u001b[0m\u001b[1;33m)\u001b[0m\u001b[1;33m\u001b[0m\u001b[1;33m\u001b[0m\u001b[0m\n\u001b[0m\u001b[0;32m      8\u001b[0m \u001b[0mspectrums\u001b[0m \u001b[1;33m=\u001b[0m \u001b[0mspectro\u001b[0m\u001b[1;33m.\u001b[0m\u001b[0mspec_map\u001b[0m\u001b[1;33m.\u001b[0m\u001b[0mvalues\u001b[0m\u001b[1;33m(\u001b[0m\u001b[1;33m)\u001b[0m\u001b[1;33m\u001b[0m\u001b[1;33m\u001b[0m\u001b[0m\n\u001b[0;32m      9\u001b[0m \u001b[1;33m\u001b[0m\u001b[0m\n",
      "\u001b[1;31mNameError\u001b[0m: name 'wave' is not defined"
     ]
    }
   ],
   "source": [
    "    \"\"\"Estimates the power spectrum of a noise wave.\n",
    "    \n",
    "    wave: Wave\n",
    "    seg_length: segment length\n",
    "    \"\"\"\n",
    "    # make a spectrogram and extract the spectrums\n",
    "    spectro = wave.make_spectrogram(seg_length, win_flag)\n",
    "    spectrums = spectro.spec_map.values()\n",
    "    \n",
    "    # extract the power array from each spectrum\n",
    "    psds = [spectrum.power for spectrum in spectrums]\n",
    "    \n",
    "    # compute the root mean power (which is like an amplitude)\n",
    "    hs = np.sqrt(sum(psds) / len(psds))\n",
    "    \n",
    "    fs = next(iter(spectrums)).fs  ## 這一行 我比較少用，值得研究一下....\n",
    "    \n",
    "    # make a Spectrum with the mean amplitudes\n",
    "    spectrum = thinkdsp.Spectrum(hs, fs, wave.framerate)\n",
    "    return spectrum"
   ]
  },
  {
   "cell_type": "markdown",
   "metadata": {},
   "source": [
    "bartlett_method makes a spectrogram and extracts spec_map, which maps from times to Spectrum objects. It computes the PSD for each spectrum, adds them up, and puts the results into a Spectrum object."
   ]
  },
  {
   "cell_type": "code",
   "execution_count": 13,
   "metadata": {},
   "outputs": [
    {
     "ename": "NameError",
     "evalue": "name 'bartlett_method' is not defined",
     "output_type": "error",
     "traceback": [
      "\u001b[1;31m---------------------------------------------------------------------------\u001b[0m",
      "\u001b[1;31mNameError\u001b[0m                                 Traceback (most recent call last)",
      "\u001b[1;32m<ipython-input-13-4c155ad40b62>\u001b[0m in \u001b[0;36m<module>\u001b[1;34m\u001b[0m\n\u001b[1;32m----> 1\u001b[1;33m \u001b[0mpsd\u001b[0m\u001b[1;33m=\u001b[0m  \u001b[0mbartlett_method\u001b[0m\u001b[1;33m(\u001b[0m\u001b[0msegment\u001b[0m\u001b[1;33m)\u001b[0m\u001b[1;33m\u001b[0m\u001b[1;33m\u001b[0m\u001b[0m\n\u001b[0m\u001b[0;32m      2\u001b[0m \u001b[0mpsd2\u001b[0m\u001b[1;33m=\u001b[0m \u001b[0mbartlett_method\u001b[0m\u001b[1;33m(\u001b[0m\u001b[0msegment2\u001b[0m\u001b[1;33m)\u001b[0m\u001b[1;33m\u001b[0m\u001b[1;33m\u001b[0m\u001b[0m\n\u001b[0;32m      3\u001b[0m \u001b[1;33m\u001b[0m\u001b[0m\n\u001b[0;32m      4\u001b[0m \u001b[0mpsd\u001b[0m\u001b[1;33m.\u001b[0m\u001b[0mplot_power\u001b[0m\u001b[1;33m(\u001b[0m\u001b[0mcolor\u001b[0m\u001b[1;33m=\u001b[0m\u001b[1;34m'red'\u001b[0m\u001b[1;33m)\u001b[0m\u001b[1;33m\u001b[0m\u001b[1;33m\u001b[0m\u001b[0m\n\u001b[0;32m      5\u001b[0m \u001b[0mpsd2\u001b[0m\u001b[1;33m.\u001b[0m\u001b[0mplot_power\u001b[0m\u001b[1;33m(\u001b[0m\u001b[0mcolor\u001b[0m\u001b[1;33m=\u001b[0m\u001b[1;34m'blue'\u001b[0m\u001b[1;33m)\u001b[0m\u001b[1;33m\u001b[0m\u001b[1;33m\u001b[0m\u001b[0m\n",
      "\u001b[1;31mNameError\u001b[0m: name 'bartlett_method' is not defined"
     ]
    }
   ],
   "source": [
    "psd=  bartlett_method(segment)\n",
    "psd2= bartlett_method(segment2)\n",
    "\n",
    "psd.plot_power(color='red')\n",
    "psd2.plot_power(color='blue')\n",
    "\n",
    "thinkplot.config(xlabel='Frequency (Hz)', \n",
    "                 ylabel='Power', \n",
    "                 xscale='log', \n",
    "                 yscale='log')"
   ]
  },
  {
   "cell_type": "markdown",
   "metadata": {},
   "source": [
    "Now we can see the relationship between power and frequency more clearly. It is not a simple linear relationship, but it is consistent across different segments, even in details like the notches near 5000 Hz, 6000 Hz, and above 10,000 Hz."
   ]
  },
  {
   "cell_type": "markdown",
   "metadata": {},
   "source": [
    "Exercise: At http://www.coindesk.com you can download the daily price of a BitCoin as a CSV file. Read this file and compute the spectrum of BitCoin prices as a function of time. Does it resemble white, pink, or Brownian noise?"
   ]
  },
  {
   "cell_type": "code",
   "execution_count": 12,
   "metadata": {},
   "outputs": [],
   "source": [
    "ryCsv=  'BTC_USD_2013-10-01_2020-04-30-CoinDesk.csv'"
   ]
  },
  {
   "cell_type": "code",
   "execution_count": 14,
   "metadata": {},
   "outputs": [
    {
     "ename": "FileNotFoundError",
     "evalue": "[Errno 2] File b'BTC_USD_2013-10-01_2020-04-30-CoinDesk.csv' does not exist: b'BTC_USD_2013-10-01_2020-04-30-CoinDesk.csv'",
     "output_type": "error",
     "traceback": [
      "\u001b[1;31m---------------------------------------------------------------------------\u001b[0m",
      "\u001b[1;31mFileNotFoundError\u001b[0m                         Traceback (most recent call last)",
      "\u001b[1;32m<ipython-input-14-4193103f110e>\u001b[0m in \u001b[0;36m<module>\u001b[1;34m\u001b[0m\n\u001b[1;32m----> 1\u001b[1;33m \u001b[0mdf\u001b[0m \u001b[1;33m=\u001b[0m \u001b[0mpd\u001b[0m\u001b[1;33m.\u001b[0m\u001b[0mread_csv\u001b[0m\u001b[1;33m(\u001b[0m\u001b[0mryCsv\u001b[0m\u001b[1;33m)\u001b[0m \u001b[1;31m#, nrows=1625, parse_dates=[0])\u001b[0m\u001b[1;33m\u001b[0m\u001b[1;33m\u001b[0m\u001b[0m\n\u001b[0m\u001b[0;32m      2\u001b[0m \u001b[0mdf\u001b[0m\u001b[1;33m.\u001b[0m\u001b[0mhead\u001b[0m\u001b[1;33m(\u001b[0m\u001b[1;33m)\u001b[0m\u001b[1;33m\u001b[0m\u001b[1;33m\u001b[0m\u001b[0m\n",
      "\u001b[1;32m~\\Anaconda3\\envs\\grace87\\lib\\site-packages\\pandas\\io\\parsers.py\u001b[0m in \u001b[0;36mparser_f\u001b[1;34m(filepath_or_buffer, sep, delimiter, header, names, index_col, usecols, squeeze, prefix, mangle_dupe_cols, dtype, engine, converters, true_values, false_values, skipinitialspace, skiprows, skipfooter, nrows, na_values, keep_default_na, na_filter, verbose, skip_blank_lines, parse_dates, infer_datetime_format, keep_date_col, date_parser, dayfirst, iterator, chunksize, compression, thousands, decimal, lineterminator, quotechar, quoting, doublequote, escapechar, comment, encoding, dialect, tupleize_cols, error_bad_lines, warn_bad_lines, delim_whitespace, low_memory, memory_map, float_precision)\u001b[0m\n\u001b[0;32m    700\u001b[0m                     skip_blank_lines=skip_blank_lines)\n\u001b[0;32m    701\u001b[0m \u001b[1;33m\u001b[0m\u001b[0m\n\u001b[1;32m--> 702\u001b[1;33m         \u001b[1;32mreturn\u001b[0m \u001b[0m_read\u001b[0m\u001b[1;33m(\u001b[0m\u001b[0mfilepath_or_buffer\u001b[0m\u001b[1;33m,\u001b[0m \u001b[0mkwds\u001b[0m\u001b[1;33m)\u001b[0m\u001b[1;33m\u001b[0m\u001b[1;33m\u001b[0m\u001b[0m\n\u001b[0m\u001b[0;32m    703\u001b[0m \u001b[1;33m\u001b[0m\u001b[0m\n\u001b[0;32m    704\u001b[0m     \u001b[0mparser_f\u001b[0m\u001b[1;33m.\u001b[0m\u001b[0m__name__\u001b[0m \u001b[1;33m=\u001b[0m \u001b[0mname\u001b[0m\u001b[1;33m\u001b[0m\u001b[1;33m\u001b[0m\u001b[0m\n",
      "\u001b[1;32m~\\Anaconda3\\envs\\grace87\\lib\\site-packages\\pandas\\io\\parsers.py\u001b[0m in \u001b[0;36m_read\u001b[1;34m(filepath_or_buffer, kwds)\u001b[0m\n\u001b[0;32m    427\u001b[0m \u001b[1;33m\u001b[0m\u001b[0m\n\u001b[0;32m    428\u001b[0m     \u001b[1;31m# Create the parser.\u001b[0m\u001b[1;33m\u001b[0m\u001b[1;33m\u001b[0m\u001b[1;33m\u001b[0m\u001b[0m\n\u001b[1;32m--> 429\u001b[1;33m     \u001b[0mparser\u001b[0m \u001b[1;33m=\u001b[0m \u001b[0mTextFileReader\u001b[0m\u001b[1;33m(\u001b[0m\u001b[0mfilepath_or_buffer\u001b[0m\u001b[1;33m,\u001b[0m \u001b[1;33m**\u001b[0m\u001b[0mkwds\u001b[0m\u001b[1;33m)\u001b[0m\u001b[1;33m\u001b[0m\u001b[1;33m\u001b[0m\u001b[0m\n\u001b[0m\u001b[0;32m    430\u001b[0m \u001b[1;33m\u001b[0m\u001b[0m\n\u001b[0;32m    431\u001b[0m     \u001b[1;32mif\u001b[0m \u001b[0mchunksize\u001b[0m \u001b[1;32mor\u001b[0m \u001b[0miterator\u001b[0m\u001b[1;33m:\u001b[0m\u001b[1;33m\u001b[0m\u001b[1;33m\u001b[0m\u001b[0m\n",
      "\u001b[1;32m~\\Anaconda3\\envs\\grace87\\lib\\site-packages\\pandas\\io\\parsers.py\u001b[0m in \u001b[0;36m__init__\u001b[1;34m(self, f, engine, **kwds)\u001b[0m\n\u001b[0;32m    893\u001b[0m             \u001b[0mself\u001b[0m\u001b[1;33m.\u001b[0m\u001b[0moptions\u001b[0m\u001b[1;33m[\u001b[0m\u001b[1;34m'has_index_names'\u001b[0m\u001b[1;33m]\u001b[0m \u001b[1;33m=\u001b[0m \u001b[0mkwds\u001b[0m\u001b[1;33m[\u001b[0m\u001b[1;34m'has_index_names'\u001b[0m\u001b[1;33m]\u001b[0m\u001b[1;33m\u001b[0m\u001b[1;33m\u001b[0m\u001b[0m\n\u001b[0;32m    894\u001b[0m \u001b[1;33m\u001b[0m\u001b[0m\n\u001b[1;32m--> 895\u001b[1;33m         \u001b[0mself\u001b[0m\u001b[1;33m.\u001b[0m\u001b[0m_make_engine\u001b[0m\u001b[1;33m(\u001b[0m\u001b[0mself\u001b[0m\u001b[1;33m.\u001b[0m\u001b[0mengine\u001b[0m\u001b[1;33m)\u001b[0m\u001b[1;33m\u001b[0m\u001b[1;33m\u001b[0m\u001b[0m\n\u001b[0m\u001b[0;32m    896\u001b[0m \u001b[1;33m\u001b[0m\u001b[0m\n\u001b[0;32m    897\u001b[0m     \u001b[1;32mdef\u001b[0m \u001b[0mclose\u001b[0m\u001b[1;33m(\u001b[0m\u001b[0mself\u001b[0m\u001b[1;33m)\u001b[0m\u001b[1;33m:\u001b[0m\u001b[1;33m\u001b[0m\u001b[1;33m\u001b[0m\u001b[0m\n",
      "\u001b[1;32m~\\Anaconda3\\envs\\grace87\\lib\\site-packages\\pandas\\io\\parsers.py\u001b[0m in \u001b[0;36m_make_engine\u001b[1;34m(self, engine)\u001b[0m\n\u001b[0;32m   1120\u001b[0m     \u001b[1;32mdef\u001b[0m \u001b[0m_make_engine\u001b[0m\u001b[1;33m(\u001b[0m\u001b[0mself\u001b[0m\u001b[1;33m,\u001b[0m \u001b[0mengine\u001b[0m\u001b[1;33m=\u001b[0m\u001b[1;34m'c'\u001b[0m\u001b[1;33m)\u001b[0m\u001b[1;33m:\u001b[0m\u001b[1;33m\u001b[0m\u001b[1;33m\u001b[0m\u001b[0m\n\u001b[0;32m   1121\u001b[0m         \u001b[1;32mif\u001b[0m \u001b[0mengine\u001b[0m \u001b[1;33m==\u001b[0m \u001b[1;34m'c'\u001b[0m\u001b[1;33m:\u001b[0m\u001b[1;33m\u001b[0m\u001b[1;33m\u001b[0m\u001b[0m\n\u001b[1;32m-> 1122\u001b[1;33m             \u001b[0mself\u001b[0m\u001b[1;33m.\u001b[0m\u001b[0m_engine\u001b[0m \u001b[1;33m=\u001b[0m \u001b[0mCParserWrapper\u001b[0m\u001b[1;33m(\u001b[0m\u001b[0mself\u001b[0m\u001b[1;33m.\u001b[0m\u001b[0mf\u001b[0m\u001b[1;33m,\u001b[0m \u001b[1;33m**\u001b[0m\u001b[0mself\u001b[0m\u001b[1;33m.\u001b[0m\u001b[0moptions\u001b[0m\u001b[1;33m)\u001b[0m\u001b[1;33m\u001b[0m\u001b[1;33m\u001b[0m\u001b[0m\n\u001b[0m\u001b[0;32m   1123\u001b[0m         \u001b[1;32melse\u001b[0m\u001b[1;33m:\u001b[0m\u001b[1;33m\u001b[0m\u001b[1;33m\u001b[0m\u001b[0m\n\u001b[0;32m   1124\u001b[0m             \u001b[1;32mif\u001b[0m \u001b[0mengine\u001b[0m \u001b[1;33m==\u001b[0m \u001b[1;34m'python'\u001b[0m\u001b[1;33m:\u001b[0m\u001b[1;33m\u001b[0m\u001b[1;33m\u001b[0m\u001b[0m\n",
      "\u001b[1;32m~\\Anaconda3\\envs\\grace87\\lib\\site-packages\\pandas\\io\\parsers.py\u001b[0m in \u001b[0;36m__init__\u001b[1;34m(self, src, **kwds)\u001b[0m\n\u001b[0;32m   1851\u001b[0m         \u001b[0mkwds\u001b[0m\u001b[1;33m[\u001b[0m\u001b[1;34m'usecols'\u001b[0m\u001b[1;33m]\u001b[0m \u001b[1;33m=\u001b[0m \u001b[0mself\u001b[0m\u001b[1;33m.\u001b[0m\u001b[0musecols\u001b[0m\u001b[1;33m\u001b[0m\u001b[1;33m\u001b[0m\u001b[0m\n\u001b[0;32m   1852\u001b[0m \u001b[1;33m\u001b[0m\u001b[0m\n\u001b[1;32m-> 1853\u001b[1;33m         \u001b[0mself\u001b[0m\u001b[1;33m.\u001b[0m\u001b[0m_reader\u001b[0m \u001b[1;33m=\u001b[0m \u001b[0mparsers\u001b[0m\u001b[1;33m.\u001b[0m\u001b[0mTextReader\u001b[0m\u001b[1;33m(\u001b[0m\u001b[0msrc\u001b[0m\u001b[1;33m,\u001b[0m \u001b[1;33m**\u001b[0m\u001b[0mkwds\u001b[0m\u001b[1;33m)\u001b[0m\u001b[1;33m\u001b[0m\u001b[1;33m\u001b[0m\u001b[0m\n\u001b[0m\u001b[0;32m   1854\u001b[0m         \u001b[0mself\u001b[0m\u001b[1;33m.\u001b[0m\u001b[0munnamed_cols\u001b[0m \u001b[1;33m=\u001b[0m \u001b[0mself\u001b[0m\u001b[1;33m.\u001b[0m\u001b[0m_reader\u001b[0m\u001b[1;33m.\u001b[0m\u001b[0munnamed_cols\u001b[0m\u001b[1;33m\u001b[0m\u001b[1;33m\u001b[0m\u001b[0m\n\u001b[0;32m   1855\u001b[0m \u001b[1;33m\u001b[0m\u001b[0m\n",
      "\u001b[1;32mpandas/_libs/parsers.pyx\u001b[0m in \u001b[0;36mpandas._libs.parsers.TextReader.__cinit__\u001b[1;34m()\u001b[0m\n",
      "\u001b[1;32mpandas/_libs/parsers.pyx\u001b[0m in \u001b[0;36mpandas._libs.parsers.TextReader._setup_parser_source\u001b[1;34m()\u001b[0m\n",
      "\u001b[1;31mFileNotFoundError\u001b[0m: [Errno 2] File b'BTC_USD_2013-10-01_2020-04-30-CoinDesk.csv' does not exist: b'BTC_USD_2013-10-01_2020-04-30-CoinDesk.csv'"
     ]
    }
   ],
   "source": [
    "df = pd.read_csv(ryCsv) #, nrows=1625, parse_dates=[0])\n",
    "df.head()"
   ]
  },
  {
   "cell_type": "code",
   "execution_count": 15,
   "metadata": {},
   "outputs": [
    {
     "ename": "NameError",
     "evalue": "name 'df' is not defined",
     "output_type": "error",
     "traceback": [
      "\u001b[1;31m---------------------------------------------------------------------------\u001b[0m",
      "\u001b[1;31mNameError\u001b[0m                                 Traceback (most recent call last)",
      "\u001b[1;32m<ipython-input-15-b666bf274d0a>\u001b[0m in \u001b[0;36m<module>\u001b[1;34m\u001b[0m\n\u001b[1;32m----> 1\u001b[1;33m \u001b[0mdf\u001b[0m\u001b[1;33m.\u001b[0m\u001b[0mcolumns\u001b[0m\u001b[1;33m\u001b[0m\u001b[1;33m\u001b[0m\u001b[0m\n\u001b[0m",
      "\u001b[1;31mNameError\u001b[0m: name 'df' is not defined"
     ]
    }
   ],
   "source": [
    "df.columns"
   ]
  },
  {
   "cell_type": "code",
   "execution_count": 16,
   "metadata": {},
   "outputs": [
    {
     "ename": "NameError",
     "evalue": "name 'df' is not defined",
     "output_type": "error",
     "traceback": [
      "\u001b[1;31m---------------------------------------------------------------------------\u001b[0m",
      "\u001b[1;31mNameError\u001b[0m                                 Traceback (most recent call last)",
      "\u001b[1;32m<ipython-input-16-4e1cec0208a4>\u001b[0m in \u001b[0;36m<module>\u001b[1;34m\u001b[0m\n\u001b[1;32m----> 1\u001b[1;33m \u001b[0mys\u001b[0m \u001b[1;33m=\u001b[0m \u001b[0mdf\u001b[0m\u001b[1;33m[\u001b[0m\u001b[1;34m'Closing Price (USD)'\u001b[0m\u001b[1;33m]\u001b[0m\u001b[1;33m.\u001b[0m\u001b[0mvalues\u001b[0m\u001b[1;33m\u001b[0m\u001b[1;33m\u001b[0m\u001b[0m\n\u001b[0m\u001b[0;32m      2\u001b[0m \u001b[0mts\u001b[0m \u001b[1;33m=\u001b[0m \u001b[0mnp\u001b[0m\u001b[1;33m.\u001b[0m\u001b[0marange\u001b[0m\u001b[1;33m(\u001b[0m\u001b[0mlen\u001b[0m\u001b[1;33m(\u001b[0m\u001b[0mys\u001b[0m\u001b[1;33m)\u001b[0m\u001b[1;33m)\u001b[0m \u001b[1;31m#df['Date'].values\u001b[0m\u001b[1;33m\u001b[0m\u001b[1;33m\u001b[0m\u001b[0m\n",
      "\u001b[1;31mNameError\u001b[0m: name 'df' is not defined"
     ]
    }
   ],
   "source": [
    "ys = df['Closing Price (USD)'].values\n",
    "ts = np.arange(len(ys)) #df['Date'].values"
   ]
  },
  {
   "cell_type": "code",
   "execution_count": 17,
   "metadata": {},
   "outputs": [
    {
     "ename": "NameError",
     "evalue": "name 'ys' is not defined",
     "output_type": "error",
     "traceback": [
      "\u001b[1;31m---------------------------------------------------------------------------\u001b[0m",
      "\u001b[1;31mNameError\u001b[0m                                 Traceback (most recent call last)",
      "\u001b[1;32m<ipython-input-17-c7be525bfb0e>\u001b[0m in \u001b[0;36m<module>\u001b[1;34m\u001b[0m\n\u001b[1;32m----> 1\u001b[1;33m \u001b[0mwave\u001b[0m \u001b[1;33m=\u001b[0m \u001b[0mthinkdsp\u001b[0m\u001b[1;33m.\u001b[0m\u001b[0mWave\u001b[0m\u001b[1;33m(\u001b[0m\u001b[0mys\u001b[0m\u001b[1;33m,\u001b[0m \u001b[0mts\u001b[0m\u001b[1;33m,\u001b[0m \u001b[0mframerate\u001b[0m\u001b[1;33m=\u001b[0m\u001b[1;36m1\u001b[0m\u001b[1;33m)\u001b[0m\u001b[1;33m\u001b[0m\u001b[1;33m\u001b[0m\u001b[0m\n\u001b[0m\u001b[0;32m      2\u001b[0m \u001b[0mwave\u001b[0m\u001b[1;33m.\u001b[0m\u001b[0mplot\u001b[0m\u001b[1;33m(\u001b[0m\u001b[1;33m)\u001b[0m\u001b[1;33m\u001b[0m\u001b[1;33m\u001b[0m\u001b[0m\n\u001b[0;32m      3\u001b[0m \u001b[0mthinkplot\u001b[0m\u001b[1;33m.\u001b[0m\u001b[0mconfig\u001b[0m\u001b[1;33m(\u001b[0m\u001b[0mylabel\u001b[0m\u001b[1;33m=\u001b[0m\u001b[1;34m'Closing Price (USD)'\u001b[0m\u001b[1;33m)\u001b[0m\u001b[1;33m\u001b[0m\u001b[1;33m\u001b[0m\u001b[0m\n\u001b[0;32m      4\u001b[0m \u001b[0mthinkplot\u001b[0m\u001b[1;33m.\u001b[0m\u001b[0mconfig\u001b[0m\u001b[1;33m(\u001b[0m\u001b[0mxlabel\u001b[0m\u001b[1;33m=\u001b[0m\u001b[1;34m'days'\u001b[0m\u001b[1;33m)\u001b[0m \u001b[1;31m#'Time (days)')\u001b[0m\u001b[1;33m\u001b[0m\u001b[1;33m\u001b[0m\u001b[0m\n",
      "\u001b[1;31mNameError\u001b[0m: name 'ys' is not defined"
     ]
    }
   ],
   "source": [
    "wave = thinkdsp.Wave(ys, ts, framerate=1)\n",
    "wave.plot()\n",
    "thinkplot.config(ylabel='Closing Price (USD)')\n",
    "thinkplot.config(xlabel='days') #'Time (days)')"
   ]
  },
  {
   "cell_type": "code",
   "execution_count": 18,
   "metadata": {},
   "outputs": [
    {
     "ename": "NameError",
     "evalue": "name 'spectrum' is not defined",
     "output_type": "error",
     "traceback": [
      "\u001b[1;31m---------------------------------------------------------------------------\u001b[0m",
      "\u001b[1;31mNameError\u001b[0m                                 Traceback (most recent call last)",
      "\u001b[1;32m<ipython-input-18-89b3cd569b14>\u001b[0m in \u001b[0;36m<module>\u001b[1;34m\u001b[0m\n\u001b[1;32m----> 1\u001b[1;33m \u001b[0mspectrum\u001b[0m\u001b[1;33m.\u001b[0m\u001b[0mplot_power\u001b[0m\u001b[1;33m(\u001b[0m\u001b[1;33m)\u001b[0m\u001b[1;33m\u001b[0m\u001b[1;33m\u001b[0m\u001b[0m\n\u001b[0m\u001b[0;32m      2\u001b[0m thinkplot.config(xlabel='Frequency (1/days)',\n\u001b[0;32m      3\u001b[0m                  xscale='log', yscale='log')\n",
      "\u001b[1;31mNameError\u001b[0m: name 'spectrum' is not defined"
     ]
    }
   ],
   "source": [
    "spectrum.plot_power()\n",
    "thinkplot.config(xlabel='Frequency (1/days)',\n",
    "                 xscale='log', yscale='log')"
   ]
  },
  {
   "cell_type": "markdown",
   "metadata": {},
   "source": [
    "The slope is -1.8, which is similar to red noise (which should have a slope of -2)"
   ]
  },
  {
   "cell_type": "code",
   "execution_count": 19,
   "metadata": {},
   "outputs": [
    {
     "ename": "NameError",
     "evalue": "name 'spectrum' is not defined",
     "output_type": "error",
     "traceback": [
      "\u001b[1;31m---------------------------------------------------------------------------\u001b[0m",
      "\u001b[1;31mNameError\u001b[0m                                 Traceback (most recent call last)",
      "\u001b[1;32m<ipython-input-19-ac480d44e032>\u001b[0m in \u001b[0;36m<module>\u001b[1;34m\u001b[0m\n\u001b[1;32m----> 1\u001b[1;33m \u001b[0mspectrum\u001b[0m\u001b[1;33m.\u001b[0m\u001b[0mestimate_slope\u001b[0m\u001b[1;33m(\u001b[0m\u001b[1;33m)\u001b[0m\u001b[1;33m\u001b[0m\u001b[1;33m\u001b[0m\u001b[0m\n\u001b[0m",
      "\u001b[1;31mNameError\u001b[0m: name 'spectrum' is not defined"
     ]
    }
   ],
   "source": [
    "spectrum.estimate_slope()"
   ]
  },
  {
   "cell_type": "markdown",
   "metadata": {},
   "source": [
    "Exercise: A Geiger counter is a device that detects radiation. When an ionizing particle strikes the detector, it outputs a surge of current. The total output at a point in time can be modeled as uncorrelated Poisson (UP) noise, where each sample is a random quantity from a Poisson distribution, which corresponds to the number of particles detected during an interval.\n",
    "\n",
    "Write a class called UncorrelatedPoissonNoise that inherits from thinkdsp._Noise and provides evaluate. It should use np.random.poisson to generate random values from a Poisson distribution. The parameter of this function, lam, is the average number of particles during each interval. You can use the attribute amp to specify lam. For example, if the framerate is 10 kHz and amp is 0.001, we expect about 10 “clicks” per second.\n",
    "\n",
    "Generate about a second of UP noise and listen to it. For low values of amp, like 0.001, it should sound like a Geiger counter. For higher values it should sound like white noise. Compute and plot the power spectrum to see whether it looks like white noise."
   ]
  },
  {
   "cell_type": "code",
   "execution_count": 20,
   "metadata": {},
   "outputs": [],
   "source": [
    "class UncorrelatedPoissonNoise(thinkdsp._Noise):\n",
    "    \"\"\"Represents uncorrelated Poisson noise.\"\"\"\n",
    "\n",
    "    def evaluate(self, ts):\n",
    "        \"\"\"Evaluates the signal at the given times.\n",
    "\n",
    "        ts: float array of times\n",
    "        \n",
    "        returns: float wave array\n",
    "        \"\"\"\n",
    "        ys = np.random.poisson(lam= self.amp, size= len(ts))\n",
    "        return ys"
   ]
  },
  {
   "cell_type": "code",
   "execution_count": 21,
   "metadata": {},
   "outputs": [
    {
     "data": {
      "text/plain": [
       "(10.24,\n",
       " 10.2424,\n",
       " 9.65,\n",
       " 11.387499999999998,\n",
       " array([ 6, 12,  3,  9, 16,  8, 13,  7,  8,  9, 11,  3, 15, 12,  7,  9,  8,\n",
       "         7, 12, 14, 10, 12,  7, 13, 11,  8, 12,  8,  9, 12,  9, 10, 14, 13,\n",
       "        11,  6, 10,  8, 14,  7,  9,  9, 13,  9, 12,  8, 11,  9,  6, 10, 16,\n",
       "        12, 17, 10,  7, 13, 10,  7,  6, 10, 11,  8,  5,  6,  6, 10, 14, 14,\n",
       "        18,  7, 10, 11,  6, 13, 13,  8, 16, 12, 12, 14, 11,  7, 14,  9, 12,\n",
       "        14, 14, 12,  8, 15, 10, 10, 13, 16, 11,  7,  3,  7,  7, 13]),\n",
       " array([12,  3,  9, 11, 12, 18, 12,  5,  9, 11,  8,  5, 13,  9,  9, 10,  6,\n",
       "        22, 11, 10, 12, 13,  7,  6, 14, 10,  8, 15,  6,  6, 12, 13,  5, 13,\n",
       "        16,  9, 10,  9, 12,  7,  7,  8,  9,  9,  6, 13, 10,  9, 12,  8, 12,\n",
       "         6, 11, 11,  7,  5,  7, 14,  9, 11, 10, 12,  8,  5, 10,  6,  9,  7,\n",
       "        11, 13, 10, 13, 11, 10,  7, 12,  9, 10, 13, 16, 11,  8, 10, 13, 11,\n",
       "        13,  4,  4, 14, 15, 10,  7, 11,  8,  4,  2,  6,  4,  9,  7]))"
      ]
     },
     "execution_count": 21,
     "metadata": {},
     "output_type": "execute_result"
    }
   ],
   "source": [
    "#np.random.poisson??\n",
    "import numpy as np\n",
    "import scipy.stats as st\n",
    "\n",
    "#np.random.seed(1)\n",
    "X1= np.random.poisson(lam= 10,size= 100)\n",
    "\n",
    "#np.random.seed(0)\n",
    "X2= st.poisson.rvs(mu= 10, size= 100)\n",
    "\n",
    "\n",
    "\n",
    "X1.mean(), X1.var(), \\\n",
    "X2.mean(), X2.var(), \\\n",
    "X1, X2"
   ]
  },
  {
   "cell_type": "markdown",
   "metadata": {},
   "source": [
    "Here's what it sounds like at low levels of \"radiation\"."
   ]
  },
  {
   "cell_type": "code",
   "execution_count": 22,
   "metadata": {},
   "outputs": [
    {
     "data": {
      "text/html": [
       "\n",
       "                <audio  controls=\"controls\" >\n",
       "                    <source src=\"data:audio/wav;base64,UklGRkROAABXQVZFZm10IBAAAAABAAEAECcAACBOAAACABAAZGF0YSBOAAAAAAAAAAAAAAAAAAAAAAAAAAAAAAAAAAAAAAAAAAAAAAAAAAAAAAAAAAAAAAAAAAAAAAAAAAAAAAAAAAAAAAAAAAAAAAAAAAAAAAAAAAAAAAAAAAAAAAAAAAAAAAAAAAAAAAAAAAAAAAAAAAAAAAAAAAAAAAAAAAAAAAAAAAAAAAAAAAAAAAAAAAAAAAAAAAAAAAAAAAAAAAAAAAAAAAAAAAAAAAAAAAAAAAAAAAAAAAAAAAAAAAAAAAAAAAAAAAAAAAAAAAAAAAAAAAAAAAAAAAAAAAAAAAAAAAAAAAAAAAAAAAAAAAAAAAAAAAAAAAAAAAAAAAAAAAAAAAAAAAAAAAAAAAAAAAAAAAAAAAAAAAAAAAAAAAAAAAAAAAAAAAAAAAAAAAAAAAAAAAAAAAAAAAAAAAAAAAAAAAAAAAAAAAAAAAAAAAAAAAAAAAAAAAAAAAAAAAAAAAAAAAAAAAAAAAAAAAAAAAAAAAAAAAAAAAAAAAAAAAAAAAAAAAAAAAAAAAAAAAAAAAAAAAAAAAAAAAAAAAAAAAAAAAAAAAAAAAAAAAAAAAAAAAAAAAAAAAAAAAAAAAAAAAAAAAAAAAAAAAAAAAAAAAAAAAAAAAAAAAAAAAAAAAAAAAAAAAAAAAAAAAAAAAAAAAAAAAAAAAAAAAAAAAAAAAAAAAAAAAAAAAAAAAAAAAAAAAAAAAAAAAAAAAAAAAAAAAAAAAAAAAAAAAAAAAAAAAAAAAAAAAAAAAAAAAAAAAAAAAAAAAAAAAAAAAAAAAAAAAAAAAAAAAAAAAAAAAAAAAAAAAAAAAAAAAAAAAAAAAAAAAAAAAAAAAAAAAAAAAAAAAAAAAAAAAAAAAAAAAAAAAAAAAAAAAAAAAAAAAAAAAAAAAAAAAAAAAAAAAAAAAAAAAAAAAAAAAAAAAAAAAAAAAAAAAAAAAAAAAAAAAAAAAAAAAAAAAAAAAAAAAAAAAAAAAAAAAAAAAAAAAAAAAAAAAAAAAAAAAAAAAAAAAAAAAAAAAAAAAAAAAAAAAAAAAAAAAAAAAAAAAAAAAAAAAAAAAAAAAAAAAAAAAAAAAAAAAAAAAAAAAAAAAAAAAAAAAAAAAAAAAAAAAAAAAAAAAAAAAAAAAAAAAAAAAAAAAAAAAAAAAAAAAAAAAAAAAAAAAAAAAAAAAAAAAAAAAAAAAAAAAAAAAAAAAAAAAAAAAAAAAAAAAAAAAAAAAAAAAAAAAAAAAAAAAAAAAAAAAAAAAAAAAAAAAAAAAAAAAAAAAAAAAAAAAAAAAAAAAAAAAAAAAAAAAAAAAAAAAAAAAAAAAAAAAAAAAAAAAAAAAAAAAAAAAAAAAAAAAAAAAAAAAAAAAAAAAAAAAAAAAAAAAAAAAAAAAAAAAAAAAAAAAAAAAAAAAAAAAAAAAAAAAAAAAAAAAAAAAAAAAAAAAAAAAAAAAAAAAAAAAAAAAAAAAAAAAAAAAAAAAAAAAAAAAAAAAAAAAAAAAAAAAAAAAAAAAAAAAAAAAAAAAAAAAAAAAAAAAAAAAAAAAAAAAAAAAAAAAAAAAAAAAAAAAAAAAAAAAAAAAAAAAAAAAAAAAAAAAAAAAAAAAAAAAAAAAAAAAAAAAAAAAAAAAAAAAAAAAAAAAAAAAAAAAAAAAAAAAAAAAAAAAAAAAAAAAAAAAAAAAAAAAAAAAAAAAAAAAAAAAAAAAAAAAAAAAAAAAAAAAAAAAAAAAAAAAAAAAAAAAAAAAAAAAAAAAAAAAAAAAAAAAAAAAAAAAAAAAAAAAAAAAAAAAAAAAAAAAAAAAAAAAAAAAAAAAAAAAAAAAAAAAAAAAAAAAAAAAAAAAAAAAAAAAAAAAAAAAAAAAAAAAAAAAAAAAAAAAAAAAAAAAAAAAAAAAAAAAAAAAAAAAAAAAAAAAAAAAAAAAAAAAAAAAAAAAAAAAAAAAAAAAAAAAAAAAAAAAAAAAAAAAAAAAAAAAAAAAAAAAAAAAAAAAAAAAAAAAAAAAAAAAAAAAAAAAAAAAAAAAAAAAAAAAAAAAAAAAAAAAAAAAAAAAAAAAAAAAAAAAAAAAAAAAAAAAAAAAAAAAAAAAAAAAAAAAAAAAAAAAAAAAAAAAAAAAAAAAAAAAAAAAAAAAAAAAAAAAAAAAAAAAAAAAAAAAAAAAAAAAAAAAAAAAAAAAAAAAAAAAAAAAAAAAAAAAAAAAAAAAAAAAAAAAAAAAAAAAAAAAAAAAAAAAAAAAAAAAAAAAAAAAAAAAAAAAAAAAAAAAAAAAAAAAAAAAAAAAAAAAAAAAAAAAAAAAAAAAAAAAAAAAAAAAAAAAAAAAAAAAAAAAAAAAAAAAAAAAAAAAAAAAAAAAAAAAAAAAAAAAAAAAAAAAAAAAAAAAAAAAAAAAAAAAAAAAAAAAAAAAAAAAAAAAAAAAAAAAAAAAAAAAAAAAAAAAAAAAAAAAAAAAAAAAAAAAAAAAAAAAAAAAAAAAAAAAAAAAAAAAAAAAAAAAAAAAAAAAAAAAAAAAAAAAAAAAAAAAAAAAAAAAAAAAAAAAAAAAAAAAAAAAAAAAAAAAAAAAAAAAAAAAAAAAAAAAAAAAAAAAAAAAAAAAAAAAAAAAAAAAAAAAAAAAAAAAAAAAAAAAAAAAAAAAAAAAAAAAAAAAAAAAAAAAAAAAAAAAAAAAAAAAAAAAAAAAAAAAAAAAAAAAAAAAAAAAAAAAAAAAAAAAAAAAAAAAAAAAAAAAAAAAAAAAAAAAAAAAAAAAAAAAAAAAAAAAAAAAAAAAAAAAAAAAAAAAAAAAAAAAAAAAAAAAAAAAAAAAAAAAAAAAAAAAAAAAAAAAAAAAAAAAAAAAAAAAAAAAAAAAAAAAAAAAAAAAAAAAAAAAAAAAAAAAAAAAAAAAAAAAAAAAAAAAAAAAAAAAAAAAAAAAAAAAAAAAAAAAAAAAAAAAAAAAAAAAAAAAAAAAAAAAAAAAAAAAAAAAAAAAAAAAAAAAAAAAAAAAAAAAAAAAAAAAAAAAAAAAAAAAAAAAAAAAAAAAAAAAAAAAAAAAAAAAAAAAAAAAAAAAAAAAAAAAAAAAAAAAAAAAAAAAAAAAAAAAAAAAAAAAAAAAAAAAAAAAAAAAAAAAAAAAAAAAAAAAAAAAAAAAAAAAAAAAAAAAAAAAAAAAAAAAAAAAAAAAAAAAAAAAAAAAAAAAAAAAAAAAAAAAAAAAAAAAAAAAAAAAAAAAAAAAAAAAAAAAAAAAAAAAAAAAAAAAAAAAAAAAAAAAAAAAAAAAAAAAAAAAAAAAAAAAAAAAAAAAAAAAAAAAAAAAAAAAAAAAAAAAAAAAAAAAAAAAAAAAAAAAAAAAAAAAAAAAAAAAAAAAAAAAAAAAAAAAAAAAAAAAAAAAAAAAAAAAAAAAAAAAAAAAAAAAAAAAAAAAAAAAAAAAAAAAAAAAAAAAAAAAAAAAAAAAAAAAAAAAAAAAAAAAAAAAAAAAAAAAAAAAAAAAAAAAAAAAAAAAAAAAAAAAAAAAAAAAAAAAAAAAAAAAAAAAAAAAAAAAAAAAAAAAAAAAAAAAAAAAAAAAAAAAAAAAAAAAAAAAAAAAAAAAAAAAAAAAAAAAAAAAAAAAAAAAAAAAAAAAAAAAAAAAAAAAAAAAAAAAAAAAAAAAAAAAAAAAAAAAAAAAAAAAAAAAAAAAAAAAAAAAAAAAAAAAAAAAAAAAAAAAAAAAAAAAAAAAAAAAAAAAAAAAAAAAAAAAAAAAAAAAAAAAAAAAAAAAAAAAAAAAAAAAAAAAAAAAAAAAAAAAAAAAAAAAAAAAAAAAAAAAAAAAAAAAAAAAAAAAAAAAAAAAAAAAAAAAAAAAAAAAAAAAAAAAAAAAAAAAAAAAAAAAAAAAAAAAAAAAAAAAAAAAAAAAAAAAAAAAAAAAAAAAAAAAAAAAAAAAAAAAAAAAAAAAAAAAAAAAAAAAAAAAAAAAAAAAAAAAAAAAAAAAAAAAAAAAAAAAAAAAAAAAAAAAAAAAAAAAAAAAAAAAAAAAAAAAAAAAAAAAAAAAAAAAAAAAAAAAAAAAAAAAAAAAAAAAAAAAAAAAAAAAAAAAAAAAAAAAAAAAAAAAAAAAAAAAAAAAAAAAAAAAAAAAAAAAAAAAAAAAAAAAAAAAAAAAAAAAAAAAAAAAAAAAAAAAAAAAAAAAAAAAAAAAAAAAAAAAAAAAAAAAAAAAAAAAAAAAAAAAAAAAAAAAAAAAAAAAAAAAAAAAAAAAAAAAAAAAAAAAAAAAAAAAAAAAAAAAAAAAAAAAAAAAAAAAAAAAAAAAAAAAAAAAAAAAAAAAAAAAAAAAAAAAAAAAAAAAAAAAAAAAAAAAAAAAAAAAAAAAAAAAAAAAAAAAAAAAAAAAAAAAAAAAAAAAAAAAAAAAAAAAAAAAAAAAAAAAAAAAAAAAAAAAAAAAAAAAAAAAAAAAAAAAAAAAAAAAAAAAAAAAAAAAAAAAAAAAAAAAAAAAAAAAAAAAAAAAAAAAAAAAAAAAAAAAAAAAAAAAAAAAAAAAAAAAAAAAAAAAAAAAAAAAAAAAAAAAAAAAAAAAAAAAAAAAAAAAAAAAAAAP9/AAAAAAAAAAAAAAAAAAAAAAAAAAAAAAAAAAAAAAAAAAAAAAAAAAAAAAAAAAAAAAAAAAAAAAAAAAAAAAAAAAAAAAAAAAAAAAAAAAAAAAAAAAAAAAAAAAAAAAAAAAAAAAAAAAAAAAAAAAAAAAAAAAAAAAAAAAAAAAAAAAAAAAAAAAAAAAAAAAAAAAAAAAAAAAAAAAD/fwAAAAAAAAAAAAAAAAAAAAAAAAAAAAAAAAAAAAAAAAAAAAAAAAAAAAAAAAAAAAAAAAAAAAAAAAAAAAAAAAAAAAAAAAAAAAAAAAAAAAAAAAAAAAAAAAAAAAAAAAAAAAAAAAAAAAAAAAAAAAAAAAAAAAAAAAAAAAAAAAAAAAAAAAAAAAAAAAAAAAAAAAAAAAAAAAAAAAAAAAAAAAAAAAAAAAAAAAAAAAAAAAAAAAAAAAAAAAAAAAAAAAAAAAAAAAAAAAAAAAAAAAAAAAAAAAAAAAAAAAAAAAAAAAAAAAAAAAAAAAAAAAAAAAAAAAAAAAAAAAAAAAAAAAAAAAAAAAAAAAAAAAAAAAAAAAAAAAAAAAAAAAAAAAAAAAAAAAAAAAAAAAAAAAAAAAAAAAAAAAAAAAAAAAAAAAAAAAAAAAAAAAAAAAAAAAAAAAAAAAAAAAAAAAAAAAAAAAAAAAAAAAAAAAAAAAAAAAAAAAAAAAAAAAAAAAAAAAAAAAAAAAAAAAAAAAAAAAAAAAAAAAAAAAAAAAAAAAAAAAAAAAAAAAAAAAAAAAAAAAAAAAAAAAAAAAAAAAAAAAAAAAAAAAAAAAAAAAAAAAAAAAAAAAAAAAAAAAAAAAAAAAAAAAAAAAAAAAAAAAAAAAAAAAAAAAAAAAAAAAAAAAAAAAAAAAAAAAAAAAAAAAAAAAAAAAAAAAAAAAAAAAAAAAAAAAAAAAAAAAAAAAAAAAAAAAAAAAAAAAAAAAAAAAAAAAAAAAAAAAAAAAAAAAAAAAAAAAAAAAAAAAAAAAAAAAAAAAAAAAAAAAAAAAAAAAAAAAAAAAAAAAAAAAAAAAAAAAAAAAAAAAAAAAAAAAAAAAAAAAAAAAAAAAAAAAAAAAAAAAAAAAAAAAAAAAAAAAAAAAAAAAAAAAAAAAAAAAAAAAAAAAAAAAAAAAAAAAAAAAAAAAAAAAAAAAAAAAAAAAAAAAAAAAAAAAAAAAAAAAAAAAAAAAAAAAAAAAAAAAAAAAAAAAAAAAAAAAAAAAAAAAAAAAAAAAAAAAAAAAAAAAAAAAAAAAAAAAAAAAAAAAAAAAAAAAAAAAAAAAAAAAAAAAAAAAAAAAAAAAAAAAAAAAAAAAAAAAAAAAAAAAAAAAAAAAAAAAAAAAAAAAAAAAAAAAAAAAAAAAAAAAAAAAAAAAAAAAAAAAAAAAAAAAAAAAAAAAAAAAAAAAAAAAAAAAAAAAAAAAAAAAAAAAAAAAAAAAAAAAAAAAAAAAAAAAAAAAAAAAAAAAAAAAAAAAAAAAAAAAAAAAAAAAAAAAAAAAAAAAAAAAAAAAAAAAAAAAAAAAAAAAAAAAAAAAAAAAAAAAAAAAAAAAAAAAAAAAAAAAAAAAAAAAAAAAAAAAAAAAAAAAAAAAAAAAAAAAAAAAAAAAAAAAAAAAAAAAAAAAAAAAAAAAAAAAAAAAAAAAAAAAAAAAAAAAAAAAAAAAAAAAAAAAAAAAAAAAAAAAAAAAAAAAAAAAAAAAAAAAAAAAAAAAAAAAAAAAAAAAAAAAAAAAAAAAAAAAAAAAAAAAAAAAAAAAAAAAAAAAAAAAAAAAAAAAAAAAAAAAAAAAAAAAAAAAAAAAAAAAAAAAAAAAAAAAAAAAAAAAAAAAAAAAAAAAAAAAAAAAAAAAAAAAAAAAAAAAAAAAAAAAAAAAAAAAAAAAAAAAAAAAAAAAAAAAAAAAAAAAAAAAAAAAAAAAAAAAAAAAAAAAAAAAAAAAAAAAAAAAAAAAAAAAAAAAAAAAAAAAAAAAAAAAAAAAAAAAAAAAAAAAAAAAAAAAAAAAAAAAAAAAAAAAAAAAAAAAAAAAAAAAAAAAAAAAAAAAAAAAAAAAAAAAAAAAAAAAAAAAAAAAAAAAAAAAAAAAAAAAAAAAAAAAAAAAAAAAAAAAAAAAAAAAAAAAAAAAAAAAAAAAAAAAAAAAAAAAAAAAAAAAAAAAAAAAAAAAAAAAAAAAAAAAAAAAAAAAAAAAAAAAAAAAAAAAAAAAAAAAAAAAAAAAAAAAAAAAAAAAAAAAAAAAAAAAAAAAAAAAAAAAAAAAAAAAAAAAAAAAAAAAAAAAAAAAAAAAAAAAAAAAAAAAAAAAAAAAAAAAAAAAAAAAAAAAAAAAAAAAAAAAAAAAAAAAAAAAAAAAAAAAAAAAAAAAAAAAAAAAAAAAAAAAAAAAAAAAAAAAAAAAAAAAAAAAAAAAAAAAAAAAAAAAAAAAAAAAAAAAAAAAAAAAAAAAAAAAAAAAAAAAAAAAAAAAAAAAAAAAAAAAAAAAAAAAAAAAAAAAAAAAAAAAAAAAAAAAAAAAAAAAAAAAAAAAAAAAAAAAAAAAAAAAAAAAAAAAAAAAAAAAAAAAAAAAAAAAAAAAAAAAAAAAAAAAAAAAAAAAAAAAAAAAAAAAAAAAAAAAAAAAAAAAAAAAAAAAAAAAAAAAAAAAAAAAAAAAAAAAAAAAAAAAAAAAAAAAAAAAAAAAAAAAAAAAAAAAAAAAAAAAAAAAAAAAAAAAAAAAAAAAAAAAAAAAAAAAAAAAAAAAAAAAAAAAAAAAAAAAAAAAAAAAAAAAAAAAAAAAAAAAAAAAAAAAAAAAAAAAAAAAAAAAAAAAAAAAAAAAAAAAAAAAAAAAAAAAAAAAAAAAAAAAAAAAAAAAAAAAAAAAAAAAAAAAAAAAAAAAAAAAAAAAAAAAAAAAAAAAAAAAAAAAAAAAAAAAAAAAAAAAAAAAAAAAAAAAAAAAAAAAAAAAAAAAAAAAAAAAAAAAAAAAAAAAAAAAAAAAAAAAAAAAAAAAAAAAAAAAAAAAAAAAAAAAAAAAAAAAAAAAAAAAAAAAAAAAAAAAAAAAAAAAAAAAAAAAAAAAAAAAAAAAAAAAAAAAAAAAAAAAAAAAAAAAAAAAAAAAAAAAAAAAAAAAAAAAAAAAAAAAAAAAAAAAAAAAAAAAAAAAAAAAAAAAAAAAAAAAAAAAAAAAAAAAAAAAAAAAAAAAAAAAAAAAAAAAAAAAAAAAAAAAAAAAAAAAAAAAAAAAAAAAAAAAAAAAAAAAAAAAAAAAAAAAAAAAAAAAAAAAAAAAAAAAAAAAAAAAAAAAAAAAAAAAAAAAAAAAAAAAAAAAAAAAAAAAAAAAAAAAAAAAAAAAAAAAAAAAAAAAD/fwAAAAAAAAAAAAAAAAAAAAAAAAAAAAAAAAAAAAAAAAAAAAAAAAAAAAAAAAAAAAAAAAAAAAAAAAAAAAAAAAAAAAAAAAAAAAAAAAAAAAAAAAAAAAAAAAAAAAAAAAAAAAAAAAAAAAD/fwAAAAAAAAAAAAAAAAAAAAAAAAAAAAAAAAAA/38AAAAAAAAAAAAAAAAAAAAAAAAAAAAAAAAAAAAAAAAAAAAAAAAAAAAAAAAAAAAAAAAAAAAAAAAAAAAAAAAAAAAAAAAAAAAAAAAAAAAAAAAAAAAAAAAAAAAAAAAAAAAAAAAAAAAAAAAAAAAAAAAAAAAAAAAAAAAAAAAAAAAAAAAAAAAAAAAAAAAAAAAAAAAAAAAAAAAAAAAAAAAAAAAAAAAAAAAAAAAAAAAAAAAAAAAAAAAAAAAAAAAAAAAAAAAAAAAAAAAAAAAAAAAAAAAAAAAAAAAAAAAAAAAAAAAAAAAAAP9/AAAAAAAAAAAAAAAAAAAAAAAAAAAAAAAAAAAAAAAAAAAAAAAAAAAAAAAAAAAAAAAAAAAAAAAAAAAAAAAAAAAAAAAAAAAAAAAAAAAAAAAAAAAAAAAAAAAAAAAAAAAAAAAAAAAAAAAAAAAAAAAAAAAAAAAAAAAAAAAAAAAAAAAAAAAAAAAAAAAAAAAAAAAAAAAAAAAAAAAAAAAAAAAAAAAAAAAAAAAAAAAAAAAAAAAAAAAAAAAAAAAAAAAAAAAAAAAAAAAAAAAAAAAAAAAAAAAAAAAAAAAAAAAAAAAAAAAAAAAAAAAAAAAAAAAAAAAAAAAAAAAAAAAAAAAAAAAAAAAAAAAAAAAAAAAAAAAAAAAAAAAAAAAAAAAAAAAAAAAAAAAAAAAAAAAAAAAAAAAAAAAAAAAAAAAAAAAAAAAAAAAAAAAAAAAAAAAAAAAAAAAAAAAAAAAAAAAAAAAAAAAAAAAAAAAAAAAAAAAAAAAAAAAAAAAAAAAAAAAAAAAAAAAAAAAAAAAAAAAAAAAAAAAAAAAAAAAAAAAAAAAAAAAAAAAAAAAAAAAAAAAAAAAAAAAAAAAAAAAAAAAAAAAAAAAAAAAAAAAAAAAAAAAAAAAAAAAAAAAAAAAAAAAAAAAAAAAAAAAAAAAAAAAAAAAAAAAAAAAAAAAAAAAAAAAAAAAAAAAAAAAAAAAAAAAAAAAAAAAAAAAAAAAAAAAAAAAAAAAAAAAAAAAAAAAAAAAAAAAAAAAAAAAAAAAAAAAAAAAAAAAAAAAAAAAAAAAAAAAAAAAAAAAAAAAAAAAAAAAAAAAAAAAAAAAAAAAAAAAAAAAAAAAAAAAAAAAAAAAAAAAAAAAAAAAAAAAAAAAAAAAAAAAAAAAAAAAAAAAAAAAAAAAAAAAAAAAAAAAAAAAAAAAAAAAAAAAAAAAAAAAAAAAAAAAAAAAAAAAAAAAAAAAAAAAAAAAAAAAAAAAAAAAAAAAAAAAAAAAAAAAAAAAAAAAAAAAAAAAAAAAAAAAAAAAAAAAAAAAAAAAAAAAAAAAAAAAAAAAAAAAAAAAAAAAAAAAAAAAAAAAAAAAAAAAAAAAAAAAAAAAAAAAAAAAAAAAAAAAAAAAAAAAAAAAAAAAAAAAAAAAAAAAAAAAAAAAAAAAAAAAAAAAAAAAAAAAAAAAAAAAAAAAAAAAAAAAAAAAAAAAAAAAAAAAAAAAAAAAAAAAAAAAAAAAAAAAAAAAAAAAAAAAAAAAAAAAAAAAAAAAAAAAAAAAAAAAAAAAAAAAAAAAAAAAAAAAAAAAAAAAAAAAAAAAAAAAAAAAAAAAAAAAAAAAAAAAAAAAAAAAAAAAAAAAAAAAAAAAAAAAAAAAAAAAAAAAAAAAAAAAAAAAAAAAAAAAAAAAAAAAAAAAAAAAAAAAAAAAAAAAAAAAAAAAAAAAAAAAAAAAAAAAAAAAAAAAAAAAAAAAAAAAAAAAAAAAAAAAAAAAAAAAAAAAAAAAAAAAAAAAAAAAAAAAAAAAAAAAAAAAAAAAAAAAAAAAAAAAAAAAAAAAAAAAAAAAAAAAAAAAAAAAAAAAAAAAAAAAAAAAAAAAAAAAAAAAAAAAAAAAAAAAAAAAAAAAAAAAAAAAAAAAAAAAAAAAAAAAAAAAAAAAAAAAAAAAAAAAAAAAAAAAAAAAAAAAAAAAAAAAAAAAAAAAAAAAAAAAAAAAAAAAAAAAAAAAAAAAAAAAAAAAAAAAAAAAAAAAAAAAAAAAAAAAAAAAAAAAAAAAAAAAAAAAAAAAAAAAAAAAAAAAAAAAAAAAAAAAAAAAAAAAAAAAAAAAAAAAAAAAAAAAAAAAAAAAAAAAAAAAAAAAAAAAAAAAAAAAAAAAAAAAAAAAAAAAAAAAAAAAAAAAAAAAAAAAAAAAAAAAAAAAAAAAAAAAAAAAAAAAAAAAAAAAAAAAAAAAAAAAAAAAAAAAAAAAAAAAAAAAAAAAAAAAAAAAAAAAAAAAAAAAAAAAAAAAAAAAAAAAAAAAAAAAAAAAAAAAAAAAAAAAAAAAAAAAAAAAAAAAAAAAAAAAAAAAAAAAAAAAAAAAAAAAAAAAAAAAAAAAAAAAAAAAAAAAAAAAAAAAAAAAAAAAAAAAAAAAAAAAAAAAAAAAAAAAAAAAAAAAAAAAAAAAAAAAAAAAAAAAAAAAAAAAAAAAAAAAAAAAAAAAAAAAAAAAAAAAAAAAAAAAAAAAAAAAAAAAAAAAAAAAAAAAAAAAAAAAAAAAAAAAAAAAAAAAAAAAAAAAAAAAAAAAAAAAAAAAAAAAAAAAAAAAAAAAAAAAAAAAAAAAAAAAAAAAAAAAAAAAAAAAAAAAAAAAAAAAAAAAAAAAAAAAAAAAAAAAAAAAAAAAAAAAAAAAAAAAAAAAAAAAAAAAAAAAAAAAAAAAAAAAAAAAAAAAAAP9/AAAAAAAAAAAAAAAAAAAAAAAAAAAAAAAAAAAAAAAAAAAAAAAAAAAAAAAAAAAAAAAAAAAAAAAAAAAAAAAAAAAAAAAAAAAAAAAAAAAAAAAAAAAAAAAAAAAAAAAAAAAAAAAAAAAAAAAAAAAAAAAAAAAAAAAAAAAAAAAAAAAAAAAAAAAAAAAAAAAAAAAAAAAAAAAAAAAAAAAAAAAAAAAAAAAAAAAAAAAAAAAAAAAAAAAAAAAAAAAAAAAAAAAAAAAAAAAAAAAAAAAAAAAAAAAAAAAAAAAAAAAAAAAAAAAAAAAAAAAAAAAAAAAAAAAAAAAAAAAAAAAAAAAAAAAAAAAAAAAAAAAAAAAAAAAAAAAAAAAAAAAAAAAAAAAAAAAAAAAAAAAAAAAAAAAAAAAAAAAAAAAAAAAAAAAAAAAAAAAAAAAAAAAAAAAAAAAAAAAAAAAAAAAAAAAAAAAAAAAAAAAAAAAAAAAAAAAAAAAAAAAAAAAAAAAAAAAAAAAAAAAAAAAAAAAAAAAAAAAAAAAAAAAAAAAAAAAAAAAAAAAAAAAAAAAAAAAAAAAAAAAAAAAAAAAAAAAAAAAAAAAAAAAAAAAAAAAAAAAAAAAAAAAAAAAAAAAAAAAAAAAAAAAAAAAAAAAAAAAAAAAAAAAAAAAAAAAAAAAAAAAAAAAAAAAAAAAAAAAAAAAAAAAAAAAAAAAAAAAAAAAAAAAAAAAAAAAAAAAAAAAAAAAAAAAAAAAAAAAAAAAAAAAAAAAAAAAAAAAAAAAAAAAAAAAAAAAAAAAAAAAAAAAAAAAAAAAAAAAAAAAAAAAAAAAAAAAAAAAAAAAAAAAAAAAAAAAAAAAAAAAAAAAAAAAAAAAAAAAAAAAAAAAAAAAAAAAAAAAAAAAAAAAAAAAAAAAAAAAAAAAAAAAAAAAAAAAAAAAAAAAAAAAAAAAAAAAAAAAAAAAAAAAAAAAAAAAAAAAAAAAAAAAAAAAAAAAAAAAAAAAAAAAAAAAAAAAAAAAAAAAAAAAAAAAAAAAAAAAAAAAAAAAAAAAAAAAAAAAAAAAAAAAAAAAAAAAAAAAAAAAAAAAAAAAAAAAAAAAAAAAAAAAAAAAAAAAAAAAAAAAAAAAAAAAAAAAAAAAAAAAAAAAAAAAAAAAAAAAAAAAAAAAAAAAAAAAAAAAAAAAAAAAAAAAAAAAAAAAAAAAAAAAAAAAAAAAAAAAAAAAAAAAAAAAAAAAAAAAAAAAAAAAAAAAAAAAAAAAAAAAAAAAAAAAAAAAAAAAAAAAAAAAAAAAAAAAAAAAAAAAAAAAAAAAAAAAAAAAAAAAAAAAAAAAAAAAAAAAAAAAAAAAAAAAAAAAA/38AAAAAAAAAAP9/AAAAAAAAAAAAAAAAAAAAAAAAAAAAAAAAAAAAAAAAAAAAAAAAAAAAAAAAAAAAAAAAAAAAAAAAAAAAAAAAAAAAAAAAAAAAAAAAAAAAAAAAAAAAAAAAAAAAAAAAAAAAAAAAAAAAAAAAAAAAAAAAAAAAAAAAAAAAAAAAAAAAAAAAAAAAAAAAAAAAAAAAAAAAAAAAAAAAAAAAAAAAAAAAAAAAAAAAAAAAAAAAAAAAAAAAAAAAAAAAAAAAAAAAAAAAAAAAAAAAAAAAAAAAAAAAAAAAAAAAAAAAAAAAAAAAAAAAAAAAAAAAAAAAAAAAAAAAAAAAAAAAAAAAAAAAAAAAAAAAAAAAAAAAAAAAAAAAAAAAAAAAAAAAAAAAAAAAAAAAAAAAAAAAAAAAAAAAAAAAAAAAAAAAAAAAAAAAAAAAAAAAAAAAAAAAAAAAAAAAAAAAAAAAAAAAAAAAAAAAAAAAAAAAAAAAAAAAAAAAAAAAAAAAAAAAAAAAAAAAAAAAAAAAAAAAAAAAAAAAAAAAAAAAAAAAAAAAAAAAAAAAAAAAAAAAAAAAAAAAAAAAAAAAAAAAAAAAAAAAAAAAAAAAAAAAAAAAAAAAAAAAAAAAAAAAAAAAAAAAAAAAAAAAAAAAAAAAAAAAAAAAAAAAAAAAAAAAAAAAAAAAAAAAAAAAAAAAAAAAAAAAAAAAAAAAAAAAAAAAAAAAAAAAAAAAAAAAAAAAAAAAAAAAAAAAAAAAAAAAAAAAAAD/fwAAAAAAAAAAAAAAAAAAAAAAAAAAAAAAAAAAAAAAAAAAAAAAAAAAAAAAAAAAAAAAAAAAAAAAAAAAAAAAAAAAAAAAAAAAAAAAAAAAAAAAAAAAAAAAAAAAAAAAAAAAAAAAAAAAAAAAAAAAAAAAAAAAAAAAAAAAAAAAAAAAAAAAAAAAAAAAAAAAAAAAAAAAAAAAAAAAAAAAAAAAAAAAAAAAAAAAAAAAAAAAAAAAAAAAAAAAAAAAAAAAAAAAAAAAAAAAAAAAAAAAAAAAAAAAAAAAAAAAAAAAAAAAAAAAAAAAAAAAAAAAAAAAAAAAAAAAAAAAAAAAAAAAAAAAAAAAAAAAAAAAAAAAAAAAAAAAAAAAAAAAAAAAAAAAAAAAAAAAAAAAAAAAAAAAAAAAAAAAAAAAAAAAAAAAAAAAAAAAAAAAAAAAAAAAAAAAAAAAAAAAAAAAAAAAAAAAAAAAAAAAAAAAAAAAAAAAAAAAAAAAAAAAAAAAAAAAAAAAAAAAAAAAAAAAAAAAAAAAAAAAAAAAAAAAAAAAAAAAAAAAAAAAAAAAAAAAAAAAAAAAAAAAAAAAAAAAAAAAAAAAAAAAAAAAAAAAAAAAAAAAAAAAAAAAAAAAAAAAAAAAAAAAAAAAAAAAAAAAAAAAAAAAAAAAAAAAAAAAAAAAAAAAAAAAAAAAAAAAAAAAAAAAAAAAAAAAAAAAAAAAAAAAAAAAAAAAAAAAAAAAAAAAAAAAAAAAAAAAAAAAAAAAAAAAAAAAAAAAAAAAAAAAAAAAAAAAAAAAAAAAAAAAAAAAAAAAAAAAAAAAAAAAAAAAAAAAAAAAAAAAAAAAAAAAAAAAAAAAAAAAAAAAAAAAAAAAAAAAAAAAAAAAAAAAAAAAAAAAAAAAAAAAAAAAAAAAAAAAAAAAAAAAAAAAAAAAAAAAAAAAAAAAAAAAAAAAAAAAAAAAAAAAAAAAAAAAAAAAAAAAAAAAAAAAAAAAAAAAAAAAAAAAAAAAAAAAAAAAAAAAAAAAAAAAAAAAAAAAAAAAAAAAAAAAAAAAAAAAAAAAAAAAAAAAAAAAAAAAAAAAAAAAAAAAAAAAAAAAAAAAAAAAAAAAAAAAAAAAAAAAAAAAAAAAAAAAAAAAAAAAAAAAAAAAAAAAAAAAAAAAAAAAAAAAAAAAAAAAAAAAAAAAAAAAAAAAAAAAAAAAAAAAAAAAAAAAAAAAAAAAAAAAAAAAAAAAAAAAAAAAAAAAAAAAAAAAAAAAAAAAAAAAAAAAAAAAAAAAAAAAAAAAAAAAAAAAAAAAAAAAAAAAAAAAAAAAAAAAAAAAAAAAAAAAAAAAAAAAAAAAAAAAAAAAAAAAAAAAAAAAAAAAAAAAAAAAAAAAAAAAAAAAAAAAAAAAAAAAAAAAAAAAAAAAAAAAAAAAAAAAAAAAAAAAAAAAAAAAAAAAAAAAAAAAAAAAAAAAAAAAAAAAAAAAAAAAAAAAAAAAAAAAAAAAAAAAAAAAAAAAAAAAAAAAAAAAAAAAAAAAAAAAAAAAAAAAAAAAAAAAAAAAAAAAAAAAAAAAAAAAAAAAAAAAAAAAAAAAAAAAAAAAAAAAAAAAAAAAAAAAAAAAAAAAAAAAAAAAAAAAAAAAAAAAAAAAAAAAAAAAAAAAAAAAAAAAAAAAAAAAAAAAAAAAAAAAAAAAAAAAAAAAAAAAAAAAAAAAAAAAAAAAAAAAAAAAAAAAAAAAAAAAAAAAAAAAAAAAAAAAAAAAAAAAAAAAAAAAAAAAAAAAAAAAAAAAAAAAAAAAAAAAAAAAAAAAAAAAAAAAAAAAAAAAAAAAAAAAAAAAAAAAAAAAAAAAAAAAAAAAAAAAAAAAAAAAAAAAAAAAAAAAAAAAAAAAAAAAAAAAAAAAAAAAAAAAAAAAAAAAAAAAAAAAAAAAAAAAAAAAAAAAAAAAAAAAAAAAAAAAAAAAAAAAAAAAAAAAAAAAAAAAAAAAAAAAAAAAAAAAAAAAAAAAAAAAAAAAAAAAAAAAAAAAAAAAAAAAAAAAAAAAAAAAAAAAAAAAAAAAAAAAAAAAAAAAAAAAAAAAAAAAAAAAAAAAAAAAAAAAAAAAAAAAAAAAAAAAAAAAAAAAAAAAAAAAAAAAAAAAAAAAAAAAAAAAAAAAAAAAAAAAAAAAAAAAAAAAAAAAAAAAAAAAAAAAAAAAAAAAAAAAAAAAAAAAAAAAAAAAAAAAAAAAAAAAAAAAAAAAAAAAAAAAAAAAAAAAAAAAAAAAAAAAAAAAAAAAAAAAAAAAAAAAAAAAAAAAAAAAAAAAAAAAAAAAAAAAAAAAAAAAAAAAAAAAAAAAAAAAAAAAAAAAAAAAAAAAAAAAAAAAAAAAAAAAAAAAAAAAAAAAAAAAAAAAAAAAAAAAAAAAAAAAAAAAAAAAAAAAAAAAAAAAAAAAAAAAAAAAAAAAAAAAAAAAAAAAAAAAAAAAAAAAAAAAAAAAAAAAAAAAAAAAAAAAAAAAAAAAAAAAAAAAAAAAAAAAAAAAAAAAAAAAAAAAAAAAAAAAAAAAAAAAAAAAAAAAAAAAAAAAAAAAAAAAAAAAAAAAAAAAAAAAAAAAAAAAAAAAAAAAAAAAAAAAAAAAAAAAAAAAAAAAAAAAAAAAAAAAAAAAAAAAAAAAAAAAAAAAAAAAAAAAAAAAAAAAAAAAAAAAAAAAAAAAAAAAAAAAAAAAAAAAAAAAAAAAAAAAAAAAAAAAAAAAAAAAAAAAAAAAAAAAAAAAAAAAAAAAAAAAAAAAAAAAAAAAAAAAAAAAAAAAAAAAAAAAAAAAAAAAAAAAAAAAAAAAAAAAAAAAAAAAAAAAAAAAAAAAAAAAAAAAAAAAAAAAAAAAAAAAAAAAAAAAAAAAAAAAAAAAAAAAAAAAAAAAAAAAAAAAAAAAAAAAAAAAAAAAAAAAAAAAAAAAAAAAAAAAAAAAAAAAAAAAAAAAAAAAAAAAAAAAAAAAAAAAAAAAAAAAAAAAAAAAAAAAAAAAAAAAAAAAAAAAAAAAAAAAAAAAAAAAAAAAAAAAAAAAAAAAAAAAAAAAAAAAAAAAAAAAAAAAAAAAAAAAAAAAAAAAAAAAAAAAAAAAAAAAAAAAAAAAAAAAAAAAAAAAAAAAAAAAAAAAAAAAAAAAAAAAAAAAAAAAAAAAAAAAAAAAAAAAAAAAAAAAAAAAAAAAAAAAAAAAAAAAAAAAAAAAAAAAAAAAAAAAAAAAAAAAAAAAAAAAAAAAAAAAAAAAAAAAAAAAAAAAAAAAAAAAAAAAAAAAAAAAAAAAAAAAAAAAAAAAAAAAAAAAAAAAAAAAAAAAAAAAAAAAAAAAAAAAAAAAAAAAAAAAAAAAAAAAAAAAAAAAAAAAAAAAAAAAAAAAAAAAAAAAAAAAAAAAAAAAAAAAAAAAAAAAAAAAAAAAAAAAAAAAAAAAAAAAAAAAAAAAAAAAAAAAAAAAAAAAAAAAAAAAAAAAAAAAAAAAAAAAAAAAAAAAAAAAAAAAAAAAAAAAAAAAAAAAAAAAAAAAAAAAAAAAAAAAAAAAAAAAAAAAAAAAAAAAAAAAAAAAAAAAAAAAAAAAAAAAAAAAAAAAAAAAAAAAAAAAAAAAAAAAAAAAAAAAAAAAAAAAAAAAAAAAAAAAAAAAAAAAAAAAAAAAAAAAAAAAAAAAAAAAAAAAAAAAAAAAAAAAAAAAAAAAAAAAAAAAAAAAAAAAAAAAAAAAAAAAAAAAAAAAAAAAAAAAAAAAAAAAAAAAAAAAAAAAAAAAAAAAAAAAAAAAAAAAAAAAAAAAAAAAAAAAAAAAAAAAAAAAAAAAAAAAAAAAAAAAAAAAAAAAAAAAAAAAAAAAAAAAAAAAAAAAAAAAAAAAAAAAAAAAAAAAAAAAAAAAAAAAAAAAAAAAAAAAAAAAAAAAAAAAAAAAAAAAAAAAAAAAAAAAAAAAAAAAAAAAAAAAAAAAAAAAAAAAAAAAAAAAAAAAAAAAAAAAAAAAAAAAAAAAAAAAAAAAAAAAAAAAAAAAAAAAAAAAAAAAAAAAAAAAAAAAAAAAAAAAAAAAAAAAAAAAAAAAAAAAAAAAAAAAAAAAAAAAAAAAAAAAAAAAAAAAAAAAAAAAAAAAAAAAAAAAAAAAAAAAAAAAAAAAAAAAAAAAAAAAAAAAAAAAAAAAAAAAAAAAAAAAAAAAAAAAAAAAAAAAAAAAAAAAAAAAAAAAAAAAAAAAAAAAAAAAAAAAAAAAAAAAAAAAAAAAAAAAAAAAAAAAAAAAAAAAAAAAAAAAAAAAAAAAAAAAAAAAAAAAAAAAAAAAAAAAAAAAAAAAAAAAAAAAAAAAAAAAAAAAAAAAAAAAAAAAAAAAAAAAAAAAAAAAAAAAAAAAAAAAAAAAAAAAAAAAAAAAAAAAAAAAAAAAAAAAAAAAAAAAAAAAAAAAAAAAAAAAAAAAAAAAAAAAAAAAAAAAAAAAAAAAAAAAAAAAAAAAAAAAAAAAAAAAAAAAAAAAAAAAAAAAAAAAAAAAAAAAAAAAAAAAAAAAAAAAAAAAAAAAAAAAAAAAAAAAAAAAAAAAAAAAAAAAAAAAAAAAAAAAAAAAAAAAAAAAAAAAAAAAAAAAAAAAAAAAAAAAAAAAAAAAAAAAAAAAAAAAAAAAAAAAAAAAAAAAAAAAAAAAAAAAAAAAAAAAAAAAAAAAAAAAAAAAAAAAAAAAAAAAAAAAAAAAAAAAAAAAAAAAAAAAAAAAAAAAAAAAAAAAAAAAAAAAAAAAAAAAAAAAAAAAAAAAAAAAAAAAAAAAAAAAAAAAAAAAAAAAAAAAAAAAAAAAAAAAAAAAAAAAAAAAAAAAAAAAAAAAAAAAAAAAAAAAAAAAAAAAAAAAAAAAAAAAAAAAAAAAAAAAAAAAAAAAAAAAAAAAAAAAAAAAAAAAAAAAAAAAAAAAAAAAAAAAAAAAAAAAAAAAAAAAAAAAAAAAAAAAAAAAAAAAAAAAAAAAAAAAAAAAAAAAAAAAAAAAAAAAAAAAAAAAAAAAAAAAAAAAAAAAAAAAAAAAAAAAAAAAAAAAAAAAAAAAAAAAAAAAAAAAAAAAAAAAAAAAAAAAAAAAAAAAAAAAAAAAAAAAAAAAAAAAAAAAAAAAAAAAAAAAAAAAAAAAAAAAAAAAAAAAAAAAAAAAAAAAAAAAAAAAAAAAAAAAAAAAAAAAAAAAAAAAAAAAAAAAAAAAAAAAAAAAAAAAAAAAAAAAAAAAAAAAAAAAAAAAAAAAAAAAAAAAAAAAAAAAAAAAAAAAAAAAAAAAAAAAAAAAAAAAAAAAAAAAAAAAAAAAAAAAAAAAAAAAAAAAAAAAAAAAAAAAAAAAAAAAAAAAAAAAAAAAAAAAAAAAAAAAAAAAAAAAAAAAAAAAAAAAAAAAAAAAAAAAAAAAAAAAAAAAAAAAAAAAAAAAAAAAAAAAAAAAAAAAAAAAAAAAAAAAAAAAAAAAAAAAAAAAAAAAAAAAAAAAAAAAAAAAAAAAAAAAAAAAAAAAAAAAAAAAAAAAAAAAAAAAAAAAAAAAAAAAAAAAAAAAAAAAAAAAAAAAAAAAAAAAAAAAAAAAAAAAAAAAAAAAAAAAAAAAAAAAAAAAAAAAAAAAAAAAAAAAAAAAAAAAAAAAAAAAAAAAAAAAAAAAAAAAAAAAAAAA/38AAAAAAAAAAAAAAAAAAAAAAAAAAAAAAAAAAAAAAAAAAAAAAAAAAAAAAAAAAAAAAAAAAAAAAAAAAAAAAAAAAAAAAAAAAAAAAAAAAAAAAAAAAAAAAAAAAAAAAAAAAAAAAAAAAAAAAAAAAAAAAAAAAAAAAAAAAAAAAAAAAAAAAAAAAAAAAAAAAAAAAAAAAAAAAAAAAAAAAAAAAAAAAAAAAAAAAAAAAAAAAAAAAAAAAAAAAAAAAAAAAAAAAAAAAAAAAAAAAAAAAAAAAAAAAAAAAAAAAAAAAAAAAAAAAAAAAAAAAAAAAAAAAAAAAAAAAAAAAAAAAAAAAAAAAAAAAAAAAAAAAAAAAAAAAAAAAAAAAAAAAAAAAAAAAAAAAAAAAAAAAAAAAAAAAAAAAAAAAAAAAAAAAAAAAAAAAAAAAAAAAAAAAAAAAAAAAAAAAAAAAAAAAAAAAAAAAAAAAAAAAAAAAAAAAAAAAAAAAAAAAAAAAAAAAAAAAAAAAAAAAAAAAAAAAAAAAAAAAAAAAAAAAAAAAAAAAAAAAAAAAAAAAAAAAAAAAAAAAAAAAAAAAAAAAAAAAAAAAAAAAAAAAAAAAAAAAAAAAAAAAAAAAAAAAAAAAAAAAAAAAAAAAAAAAAAAAAAAAAAAAAAAAAAAAAAAAAAAAAAAAAAAAAAAAAAAAAAAAAAAAAAAAAAAAAAAAAAAAAAAAAAAAAAAAAAAAAAAAAAAAAAAAAAAAAAAAAAAAAAAAAAAAAAAAAAAAAAAAAAAAAAAAAAAAAAAAAAAAAAAAAAAAAAAAAAAAAAAAAAAAAAAAAAAAAAAAAAAAAAAAAAAAAAAAAAAAAAAAAAAAAAAAAAAAAAAAAAAAAAAAAAAAAAAAAAAAAAAAAAAAAAAAAAAAAAAAAAAAAAAAAAAAAAAAAAAAAAAAAAAAAAAAAAAAAAAAAAAAAAAAAAAAAAAAAAAAAAAAAAAAAAAAAAAAAAAAAAAAAAAAAAAAAAAAAAAAAAAAAAAAAAAAAAAAAAAAAAAAAAAAAAAAAAAAAAAAAAAAAAAAAAAAAAAAAAAAAAAAAAAAAAAAAAAAAAAAAAAAAAAAAAAAAAAAAAAAAAAAAAAAAAAAAAAAAAAAAAAAAAAAAAAAAAAAAAAAAAAAAAAAAAAAAAAAAAAAAAAAAAAAAAAAAAAAAAAAAAAAAAAAAAAAAAAAAAAAAAAAAAAAAAAAAAAAAAAAAAAAAAAAAAAAAAAAAAAAAAAAAAAAAAAAAAAAAAAAAAAAAAAAAAAAAAAAAAAAAAAAAAAAAAAAAAAAAAAAAAAAAAAAAAAAAAAAAAAAAAAAAAAAAAAAAAAAAAAAAAAAAAAAAAAAAAAAAAAAAAAAAAAAAAAAAAAAAAAAAAAAAAAAAAAAAAAAAAAAAAAAAAAAAAAAAAAAAAAAAAAAAAAAAAAAAAAAAAAAAAAAAAAAAAAAAAAAAAAAAAAAP9/AAAAAAAAAAAAAAAAAAAAAAAAAAAAAAAAAAAAAAAAAAAAAAAAAAAAAAAAAAAAAAAAAAAAAAAAAAAAAAAAAAAAAAAAAAAAAAAAAAAAAAAAAAAAAAAAAAAAAAAAAAAAAAAAAAAAAAAAAAAAAAAAAAAAAAAAAAAAAAAAAAAAAAAAAAAAAAAAAAAAAAAAAAAAAAAAAAAAAAAAAAAAAAAAAAAAAAAAAAAAAAAAAAAAAAAAAAAAAAAAAAAAAAAAAAAAAAAAAAAAAAAAAAAAAAAAAAAAAAAAAAAAAAAAAAAAAAAAAAAAAAAAAAAAAAAAAAAAAAAAAAAAAAAAAAAAAAAAAAAAAAAAAAAAAAAAAAAAAAAAAAAAAAAAAAAAAAAAAAAAAAAAAAAAAAAAAAAAAAAAAAAAAAAAAAAAAAAAAAAAAAAAAAAAAAAAAAAAAAAAAAAAAAAAAAAAAAAAAAAAAAAAAAAAAAAAAAAAAAAAAAAAAAAAAAAAAAAAAAAAAAAAAAAAAAAAAAAAAAAAAAAAAAAAAAAAAAAAAAAAAAAAAAAAAAAAAAAAAAAAAAAAAAAAAAAAAAAAAAAAAAAAAAAAAAAAAAAAAAAAAAAAAAAAAAAAAAAAAAAAAAAAAAAAAAAAAAAAAAAAAAAAAAAAAAAAAAAAAAAAAAAAAAAAAAAAAAAAAAAAAAAAAAAAAAAAAAAAAAAAAAAAAAAAAAAAAAAAAAAAAAAAAAAAAAAAAAAAAAAAAAAAAAAAAAAAAAAAAAAAAAAAAAAAAAAAAAAAAAAAAAAAAAAAAAAAAAAAAAAAAAAAAAAAAAAAAAAAAAAAAAAAAAAAAAAAAAAAAAAAAAAAAAAAAAAAAAAAAAAAAAAAAAAAAAAAAAAAAAAAAAAAAAAAAAAAAAAAAAAAAAAAAAD/fwAAAAAAAAAAAAAAAAAAAAAAAAAAAAAAAAAAAAAAAAAAAAAAAAAAAAAAAAAAAAAAAAAAAAAAAAAAAAAAAAAAAAAAAAAAAAAAAAAAAAAAAAAAAAAAAAAAAAAAAAAAAAAAAAAAAAAAAAAAAAAAAAAAAAAAAAAAAAAAAAAAAAAAAAAAAAAAAAAAAAAAAAAAAAAAAAAAAAAAAAAAAAAAAAAAAAAAAAAAAAAAAAAAAAAAAAAAAAAAAAAAAAAAAAAAAAAAAAAAAAAAAAAAAAAAAAAAAAAAAAAAAAAAAAAAAAAAAAAAAAAAAAAAAAAAAAAAAAAAAAAAAAAAAAAAAAAAAAAAAAAAAAAAAAAAAAAAAAAAAAAAAAAAAAAAAAAAAAAAAAAAAAAAAAAAAAAAAAAAAAAAAAAAAAAAAAAAAAAAAAAAAAAAAAAAAAAAAAAAAAAAAAAAAAAAAAAAAAAAAAAAAAAAAAAAAAAAAAAAAAAAAAAAAAAAAAAAAAAAAAAAAAAAAAAAAAAAAAAAAAAAAAAAAAAAAAAAAAAAAAAAAAAAAAAAAAAAAAAAAAAAAAAAAAAAAAAAAAAAAAAAAAAAAAAAAAAAAAAAAAAAAAAAAAAAAAAAAAAAAAAAAAAAAAAAAAAAAAAAAAAAAAAAAAAAAAAAAAAAAAAAAAAAAAAAAAAAAAAAAAAAAAAAAAAAAAAAAAAAAAAAAAAAAAAAAAAAAAAAAAAAAAAAAAAAAAAAAAAAAAAAAAAAAAAAAAAAAAAAAAAAAAAAAAAAAAAAAAAAAAAAAAAAAAAAAAAAAAAAAAAAAAAAAAAAAAAAAAAAAAAAAAAAAAAAAAAAAAAAAAAAAAAAAAAAAAAAAAAAAAAAAAAAAAAAAAAAAAAAAAAAAAAAAAAAAAAAAAAAAAAAAAAAAAAAAAAAAAAAAAAAAAAAAAAAAAAAAAAAAAAAAAAAAAAAAAAAAAAAAAAAAAAAAAAAAAAAAAAAAAAAAAAAAAAAAAAAAAAAAAAAAAAAAAAAAAAAAAAAAAAAAAAAAAAAAAAAAAAAAAAAAAAAAAAAAAAAAAAAAAAAAAAAAAAAAAAAAAAAAAAAAAAAAAAAAAAAAAAAAAAAAAAAAAAAAAAAAAAAAAAAAAAAAAAAAAAAAAAAAAAAAAAAAAAAAAAAAAAAAAAAAAAAAAAAAAAAAAAAAAAAAAAAAAAAAAAAAAAAAAAAAAAAAAAAAAAAAAAAAAAAAAAAAAAAAAAAAAAAAAAAAAAAAAAAAAAAAAAAAAAAAAAAAAAAAAAAAAAAAAAAAAAAAAAAAAAAAAAAAAAAAAAAAAAAAAAAAAAAAAAAAAAAAAAAAAAAAAAAAAAAAAAAAAAAAAAAAAAAAAAAAAAAAAAAAAAAAAAAAAAAAAAAAAAAAAAAAAAAAAAAAAAAAAAAAAAAAAAAAAAAAAAAAAAAAAAAAAAAAAAAAAAAAAAAAAAAAAAAAAAAAAAAAAAAAAAAAAAAAAAAAAAAAAAAAAAAAAAAAAAAAAAAAAAAAAAAAAAAAAAAAAAAAAAAAAAAAAAAAAAAAAAAAAAAAAAAAAAAAAAAAAAAAAAAAAAAAAAAAAAAAAAAAAAAAAAAAAAAAAAAAAAAAAAAAAAAAAAAAAAAAAAAAAAAAAAAAAAAAAAAAAAAAAAAAAAAAAAAAAAAAAAAAAAAAAAAAAAAAAAAAAAAAAAAAAAAAAAAAAAAAAAAAAAAAAAAAAAAAAAAAAAAAAAAAAAAAAAAAAAAAAAAAAAAAAAAAAAAAAAAAAAAAAAAAAAAAAAAAAAAAAAAAAAAAAAAAAAAAAAAAAAAAAAAAAAAAAAAAAAAAAAAAAAAAAAAAAAAAAAAAAAAAAAAAAAAAAAAAAAAAAAAAAAAAAAAAAAAAAAAAAAAAAAAAAAAAAAAAAAAAAAAAAAAAAAAAAAAAAAAAAAAAAAAAAAAAAAAAAAAAAAAAAAAAAAAAAAAAAAAAAAAAAAAAAAAAAAAAAAAAAAAAAAAAAAAAAAAAAAAAAAAAAAAAAAAAAAAAAAAAAAAAAAAAAAAAAAAAAAAAAAAAAAAAAAAAAAAAAAAAAAAAAAAAAAAAAAAAAAAAAAAAAAAAAAAAAAAAAAAAAAAAAAAAAAAAAAAAAAAAAAAAAAAAAAAAAAAAAAAAAAAAAAAAAAAAAAAAAAAAAAAAAAAAAAAAAAAAAAAAAAAAAAAAAAAAAAAAAAAAAAAAAAAAAAAAAAAAAAAAAAAAAAAAAAAAAAAAAAAAAAAAAAAAAAAAAAAAAAAAAAAAAAAAAAAAAAAAAAAAAAAAAAAAAAAAAAAAAAAAAAAAAAAAAAAAAAAAAAAAAAAAAAAAAAAAAAAAAAAAAAAAAAAAAAAAAAAAAAAAAAAAAAAAAAAAAAAAAAAAAAAAAAAAAAAAAAAAAAAAAAAAAAAAAAAAAAAAAAAAAAAAAAAAAAAAAAAAAAAAAAAAAAAAAAAAAAAAAAAAAAAAAAAAAAAAAAAAAAAAAAAAAAAAAAAAAAAAAAAAAAAAAAAAAAAAAAAAAAAAAAAAAAAAAAAAAAAAAAAAAAAAAAAAAAAAAAAAAAAAAAAAAAAAAAAAAAAAAAAAAAAAAAAAAAAAAAAAAAAAAAAAAAAAAAAAAAAAAAAAAAAAAAAAAAAAAAAAAAAAAAAAAAAAAAAAAAAAAAAAAAAAAAAAAAAAAAAAAAAAAAAAAAAAAAAAAAAAAAAAAAAAAAAAAAAAAAAAAAAAAAAAAAAAAAAAAAAAAAAAAAAAAAAAAAAAAAAAAAAAAAAAAAAAAAAAAAAAAAAAAAAAAAAAAAAAAAAAAAAAAAAAAAAAAAAAAAAAAAAAAAAAAAAAAAAAAAAAAAAAAAAAAAAAAAAAAAAAAAAAAAAAAAAAAAAAAAAAAAAAAAAAAAAAAAAAAAAAAAAAAAAAAAAAAAAAAAAAAAAAAAAAAAAAAAAAAAAAAAAAAAAAAAAAAAAAAAAAAAAAAAAAAAAAAAAAAAAAAAAAAAAAAAAAAAAAAAAAAAAAAAAAAAAAAAAAAAAAAAAAAAAAAAAAAAAAAAAAAAAAAAAAAAAAAAAAAAAAAAAAAAAAAAAAAAAAAAAAAAAAAAAAAAAAAAAAAAAAAAAAAAAAAAAAAAAAAAAAAAAAAAAAAAAAAAAAAAAAAAAAAAAAAAAAAAAAAAAAAAAAAAAAAAAAAAAAAAAAAAAAAAAAAAAAAAAAAAAAAAAAAAAAAAAAAAAAAAAAAAAAAAAAAAAAAAAAAAAAAAAAAAAAAAAAAAAAAAAAAAAAAAAAAAAAAAAAAAAAAAAAAAAAAAAAAAAAAAAAAAAAAAAAAAAAAAAAAAAAAAAAAAAAAAAAAAAAAAAAAAAAAAAAAAAAAAAAAAAAAAAAAAAAAAAAAAAAAAAAAAAAAAAAAAAAAAAAAAAAAAAAAAAAAAAAAAAAAAAAAAAAAAAAAAAAAAAAAAAAAAAAAAAAAAAAAAAAAAAAAAAAAAAAAAAAAAAAAAAAAAAAAAAAAAAAAAAAAAAAAAAAAAAAAAAAAAAAAAAAAAAAAAAAAAAAAAAAAAAAAAAAAAAAAAAAAAAAAAAAAAAAAAAAAAAAAAAAAAAAAAAAAAAAAAAAAAAAAAAAAAAAAAAAAAAAAAAAAAAAAAAAAAAAAAAAAAAAAAAAAAAAAAAAAAAAAAAAAAAAAAAAAAAAAAAAAAAAAAAAAAAAAAAAAAAAAAAAAAAAAAAAAAAAAAAAAAAAAAAAAAAAAAAAAAAAAAAAAAAAAAAAAAAAAAAAAAAAAAAAAAAAAAAAAAAAAAAAAAAAAAAAAAAAAAAAAAAAAAAAAAAAAAAAAAAAAAAAAAAAAAAAAAAAAAAAAAAAAAAAAAAAAAAAAAAAAAAAAAAAAAAAAAAAAAAAAAAAAAAAAAAAAAAAAAAAAAAAAAAAAAAAAAAAAAAAAAAAAAAAAAAAAAAAAAAAAAAAAAAAAAAAAAAAAAAAAAAAAAAAAAAAAAAAAAAAAAAAAAAAAAAAAAAAAAAAAAAAAAAAAAAAAAAAAAAAAAAAAAAAAAAAAAAAAAAAAAAAAAAAAAAAAAAAAAAAAAAAAAAAAAAAAAAAAAAAAAAAAAAAAAAAAAAAAAAAAAAAAAAAAAAAAAAAAAAAAAAAAAAAAAAAAAAAAAAAAAAAAAAAAAAAAAAAAAAAAAAAAAAAAAAAAAAAAAAAAAAAAAAAAAAAAAAAAAAAAAAAAAAAAAAAAAAAAAAAAAAAAAAAAAAAAAAAAAAAAAAAAAAAAAAAAAAAAAAAAAAAAAAAAAAAAAAAAAAAAAAAAAAAAAAAAAAAAAAAAAAAAAAAAAAAAAAAAAAAAAAAAAAAAAAAAAAAAAAAAAAAAAAAAAAAAAAAAAAAAAAAAAAAAAAAAAAAAAAAAAAAAAAAAAAAAAAAAAAAAAAAAAAAAAAAAAAAAAAAAAAAAAAAAAAAAAAAAAAAAAAAAAAAAAAAAAAAAAAAAAAAAAAAAAAAAAAAAAAAAAAAAAAAAAAAAAAAAAAAAAAAAAAAAAAAAAAAAAAAAAAAAAAAAAAAAAAAAAAAAAAAAAAAAAAAAAAAAAAAAAAAAAAAAAAAAAAAAAAAAAAAAAAAAAAAAAAAAAAAAAAAAAAAAAAAAAAAAAAAAAAAAAAAAAAAAAAAAAAAAAAAAAAAAAAAAAAAAAAAAAAAAAAAAAAAAAAAAAAAAAAAAAAAAAAAAAAAAAAAAAAAAAAAAAAAAAAAAAAAAAAAAAAAAAAAAAAAAAAAAAAAAAAAAAAAAAAAAAAAAAAAAAAAAAAAAAAAAAAAAAAAAAAAAAAAAAAAAAAAAAAAAAAAAAAAAAAAAAAAAAAAAAAAAAAAAAAAAAAAAAAAAAAAAAAAAAAAAAAAAAAAAAAAAAAAAAAAAAAAAAAAAAAAAAAAAAAAAAAAAAAAAAAAAAAAAAAAAAAAAAAAAAAAAAAAAAAAAAAAAAAAAAAAAAAAAAAAAAAAAAAAAAAAAAAAAAAAAAAAAAAAAAAAAAAAAAAAAAAAAAAAAAAAAAAAAAAAAAAAAAAAAAAAAAAAAAAAAAAAAAAAAAAAAAAAAAAAAAAAAAAAAAAAAAAAAAAAAAAAAAAAAAAAAAAAAAAAAAAAAAAAAAAAAAAAAAAAAAAAAAAAAAAAAAAAAAAAAAAAAAAAAAAAAAAAAAAAAAAAAAAAAAAAAAAAAAAAAAAAAAAAAAAAAAAAAAAAAAAAAAAAAAAAAAAAAAAAAAAAAAAAAAAAAAAAAAAAAAAAAAAAAAAAAAAAAAAAAAAAAAAAAAAAAAAAAAAAAAAAAAAAAAAAAAAAAAAAAAAAAAAAAAAAAAAAAAAAAAAAAAAAAAAAAAAAAAAAAAAAAAAAAAAAAAAAAAAAAAAAAAAAAAAAAAAAAAAAAAAAAAAAAAAAAAAAAAAAAAAAAAAAAAAAAAAAAAAAAAAAAAAAAAAAAAAAAAAAAAAAAAAAAAAAAAAAAAAAAAAAAAAAAAAAAAAAAAAAAAAAAAAAAAAAAAAAAAAAAAAAAAAAAAAAAAAAAAAAAAAAAAAAAAAAAAAAAAAAAAAAAAAAAAAAAAAAAAAAAAAAAAAAAAAAAAAAAAAAAAAAAAAAAAAAAAAAAAAAAAAAAAAAAAAAAAAAAAAAAAAAAAAAAAAAAAAAAAAAAAAAAAAAAAAAAAAAAAAAAAAAAAAAAAAAAAAAAAAAAAAAAAAAAAAAAAAAAAAAAAAAAAAAAAAAAAAAAAAAAAAAAAAAAAAAAAAAAAAAAAAAAAAAAAAAAAAAAAAAAAAAAAAAAAAAAAAAAAAAAAAAAAAAAAAAAAAAAAAAAAAAAAAAAAAAAAAAAAAAAAAAAAAAAAAAAAAAAAAAAAAAAAAAAAAAAAAAAAAAAAAAAAAAAAAAAAAAAAAAAAAAAAAAAAAAAAAAAAAAA==\" type=\"audio/wav\" />\n",
       "                    Your browser does not support the audio element.\n",
       "                </audio>\n",
       "              "
      ],
      "text/plain": [
       "<IPython.lib.display.Audio object>"
      ]
     },
     "execution_count": 22,
     "metadata": {},
     "output_type": "execute_result"
    }
   ],
   "source": [
    "amp = 0.001\n",
    "framerate = 10000\n",
    "duration = 1\n",
    "\n",
    "signal = UncorrelatedPoissonNoise(amp=amp)\n",
    "wave = signal.make_wave(duration=duration, framerate=framerate)\n",
    "wave.make_audio()"
   ]
  },
  {
   "cell_type": "markdown",
   "metadata": {},
   "source": [
    "To check that things worked, we compare the expected number of particles and the actual number:"
   ]
  },
  {
   "cell_type": "code",
   "execution_count": 23,
   "metadata": {},
   "outputs": [
    {
     "name": "stdout",
     "output_type": "stream",
     "text": [
      "10.0 13\n"
     ]
    }
   ],
   "source": [
    "expected = amp * framerate * duration\n",
    "actual = sum(wave.ys)\n",
    "print(expected, actual)"
   ]
  },
  {
   "cell_type": "markdown",
   "metadata": {},
   "source": [
    "Here's what the wave looks like:"
   ]
  },
  {
   "cell_type": "code",
   "execution_count": 24,
   "metadata": {},
   "outputs": [
    {
     "data": {
      "image/png": "[encoded data removed]",
      "text/plain": [
       "<Figure size 432x288 with 1 Axes>"
      ]
     },
     "metadata": {
      "needs_background": "light"
     },
     "output_type": "display_data"
    }
   ],
   "source": [
    "wave.plot()"
   ]
  },
  {
   "cell_type": "markdown",
   "metadata": {},
   "source": [
    "And here's its power spectrum on a log-log scale."
   ]
  },
  {
   "cell_type": "code",
   "execution_count": 25,
   "metadata": {},
   "outputs": [
    {
     "name": "stderr",
     "output_type": "stream",
     "text": [
      "No handles with labels found to put in legend.\n"
     ]
    },
    {
     "data": {
      "image/png": "[encoded data removed]",
      "text/plain": [
       "<Figure size 432x288 with 1 Axes>"
      ]
     },
     "metadata": {
      "needs_background": "light"
     },
     "output_type": "display_data"
    }
   ],
   "source": [
    "spectrum = wave.make_spectrum()\n",
    "spectrum.plot_power()\n",
    "thinkplot.config(xlabel='Frequency (Hz)',\n",
    "                 ylabel='Power',\n",
    "                 xscale='log', \n",
    "                 yscale='log')"
   ]
  },
  {
   "cell_type": "markdown",
   "metadata": {},
   "source": [
    "Looks like white noise, and the slope is close to 0."
   ]
  },
  {
   "cell_type": "code",
   "execution_count": 26,
   "metadata": {},
   "outputs": [
    {
     "data": {
      "text/plain": [
       "-0.0287979638611594"
      ]
     },
     "execution_count": 26,
     "metadata": {},
     "output_type": "execute_result"
    }
   ],
   "source": [
    "spectrum.estimate_slope().slope"
   ]
  },
  {
   "cell_type": "markdown",
   "metadata": {},
   "source": [
    "With a higher arrival rate, it sounds more like white noise:"
   ]
  },
  {
   "cell_type": "code",
   "execution_count": 27,
   "metadata": {},
   "outputs": [
    {
     "data": {
      "text/html": [
       "\n",
       "                <audio  controls=\"controls\" >\n",
       "                    <source src=\"data:audio/wav;base64,UklGRkROAABXQVZFZm10IBAAAAABAAEAECcAACBOAAACABAAZGF0YSBOAABJEgAAAABJEgAASRKSJJIkSRIAAEkSkiSSJEkSkiRJEkkSkiSSJEkSAABJEgAASRIAANs2SRIAAJIkAABJEkkS2zaSJJIkSRJJEkkSSRJJEkkSSRJJEgAAAACSJEkSSRKSJAAASRJJEkkSAACSJNs2AAAAAAAASRKSJJIkAACSJEkSAADbNkkSAADbNgAAkiQAAAAAAAAkSUkSkiRJEkkSkiRJEts22zaSJEkSSRKSJAAAAADbNpIkJElJEpIkSRJJEgAASRIkSQAASRIAAEkStm0AAAAAkiQAAEkSAAAAANs2kiQkSUkSSRIAAJIkkiSSJAAAkiTbNts2SRIAAEkSAAAAANs2AADbNgAAJElJEpIkSRJJEkkSkiRJEkkSSRIAAAAAAABJEgAAAAAAAAAAAABJEkkSSRIAANs2SRIAAAAAJEkAAAAASRJJEgAAkiTbNkkS2zZJEkkSkiRJEpIkAAAAAAAAAABJEkkSAADbNgAASRIAAEkSSRJJEgAAAABJEkkS2zZJEkkSkiQAAJIkkiRJEkkSSRIAAEkSkiRJEpIkkiTbNkkSkiQAAJIkkiQAAAAA2zYAAEkSSRIAANs2kiRJEpIkSRLbNpIkSRJJEgAASRKSJAAA2zYAAJIkSRLbNkkSSRJJEkkSkiRJEkkSAABJEgAAkiRJEkkSAABJEts2SRJJEpIkSRJJEkkSAABJEgAASRLbNgAASRJJEpIkSRJJEkkSAADbNkkSAAAAAJIk2zaSJAAASRJJEgAAAADbNkkSSRIAAEkS2zYAANs2AACSJNs2AABJEpIkSRJJEkkSSRJJEpIkSRIAAEkSSRIAAEkS2zZJEgAAkiSSJAAASRIAAJIkSRJJEkkSkiSSJEkSAADbNkkSAABJEkkSAACSJAAAkiRJEgAAAABJEgAAAAAAAEkSkiRJEgAASRKSJAAAkiSSJEkSAAAAAJIkkiSSJNs2JElJEgAAAADbNpIkSRIAAEkSSRJJEgAA2zZJEkkSkiSSJEkSSRIAAEkSAABJEkkSAABJEkkSkiRJEpIkAAAAAAAAAAAAAJIkkiRJEgAAAAAAAEkSkiRJEts2AACSJJIkSRIAAAAASRKSJAAAAABJEkkSkiSSJEkS2zbbNpIkAAAAAEkSJEmSJAAAAADbNgAAAABJEpIkAAAAAAAAAACSJEkSAACSJJIkAAAAANs2AACSJJIkSRJJEkkSSRLbNkkSAAAAAEkSAACSJEkSAAAAAEkSAACSJAAAkiQAAJIk2zaSJAAAkiTbNpIkAABJEpIkAABJEkkSSRKSJEkSAAAAAEkSSRIAAEkSSRIAAAAAAADbNpIkAACSJEkSSRKSJJIkAAAAAEkS2zaSJAAAAAAkSQAAAABJEgAAAABJEgAAAABJEpIkAACSJEkSSRIAAJIkkiRJEgAASRJJEpIkSRKSJAAASRJJEkkS2zYAAJIk2zaSJJIkbVtJEgAASRLbNts2AABJEgAASRLbNkkSSRJJEgAASRIAAEkSSRIkSQAAAAAAAJIkAAAAAAAASRJJEgAASRIkSZIk2zaSJAAASRLbNgAAkiSSJAAASRJJEts2kiQAAEkSkiRJEkkSkiQAAEkS2zaSJAAASRKSJAAASRIAAJIk2zaSJAAASRIAAJIkAACSJAAASRIAAJIkSRIAAEkSSRLbNkkSAAAAAAAASRJJEkkSSRIAANs2SRJJEgAAAAAAAAAAAABJEkkSSRIAAJIkAACSJEkSAAAAAAAASRIAAJIkAAAAAEkSAABJEgAASRKSJJIkAAAAAAAASRJJEgAASRIAAAAAkiQAAAAASRIAAEkS2zZJEkkSSRKSJEkSSRIAAJIkAAAAAAAAAAAAAJIkSRJJEgAAAAAAAEkSAAAAAEkSkiRJEpIkAAAAAAAASRIAAEkSAABJEkkSAACSJAAAAABJEkkSAADbNgAAAACSJEkSSRJJEpIkkiQAANs22zZJEpIkAABJEgAA2zZJEpIkSRJJEkkSAABJEkkSSRLbNpIkkiQAAAAASRKSJEkSSRJJEkkSSRIAAAAASRJJEts2AABJEkkS2zZJEpIkJElJEgAAkiQAAEkSkiRJEkkSSRIAACRJkiQAAAAAAAAAAAAAAABJEkkS2zZJEkkSkiSSJJIkkiQAAJIkAADbNts2SRJJEkkSAAAAAEkSSRJJEgAAkiRJEgAAAAAAAJIkSRIAACRJkiRJEgAAAADbNpIkAABJEpIkAAAAAAAAAABJEgAASRIkSQAAAAAAAAAASRJJEkkSSRJJEgAAAAAAAAAAAADbNpIkAACSJEkSAAAAAAAASRJJEgAA2zbbNkkSSRJJEgAASRIAAJIkAAAAAAAASRIAAAAAkiQAAAAAAAAAAJIkAABJEpIkAACSJJIk2zZJEkkS2zaSJAAASRIAAAAASRIAAEkSAABJEgAAAAAAAJIkSRIAAAAAkiRJEgAAkiQAANs2SRIAAEkSkiSSJJIkSRJJEkkSkiRJEkkSJEmSJEkSSRJJEpIkSRJJEgAAAABJEgAASRLbNpIkSRIAAAAASRJJEpIkAAAAAAAASRLbNgAASRJJEgAAAAAAAEkSkiQAAEkSAABJEkkSAACSJJIkAACSJEkSkiSSJEkSAACSJJIkSRJJEts2AAAAAEkSJEkAAEkSAABJEkkSAABJEkkSSRLbNts2AACSJEkSSRJJEgAAAABJEts2AAAAAAAAAABJEpIkSRJJEgAASRJJEkkS2zbbNgAASRLbNkkSAAAAAJIkkiSSJJIkSRKSJJIkAAAAAG1bSRKSJNs2AAAAAAAAAABJEgAASRLbNkkSkiRJEpIkSRJJEgAAAACSJEkSAABJEkkSSRJJEkkSAAAAANs2SRIAAJIkSRIAAEkSAACSJAAASRIAAAAASRIAAAAASRJJEkkSAADbNkkSAAAAAEkSAAAAAEkSkiQAAEkSAABJEgAAAAAAAEkSkiSSJAAAAABJEkkSSRIAAAAAAAAAAJIkkiQAAEkS2zaSJEkSAAAAAEkSJEkAAEkSkiSSJAAAAAAAAEkSkiQAANs2SRJJEpIkSRKSJAAAAABJEkkSAABJEkkSSRIAAJIkAABJEkkSkiQAAEkSSRJJEgAAAAAAAAAASRKSJAAAAABJEkkSkiQAAJIkAAAAAEkSAABJEgAASRIAAAAAkiRJEgAA2zZJEgAAAAAAAEkSAACSJEkSkiRJEgAAAABJEkkSkiRJEkkSkiQAAJIkJEkAAAAASRKSJJIkAACSJJIkSRJJEm1bAABJEgAAAABJEkkSAAAAAAAA2zYAAAAAAAAAAEkSSRIAAEkSSRJJEkkSAACSJAAASRIAAEkSSRIAAAAAAABJEgAAkiRJEgAASRJJEts2AADbNkkSAAAAAJIkSRKSJAAAAAAAAAAAAAAAAEkSAAC2bQAASRJJEgAAAABJEgAASRJJEkkSkiRJEpIkAAAAAJIkAAAAAAAAJElJEpIkSRJJEkkSSRIAAEkSSRKSJEkSSRJJEkkS2zZJEgAAAABJEkkSSRIAAAAAAACSJAAAAAAAAEkSAADbNgAAkiRJEgAAJElJEpIkAAAAAEkSAAAAAJIkAADbNgAAJElJEkkSkiQAAJIkAACSJAAAAAAAAJIkAACSJEkSAACSJAAASRIAAJIkAABJEkkSkiTbNgAASRJJEkkSkiQAAAAASRJJEkkSAAAAAAAAAACSJJIkAACSJAAAAAAAAJIkkiRJEkkSSRIAAP9/kiQAAAAAAADbNts2kiTbNkkSAACSJEkSkiQAAJIkSRJJEkkSkiQAAEkSSRIAAEkS2zZJEm1bSRIAAEkSkiQAAEkSSRKSJAAAAAAAAAAASRJJEgAAkiRJEgAASRIAAEkSbVsAAJIkSRJJEpIkSRIAAAAAAAAAAJIkAABJEpIkSRIAAJIkkiQAAEkSSRJJEgAAkiRJEpIkkiQAAEkSkiQAAEkS2zaSJEkSSRJJEkkSSRJJEgAAkiQAAEkSSRJJEpIkkiQAAAAASRKSJEkSSRIAAEkSSRLbNkkSAABJEpIkkiQAAEkSSRKSJEkSAABJEpIk2zZJEkkSSRJJEgAAAABJEgAAAABJEgAA2zZJEgAAAAAAAEkSAAAAAAAASRJJEkkSAABJEiRJ2zbbNgAAAABJEkkSSRJJEgAAAABJEkkSSRJJEpIkAADbNkkSkiRJEgAASRIAAEkSSRKSJEkS2zZJEkkSAABJEkkSkiQAAEkSSRIAAJIkSRLbNkkSSRKSJNs22zZJEgAASRIAAEkSSRLbNkkSSRKSJEkSAAAAAEkSSRJJEgAASRIAAAAASRKSJJIkSRJJEpIkAAAAAAAAAAAAAJIkSRIAAAAAAACSJAAASRJJEkkSkiQAAJIkSRIAAJIkAABJEgAAAABJEkkSAACSJCRJSRIAACRJSRJJEkkSkiRJEpIkSRJJEpIkkiRJEkkSkiRJEkkSSRIAAAAAJEkAANs2AABJEkkSAAAAAEkSAAAAAAAAAAAAAAAAAAAAANs2SRJJEgAA2zaSJEkSAABJEpIkkiRJEgAAAAAAAJIkSRJJEgAAAAAAAAAASRKSJEkSAABJEgAAAADbNgAAkiRJEkkSAABJEpIkAABJEm1bAAAAAEkSAAAAAJIkkiRJEgAA2zaSJJIk2zYAAEkSAAAAAEkSAAAAAEkSAABJEkkSkiQAAJIkAAAAAAAAAAAAAAAAkiRJEgAAAACSJNs2AAAAAJIkAAAAAEkSkiSSJEkSSRLbNgAAkiQkSZIkSRIAAEkSSRJJEts2SRIAAJIkSRKSJJIkkiQAAEkSkiQAAAAAkiQAAAAAAABJEgAAkiRJEgAAAABJEpIkSRIAAEkSSRIAANs2kiQAAAAASRIAAEkSSRLbNkkS2zYAAAAA2zYAANs2AAAAAAAA2zaSJAAAkiQAAJIkkiQAAAAAkiQAANs2SRJJEts2AACSJAAASRJJEkkSkiQAAEkSkiSSJEkSkiRJEts2AABJEkkSAAAAAJIkAAAAAAAASRKSJNs2kiRJEgAAAADbNgAASRIAAAAASRKSJAAAAACSJEkSkiQAAJIkAAAAAJIk2zZJEpIk2zaSJAAAAABJEgAASRIAAJIkSRJJEgAAAACSJAAAkiTbNts2SRJJEkkSSRJJEpIkkiSSJJIkkiSSJAAASRKSJEkSSRIAAEkSkiRJEgAASRKSJJIkkiQAAJIkSRJJEkkSkiSSJEkSAABJEkkSSRJJEkkSAAAAACRJAAAAAAAAAADbNgAAAABJEkkSAACSJAAASRJJEgAASRIAAAAASRIAAAAAAABJEkkSkiSSJAAAkiRJEkkSAAAAAEkSAABJEkkSAABJEpIkkiQAAAAA2zYAAJIkkiQAAAAAkiRJEgAASRIAAAAASRKSJAAAAAAAAEkSSRLbNkkSAABJEgAA2zbbNgAAAAAAAAAAkiTbNkkSkiQAAJIkAAAAAJIkkiRJEkkSkiRJEgAASRIAAAAAAABJEpIkAABJEpIkSRIAAAAASRJJEkkSAACSJAAAAAAAAEkSSRIAAEkSSRJJEts2kiQAAAAAkiQAAAAAAAAAAEkS2zYAAJIkSRJJEpIkSRIAAEkSSRIAAAAASRJJEiRJAABJEkkSAAAAAAAASRJJEts2AAAAAAAASRJJEts2AABJEpIkAAAAAEkSkiQAAJIkSRJJEpIkSRJJEpIkSRIAAEkSSRIAAAAAkiQAAEkSAABJEgAASRJJEkkSSRIAAJIkkiRJEpIkAABJEgAASRJJEgAASRJJEkkSAAAAAAAASRIAAEkSkiRJEts2SRIAAJIkAABJEkkSAAAAAAAAkiQAAAAAAABJEpIkSRKSJJIkkiQAAJIkSRLbNgAAAABJEgAAAAAAAEkSAACSJJIkAACSJCRJSRKSJEkSAAAAANs2AABJEkkSAAAAAEkSSRLbNpIkkiTbNpIkAABJEgAASRKSJEkSSRJJEgAASRIAAAAAAABJEpIkAAAAAAAASRIAAJIkAABJEts2AABJEkkSkiQAAEkSAACSJNs2AABJEkkSAABJEgAAkiQAACRJSRJJEpIkSRJJEgAASRJJEkkSSRJJEgAAAABJEkkS2zYAAAAASRIAAAAAAABJEkkSSRJJEkkSAABJEkkSkiRJEkkSkiSSJEkSSRIAAAAAkiQAAEkSAACSJEkSSRJJEgAASRLbNpIkSRIAAEkSAACSJEkSSRJJEkkSSRJJEgAASRJJEgAAAAAAACRJSRLbNgAAAABJEkkSSRJJEiRJSRIAAEkSAABJEkkSSRJJEiRJAADbNkkSJEkAANs2kiQAAAAAkiRJEgAAkiQAAEkSAACSJAAAkiRJEpIkSRIAAJIkkiQAAJIkSRJJEkkSAACSJEkSSRKSJJIkAADbNgAASRJJEkkSAABJEgAAAADbNgAAAADbNgAAAACSJJIkkiQAAEkSAAAAAJIkSRJJEpIkAACSJEkSAACSJEkSkiQAAEkSAACSJJIkAACSJNs2AABJEts2SRIAAEkSSRIAAEkSAABJEkkSkiRJEkkSSRIAAAAAAAAAAAAAAAAAAAAASRIAAEkSAAAAAAAAAACSJEkSSRLbNgAAAABJEkkSAABJEgAASRIAAEkSSRJJEkkSAAAAAAAAAAAAAAAA2zYAAAAASRJJEkkS2zaSJAAASRKSJAAAAABJEpIkAAAAAAAAAAAAAAAASRKSJJIkAAAAANs2AABJEgAAkiQkSUkSAABJEgAAkiSSJAAASRIAAAAASRIkSUkSAAAAAAAAkiQAAAAASRKSJEkSAAAAAEkSAABJEgAAAABJEkkSAABJEpIkAAAAAEkSSRJJEkkSSRKSJAAAkiQAAAAAAACSJAAAkiRJEpIkkiSSJJIkJEkAAJIkAAAAANs2AABJEkkSSRJJEgAAAABJEgAASRIAAJIkAACSJJIkAABJEkkSAACSJAAAkiQAAJIkkiQAAEkSAAAAAEkSSRJJEgAASRIAAEkSAAAAAAAAAAAAAEkSSRIAAJIkAACSJAAAAABJEpIkkiQAAAAAAACSJEkSAACSJAAASRKSJAAASRKSJEkSkiSSJEkSkiRJEpIkkiRJEgAAAACSJEkSAABJEpIkAACSJAAA2zYAAEkSSRK2bUkSAAAAAEkSAACSJEkS2zZJEkkSAABJEgAASRIkSZIkSRIAAEkSSRIAAEkSAADbNkkSAAAAAEkSkiRJEpIkSRIAAJIkAABJEgAAkiS2bZIk2zaSJEkSAABJEgAAAABJEkkSkiQAAEkSAABJEkkSAABJEgAASRLbNkkSSRKSJJIkAAAAAEkSAAAAAAAASRLbNts2kiRJEts2SRJJEpIkAABJEgAAAAAAAAAAAABJEgAAAABJEpIkkiSSJEkS2zaSJEkSAABJEkkSSRJJEgAAAACSJJIkSRIAAEkSSRIAAEkSSRJJEgAAAAAAAAAAAABJEkkSAADbNgAASRIAAAAAAABJEkkSSRIAAEkSSRJJEgAAkiRJEkkSSRKSJEkSkiSSJEkSSRJJEkkSSRKSJJIkSRJJEgAASRJJEkkSkiSSJAAASRIAAEkSAAAAAJIkAACSJNs2AAAAAEkS2zYAAEkSSRKSJEkSAAAkSQAAAADbNkkSkiQAAEkSSRIAAJIkkiQAAEkSSRJJEgAASRJJEkkSAACSJEkSSRLbNkkSAABJEkkSAABJEkkSAAAAAJIkAAAAAAAASRIAAAAAAACSJAAA2zZJEgAASRJJEkkSSRJJEkkSkiQAANs2kiSSJEkSAABJEgAASRJJEgAASRJJEkkSkiRJEgAAAAAAAEkSkiTbNkkSAABJEkkSSRJJEgAAkiQAAAAAAABJEgAASRIAAJIkSRJJEgAAAAAAAEkSAACSJJIkAABJEgAAAACSJAAAAABJEts2kiSSJAAASRJJEkkSSRIAAAAASRJJEkkSkiSSJEkSkiSSJJIkSRIAAAAASRIAAJIkkiRJEkkSkiQAAJIkkiQAAAAASRJJEkkSAAAAAAAAkiQAANs2SRIAAEkSAAAAAJIkSRJJEkkSAADbNkkSAABJEgAAAACSJJIkSRIAANs2AACSJJIkAABJEgAASRJJEkkSSRIAAAAAAADbNgAASRKSJEkSAAAAAAAAAABJEgAAAABJEkkSkiQAANs2AABJEgAAkiSSJAAAAABJEpIk2zZJEgAASRIAAJIkAAAAAJIkSRJJEgAAAABJEpIkkiSSJEkSAABJEgAAAABJEts2kiRJEpIkAAAAAEkSAABJEgAAAABJEgAASRKSJAAA2zZJEgAAAAAAAEkSkiQAAAAA2zaSJAAAAAAAAEkS2zYAAJIkAABJEgAAAAAAAAAAkiRJEkkSAAAAAAAAAABJEkkSSRIAAAAAkiSSJNs2AACSJEkSAAAAAAAAAACSJAAAAACSJAAAAAAkSds2AACSJEkSAAAAAAAASRKSJAAAkiQAAJIkkiRJEkkS2zZJEpIkAABJEgAASRIAACRJAABJEpIkAACSJEkSSRJJEgAAAABJEkkSJEkAAAAAAACSJEkS2zZJEgAASRIAAEkSAABJEgAAkiRJEgAAkiQAAEkSkiSSJAAAkiTbNgAAkiRJEpIkAADbNgAAAAAAAEkSSRJJEkkSkiQAAJIkSRJJEkkSkiTbNkkSAABJEgAASRJJEkkSAADbNgAASRIAAEkSSRIAAJIkAAAAAEkSAABJEkkSSRIAAAAAAABJErZtAAAAAJIkAAAAAAAAAABJEpIkkiQAAJIk2zYAAAAAAABJEgAA2zYAAAAAAACSJAAA2zYAANs2SRIAANs2AAAAAJIkAABJEts2SRIAAAAASRKSJEkSAACSJAAAAAAAAAAA2zYAAEkSAAAAAEkSkiSSJNs2SRLbNgAASRKSJAAAkiQAAAAASRKSJJIkAABJEgAAkiSSJAAASRIAAEkSAAAAAEkSSRJJEgAAAABJEkkSSRIAAEkSAAAAAAAASRJJEpIkSRJJEts2AAAAAAAAAABJEkkSSRJJEkkSAAAAAAAAAABJEgAASRJJEkkSAABJEgAA2zZJEiRJAABJEkkSSRKSJEkSSRJJEgAAAAAAAEkSAACSJEkSSRIAAEkSSRKSJJIkAABJEpIkJEmSJEkSSRKSJEkSSRIAAJIkSRJJEgAASRLbNgAASRJJEgAAkiSSJJIkAAAAAEkSAABJEgAAkiRJEkkSSRJJEgAAAAAAANs2kiQAANs2SRJJEkkSAAAAAEkSkiRJEts2AACSJEkSAAAkSQAAkiQAAAAAAAAAANs2kiTbNgAAkiQAAAAASRIAAEkSkiSSJNs2SRJJEgAA2zbbNpIkAACSJEkSkiRJEgAASRIAAEkSSRKSJNs2SRIAAJIkSRJJEkkSAABJEgAASRIAAEkSSRIAAEkSSRJJEkkSSRKSJEkSSRKSJAAASRIAAAAAAAAAAEkSkiRJEgAASRIAAEkSSRIAAAAASRJJEkkSkiSSJAAAkiSSJAAA2zaSJAAAkiRtW0kSAADbNgAAkiRJEgAASRJJEpIkkiQAAEkSkiSSJAAAkiQAAAAAkiRJEpIkAAAAAAAAAAAAAAAAAAAAAAAAAABJEkkSAAAAAJIkSRIAAEkSSRIAANs2SRIAAAAASRJJEkkS2zYAAAAAAACSJCRJSRJJEkkSAACSJAAAAAAAAAAAAABJEpIkkiQkSQAASRJJEkkSAAAAAAAAkiRJEgAAAABJEts2SRIAAEkSAABJEgAASRIAAJIkkiQAAEkSkiRJEpIkSRJJEts2kiQAAEkSAAAAAAAAAABJEkkS2zYAAJIkAABJEkkSAACSJEkSAABJEkkSkiRJEgAAkiQAAAAAkiRJEkkSJEkAAEkSSRJJEgAASRJJEkkSkiQAAAAAkiQAAEkSSRJJEgAAAABJEts22zYAAAAA2zYAAAAASRJJEiRJAAAAAEkSAAAAAAAAkiQAAEkSSRJJEgAAAACSJNs2SRKSJNs2kiQAAJIkkiQAAEkSSRJJEkkSkiQAAJIkAAAAAJIkSRKSJEkSSRJJEkkSSRIkSQAAAACSJAAAAAAAAEkSAAAAAJIk2zaSJEkS2zaSJAAA2zaSJAAASRJJEpIkSRKSJAAAkiSSJAAAkiSSJEkSkiRJEgAASRJJEgAASRIAAEkSAAAAAAAASRJJEkkSAAAAAAAASRIkSUkSAAAAAAAASRIAAEkSSRIAAAAASRJJEpIkAAAAANs2AACSJAAASRJJEgAASRIAAAAAAAAAAEkSkiRJEkkSkiQAAEkSAABJEkkSSRIAANs2bVsAAJIkkiSSJJIkAAAAAAAASRKSJEkSSRKSJJIkAACSJAAAkiQAAAAAkiQAAEkSSRJJEgAAAACSJAAAAABJEkkSAAAAAEkSSRIAAJIkAAAAAJIkAACSJEkSAABJEkkSAAAAAAAASRJJEgAAkiQAAJIkAAAAAEkSkiQAAEkSAABJEgAAAAAAAEkSSRJJEkkSSRIAAEkSAACSJCRJSRKSJEkSSRIAAAAAkiQAAEkSkiRJEkkSAACSJEkSkiRJEgAAAABJEkkSSRIAAAAASRJJEkkSkiQkSUkSSRIAAAAAAABJEkkSkiQkSUkSSRIAAAAAkiSSJEkSSRIAAAAASRJJEgAAAAAAAAAAAAAkSQAASRJJEgAASRKSJEkSkiQAAAAASRKSJJIkSRKSJNs2SRIAAEkSAAAAAEkSSRIAANs22zZJEgAAAABJEgAAAAAAAEkSAABJEgAAAABJEpIkAADbNpIkSRKSJEkSAACSJEkSAACSJJIkAAAAAAAAAABJEgAAkiSSJEkSSRIAAEkSAACSJJIkAAAAAAAASRJJEkkSSRKSJJIkSRKSJJIk2zZJEkkSSRJJEgAAkiQAAEkSSRJtW0kSSRIAAAAAAACSJNs2SRIAAAAAAAAkSUkSSRIAANs2AADbNgAAAAAAAAAASRIAAEkSSRIAAEkSkiRJEkkSkiSSJAAASRIAANs2AABJEgAAAABJEgAASRIAAAAASRLbNgAASRIAAAAAAAAAAEkSSRJJEgAASRIAAAAASRJJEpIkAABJEpIkAAAAAJIkAABJEgAAbVtJEkkSSRLbNiRJkiQAAAAAAADbNkkSSRKSJJIkSRIAAAAAAABJEiRJAABJEkkSAAAkSQAAkiRJEgAASRIAAEkSAAAAAAAASRIAAG1bAAAAAAAAkiRJEkkSSRJJEgAASRIAAAAASRJJEts2SRJJEkkSSRKSJJIkSRIAANs2AAAAAEkSSRIAAEkSSRKSJEkSAAAAAJIkAABJEkkSAADbNgAAkiTbNkkSSRJJEiRJAAAAAEkSSRIAAJIkAAAAANs2AABJEkkSSRIAAAAASRIkSQAAAAAAAEkSAAAAAJIkAAAAAAAASRIAAJIkkiQAAAAAAACSJEkSAABJEkkSAAAAAEkSAAAAANs2AAAAAEkSSRIAAAAAkiRJEts2AAAAAEkSAAAAAAAASRJJEkkSSRIAAAAASRKSJEkSkiQAAJIkSRIAAEkSSRIAAEkSSRIAAEkSSRJJEkkSSRJJEgAASRIAAJIkkiRJEgAASRJJEpIk2zaSJAAAAABJEkkS2zYAAJIkAAAAANs2AAAAAAAAAABJEgAAAAAAAAAASRJJEkkSkiRJEgAASRIAAEkSSRIAAJIkAADbNkkSSRIAAEkSSRKSJEkSAACSJJIkAABJEpIkAAAAAAAASRIAAEkSAAAAAEkSJEkAAAAA2zZJEts2SRJJEgAAAACSJEkSSRIAAAAASRKSJEkSAABJEgAASRIAANs2JEnbNpIkSRIAAEkSAABJEgAAAABJEgAAJEmSJJIkkiRJEgAASRIAAEkSAABJEkkSSRJJEpIk2zaSJEkSSRJJEgAAAACSJAAASRJJEgAASRJJEm1bSRIAANs2SRIAANs22zZJEkkSSRIAAJIkkiQAAEkSAACSJEkSAAAAAJIkkiSSJAAAAADbNgAAkiRJEpIkSRIAAJIkSRKSJEkSSRIAAJIkSRJJEkkSSRJJEpIkSRIAAEkSSRJJEgAASRJJEts2AABJEpIkSRIAAEkSSRKSJJIkSRIAAEkSSRJJEpIkAAAAAEkSAABJEkkS2zbbNkkSAABJEgAAAABJEpIkAACSJAAAAAAAAEkSAABJEgAA2zZJEgAAAACSJJIkSRJJEkkSAAAAAJIkkiQAAAAASRIAAEkSSRIAAAAASRJJEgAAkiQAAEkSkiRJEpIkSRJJEkkSAAAAAEkSAABJEkkSAADbNkkSSRKSJEkS2zZJEgAASRJJEgAAkiRJEkkSSRJJEpIkSRKSJAAAkiSSJAAAAAAAAAAA2zYAAAAAAAAAAEkSSRKSJEkSkiTbNgAAkiSSJEkSAACSJJIkAADbNpIkAACSJAAAAAAAAAAASRIkSQAAAABJEpIkAACSJAAAkiRJEgAAAAAAAEkSAAAAAAAASRKSJJIkSRIAAEkSSRIAAAAASRIAAEkSSRIkSQAASRKSJAAASRJJEgAASRKSJEkSSRJJEkkSkiQAACRJAADbNgAASRIAAJIkkiRJEgAAkiQAAEkSSRJJEkkSAACSJAAASRJJEpIkAABJEgAASRKSJAAASRIAANs22zZJEgAASRKSJEkSAADbNkkSAABJEkkSkiSSJEkSSRIAAEkSkiQAAEkS2zZJEgAAAAAAAAAASRJJEkkS2zYAAEkSAAAAAAAAAACSJEkSSRJJEgAAAAAAANs2SRKSJEkSAAAAAJIkAABJEkkSSRIAAAAASRJJEpIkSRIAAJIkAABJEkkSSRKSJJIkAABJEgAASRIAAEkSkiQAAAAASRKSJJIkAACSJEkSSRJJEpIkbVsAAJIkAAAAAEkSkiQAAEkSSRIAAAAASRIAAJIkkiQAANs2SRIAAAAASRIAAAAAAABJEgAAkiQAANs2SRJJEgAAAABJEgAAkiQAAEkSAADbNpIkkiQAAAAAkiQkSQAAAACSJAAAAADbNpIkAACSJJIkAAAAAEkSkiRJEgAASRIAAEkSAAAAAAAA2zbbNgAAkiSSJAAAkiRJEkkSSRIAAEkSAABJEkkSkiQAAJIkSRJJEkkSSRJJEgAASRIAAAAAAAAAAAAAAACSJEkSAAAAAAAAAAAAAAAAAAAAAAAAkiQAANs2SRIAAEkS2zbbNkkSAACSJAAASRIAAJIkSRLbNpIkAAAAAEkSAADbNpIkAAAAANs2kiSSJAAAkiRJEgAA2zaSJAAASRJJEpIk2zbbNkkSAACSJAAAkiRJEgAAkiRJEkkSSRJJEpIkAACSJEkSkiRJEgAA2zZJEkkSkiRJEgAASRJJEgAASRJJEkkSSRJJEgAAkiQAAAAAAAAAAAAAkiSSJEkSAAAAAAAAAAAAAEkSSRIAAEkSSRIAAEkSAADbNkkSAABJEkkSSRIAAAAASRIAAEkSAACSJNs2SRIAAJIkAAAAAAAAAABJEkkSSRIAAAAASRJJEgAAAABJEiRJSRJJEgAAAAAAAAAAAACSJJIkkiRJEpIkJEmSJAAAAACSJAAAAABJEgAAAACSJJIkAACSJEkSAABJEpIkSRKSJAAAAABJEgAAAADbNgAA2zZJEts2SRIAAEkSSRLbNkkSAAAAAAAAkiQAAEkSAADbNkkSSRIAAAAAAABJEpIkAAAAAAAAAAAAAEkSkiQAAEkSSRJJEpIk2zYAAEkSAABJEkkSkiRJEkkSAAAAAEkSSRJJEkkSkiQAAAAASRIAAAAASRIAAEkSAAAAAAAAAABJEkkSSRJJEkkSAABJEgAASRKSJAAAkiQAAAAAAABJEkkSSRLbNkkSSRIAAAAASRJJEkkSSRJJEkkSSRIkSQAAAAAAAAAASRIAAAAASRIAAAAAkiQAAAAAkiRJEts2AAAAAEkSAACSJNs2AACSJAAAkiRJEkkSSRIAANs2SRIAAEkSSRJJEpIkkiRJEkkSkiRJEgAASRLbNkkSAACSJAAAAACSJJIkAAAAAAAASRIAAAAASRIAAEkSAABJEkkSkiRJEgAA2zbbNgAASRJJEgAAkiTbNkkSAABJEgAA2zZJEkkSAABJEkkSAABJEkkSSRIAANs2SRJJEgAAAADbNgAAAABJEgAAAAAAAAAAAAAAAAAAkiRJEgAASRIAAAAA2zbbNpIkAABJEkkSSRIAAEkSSRJJEgAASRKSJEkSSRKSJJIkkiRJEpIkAABJEgAASRIAAAAASRKSJAAAkiSSJEkSAACSJJIkAAAkSZIkAACSJCRJkiRJEts2AAAAACRJSRJJEpIkSRIAAEkSAABJEpIkkiSSJEkSSRIAAAAAAADbNkkSAACSJJIkSRIAAAAAkiRJEpIkAADbNpIkkiSSJEkSSRIAAEkSSRIAAEkSSRIAANs2SRKSJEkS2zYAAEkSAABJEpIkAABJEpIkAAAAAEkSkiRJEkkSSRKSJEkSSRIAAEkSAAAAAJIkAAAAAEkSAABJEgAAAABJEkkSSRJJEkkSSRIAAEkSSRJJEgAAAACSJEkSkiQAAEkSkiTbNpIkAADbNgAA2zZJEkkSAAAAAEkS2zZJEgAAAACSJNs2AABJEkkSSRJJEgAAAACSJAAAAABJEgAAAACSJJIkSRKSJAAA2zZJEpIkAACSJJIkkiRJEkkSSRIAAJIkAACSJAAAkiSSJJIkkiQAAAAAAAAAAEkSSRJJEgAAJElJEgAASRJJEpIkSRJJEkkSSRLbNgAAAABJEkkSSRIkSQAAAAAAAEkSAABJEkkSAAAAACRJkiQAAEkSkiRJEkkSSRKSJAAASRJJEiRJSRIAAEkSkiRJEkkSSRIAAEkSSRIAAAAASRJJEkkSSRIAAEkSAABJEkkSAACSJJIkAABJEkkSSRKSJAAA2zaSJEkSAAAAAAAAAADbNpIkSRIAAEkSAACSJEkSSRLbNgAAAAAAAAAASRJJEts2SRLbNpIkSRJJEpIkAABJEkkSSRJJEkkSSRIAANs2kiQAAAAAAACSJJIkSRKSJEkSSRKSJAAAkiRJEkkSAABJEgAAAACSJEkSAABJEpIkAAAAAAAAkiSSJEkSSRJJEgAASRJJEkkSSRIAAJIkSRJJEts2SRKSJAAASRJJEkkSAACSJEkSAAAAAAAAAACSJEkSAABJEpIkSRJJEkkSAABJEkkSAABJEgAAkiQAAAAASRIAAAAASRIAAAAASRKSJJIkAACSJAAAkiQAAEkSSRIAAEkSSRIAAAAAAADbNgAAAABJEiRJkiSSJAAAAABJEpIkSRJJEkkSSRIAAEkSkiQAAAAAAACSJEkSkiQAAAAASRJJEpIkSRIAAAAAkiQAAEkSSRIAAAAASRLbNkkSAABJEts2AAAAAEkSAAAAAEkSSRIAAJIkSRKSJAAASRIAAEkSSRIkSds2SRJJEgAAkiQAAJIkAABJEgAAkiRJEkkSSRJJEgAAAABJEkkSAAAAAAAA2zYAAAAAAABJEkkSSRLbNkkSSRKSJJIkSRIAAAAA2zaSJAAASRIAAAAAAAAAAAAAAAAkSZIkSRIAAAAAAACSJJIkAACSJAAASRKSJEkSAAAAAJIkSRJJEkkSSRIAAEkSSRLbNkkSSRJJEpIkAAAAAEkSAAAAAAAAkiRJEkkSSRKSJAAAAAAAAAAASRKSJEkSAACSJAAASRIAAAAAAAAAAAAAJEkAAAAASRJJEgAAAACSJJIkSRIAAAAAAACSJJIk2zYAAEkSAAAAAAAAAABJEpIkkiTbNpIk2zaSJEkSkiTbNkkSSRJJEgAAAAAAAAAAJEmSJAAAAAAAAAAASRIAAEkSAACSJAAASRIAAEkSkiRJEkkSSRKSJEkSSRJJEkkSkiSSJAAAkiSSJJIkSRIAAEkSSRJJEgAASRJJEkkSAAAAAEkSSRJJEkkSAABJEpIkSRJJEkkSSRIAACRJSRIAAEkSAABJEgAASRIAAEkSSRIAANs2AAAAAEkSkiQAAEkSkiRJEpIkSRIAAJIkkiSSJEkSAABJEpIkSRIAAEkSkiRJEts2AAAAAJIkAACSJAAASRIAAEkSAABJEkkSSRIAANs2AAAAAJIkSRJJEgAAkiQAAEkSSRIAAAAAAACSJJIkSRKSJCRJkiQAAEkSSRIAAJIkkiRJEkkSSRJJEkkSSRJJEts2JEkAAAAA2zYAAEkSSRKSJEkS2zaSJJIkSRKSJJIkkiRJEgAAAABJEgAAAAAAAAAASRIAAEkSSRJJEgAASRIAAJIkkiSSJEkSAABJEkkSSRJJEkkSkiQAAJIkkiQAAAAAAABJEpIkAABJEgAASRJJEkkSkiSSJEkSAAAAAEkS2zbbNkkSSRJJEkkSAABJEkkSSRKSJEkSAAAAAAAASRJJEgAAAABJEkkSAABJEkkSSRIAAJIkAACSJNs2AABJEgAAAABJEgAAJEkAAAAASRJJEts2SRIAAAAAAAAAAAAASRJJEgAAAACSJAAASRJJEgAAAAAAAJIkSRKSJEkSAABJEpIkkiQAAEkSAAAAAAAASRJJEgAASRKSJEkSJEmSJEkSSRIAANs2kiTbNkkSSRJJEpIk2zYAAJIkkiQAAAAAAAAAAAAAkiQAANs2AAAAANs2AABJEpIkJEkAAAAA2zaSJNs2SRJJEkkSkiSSJAAAAABJEkkSAABJEgAASRIAAEkS2zbbNgAAAABJEgAAAABJEgAAAACSJJIkkiQAAEkSSRLbNpIkSRJJEgAAAACSJAAAkiQAAJIkSRKSJAAASRIAAAAASRJJEkkSAABJEgAAAACSJJIkAABJEts2SRJJEgAASRIAAJIkJEnbNgAASRIAAJIkAAAAAAAASRKSJEkSAACSJAAAAABJEgAAAABJEpIk2zbbNgAASRJJEkkSAACSJAAASRKSJEkSAABJEgAAkiRJEgAA2zZJEgAASRKSJAAASRKSJAAAkiQAAJIkSRIAAAAASRIAAAAASRIAAEkSSRIAAJIkAABJEgAASRKSJAAAAABJEts2AAAAAAAAkiQAAAAASRIAAEkSAAAAAJIkSRJJEts2AAAAAG1bSRJJEgAASRIAAAAASRIAAEkSAAAAAJIkAAAAAEkSAAAAAAAAkiRJEpIkAABJEkkSSRIAAJIkAAAAAAAAkiRJEkkSkiRJEgAAAABJEkkSAABJEpIkAABJEkkSSRJJEiRJSRIAAEkSkiQAAAAAkiSSJEkSSRJJEkkSkiRJEkkSAABJEgAA2zYAANs2AAAAAEkSkiQAAAAAAAAAAAAASRKSJEkSAADbNkkSSRJJEgAAkiQAAEkSSRJJEts2kiQAAEkSAAAAAEkSAABJEkkSAABJEts2SRJJEpIkSRJJEgAA2zZJEpIkkiSSJAAASRIAAEkSAADbNgAA2zaSJAAAkiRJEkkSSRIAAAAAAADbNpIkAACSJAAASRLbNiRJSRIAAAAAAAAAAEkSkiRJEkkSkiQAAAAAAAAAAJIkAAAAAEkSSRJJEgAAAACSJAAAAAAAAEkSAAAAAAAAAABJEgAAAABJEgAASRJJEkkSkiRJEpIkkiQAANs2kiQAANs2AABJEgAAkiSSJAAAAABJEgAASRJJEpIkkiRJEgAAkiRJEgAAAACSJNs2SRIAAAAASRIAANs2AACSJAAAAAAAAEkSSRJJEkkSSRIAANs2SRIAAEkSAABJEgAA2zYAAEkSSRLbNkkSSRIAAAAASRIAAEkSSRJJEgAA2zaSJJIkSRKSJEkSSRIAAAAASRJJEgAASRIAAAAAAAAAAEkSAADbNkkSSRJJEgAASRJJEkkSAAAAAJIkAAAAAJIkAABJEgAAkiRJEpIkAADbNkkSSRLbNgAASRJJEgAASRKSJEkSAAAAAAAAAAC2bZIk2zZJEkkSAABJEgAA2zaSJAAASRJJEgAASRJJEgAASRIAAJIkSRIAAAAAkiSSJJIkkiQAAEkS2zYkSQAASRJtWwAA2zZJEgAAAABJEgAAkiQAAJIkJEkAANs2AACSJEkSSRJJEpIkSRIAAJIkSRIAAEkSSRJJEgAAAADbNgAAAABJEkkSkiQAAJIkkiTbNgAAAABJEkkSkiQAAAAAkiSSJEkSAACSJEkS2zaSJAAAkiRJEpIkSRJJEts2AABJEkkS2zZJEkkSSRIAAJIkAACSJJIk2zYAAJIkJEkAANs2SRJJEkkSAAAAAAAASRKSJEkSkiQAAAAA2zZJEgAAAAAAAEkSAABJEgAASRKSJEkSSRKSJEkSSRJJEkkSSRIAAAAA2zaSJAAAkiRJEkkSAABJEgAAAAAAAEkSSRJJEgAA2zYAAAAASRLbNkkSSRIAAJIkJEmSJJIkAAAAAJIkkiQAAJIkSRIAAEkSSRJJEkkSAADbNkkSSRIAAJIkSRIAAAAASRKSJEkSSRJJEpIkSRIAAJIkAABJEkkSAABJEkkSAABJEgAAAADbNpIkkiQAAAAAAAAAAAAAAABJEkkSSRIAAAAASRKSJEkSJEkAAEkSkiRJEgAA2zYAAEkSAAAAAAAASRKSJAAASRIAAEkSAABJEkkSAAAAAAAASRJJEpIkkiQAAJIkAAAAAEkSkiQAAJIkkiRJEkkSkiQAAAAAAABJEgAASRJJEkkSAACSJAAAkiQAAEkSAAAAAAAAkiRJEkkSAAAAAJIkAACSJNs2AAAAAEkSAAAAAEkSAAAAAEkSJElJEts2SRKSJEkSAADbNpIkkiSSJAAASRIAAAAAAAAAAEkSAACSJEkSAAAAAEkSSRKSJEkSSRKSJEkSAAAAAAAAAAAAAAAASRIAACRJAABtW0kSAABJEts2SRJJEkkSkiTbNgAAAACSJAAAAAAAAAAAAAAAAAAAkiQAAAAAAAAAAEkSAAAAANs2AACSJJIkAABJEgAAAACSJAAASRJJEpIkkiQAAEkSAAAAAEkSAAAAAJIkAACSJEkSkiQAAEkSSRIAAEkSSRKSJJIkAAAAAEkSAABJEgAAAAAAAJIkAADbNkkSAABJEkkSJEmSJAAASRKSJAAA2zaSJJIk2zbbNkkSSRJJEgAAkiQAAEkS2zYAAEkSkiQAAEkSAABJEkkSAAAAAAAAkiQAAAAAAABJEts2AAAAANs2SRLbNkkSkiRJEkkSAABtW5IkSRJJEgAAkiSSJAAAAABJEgAA2zYAAEkSAADbNkkSSRKSJEkSSRIAAJIkSRIAAAAASRJJEgAASRIAAEkSSRKSJJIkkiQAAAAAkiRJEkkSSRIAAAAAAACSJEkSSRIAAEkS2zYAAJIkSRIAAEkSSRIAAEkS2zZJEgAAAAAAAJIkSRIAAJIkkiQAAJIkAABJEpIk2zZJEgAASRIAAJIkSRIAAEkSSRKSJJIkAACSJJIkAAAAAEkSSRKSJEkSAABJEpIkSRKSJEkSAABJEkkSkiRJEpIkAAAAAAAAAABJEts2kiSSJEkSkiTbNgAAAACSJAAASRJJEgAAAABJEkkSAACSJAAASRKSJJIk2zYAAJIkSRIAAEkSSRIAAEkSSRJJEkkSAAAAAAAASRIAAEkS2zYAAEkSSRKSJNs2AACSJNs2AABJEpIkJElJEkkSAABJEiRJkiTbNpIkkiSSJAAAkiQAAAAAAAAkSQAAAABJEkkSSRIAAAAASRIAAJIkSRKSJAAAkiSSJEkSSRJJEkkSSRJJEgAAkiSSJEkSkiTbNpIkAAAAAAAASRJJEgAAAABJEkkS2zYAAAAASRIAAAAAAAAAAEkSSRJJEpIkkiRJEkkSAAAAAEkSAABJEpIkAACSJEkSSRIAAJIkSRIAANs2kiSSJEkSkiQAAEkSSRKSJAAAkiRJEkkSkiQAAAAAAAAkSUkSSRJJEpIkAAAAANs2SRJJEkkSSRIAAEkSkiQAAJIkkiQAANs2SRIAACRJSRJJEkkSSRIAAEkSAAAAAAAAAABJEgAAkiQAAJIkSRIAAAAASRJJEkkSSRIAAAAAAAAAAAAAAACSJEkSkiQAAJIkkiSSJJIkAAAAAEkSAABJEpIkSRIAAAAASRJJEpIkAAAAAJIkAAAAAEkS2zYAAEkSkiRJEgAA2zYAAEkSSRJJEpIkAACSJAAAAABJEkkSAABJEpIkSRLbNts2AAAAAEkSSRIAAEkSkiQAAAAAAAAAAAAASRIAAEkSkiRJEpIk2zYAAJIkSRJJEkkSSRKSJAAASRIAANs2SRKSJEkSAAAAACRJAAAAAAAAAAAAAAAAAAAAAEkS2zZJEkkS2zYAAAAAkiRJEkkSSRIAAJIk2zZJEgAAAABJEkkSSRIAAJIkAAAAAJIkAABJEgAASRIAAJIkkiQAAAAAkiSSJJIkAAAAAAAAAABJEgAASRIAAEkSkiSSJEkSAABJEm1b2zYAAJIkAAAAAEkSAABJEts2AAAAAEkSSRLbNgAAAAAAANs2kiSSJAAAAABJEgAAAABJEkkS2zYAAAAASRLbNkkSAAAAAAAAkiQAAEkSkiRJEkkSkiTbNgAAkiSSJEkS2zZJEgAAAADbNkkSAACSJEkSSRLbNgAAAABJEkkSSRJJEkkSkiRJEgAAAAAAAAAASRJJEgAASRJJEkkSSRIAAEkSkiRJEpIkAABJEgAAAACSJEkSkiQAAAAAAABJEkkSAAAAAAAAAAAAACRJSRIAAEkSAAAkSUkSAAAAAEkSSRJJEgAASRJJEkkSSRIAAAAAkiRJEkkSSRJJEgAAAAAAAAAAAAAAAEkSkiSSJEkSkiSSJAAASRKSJNs2SRIAAAAASRKSJJIkkiSSJEkSkiRJEkkSSRJJEgAAAABJEgAAJEkAAJIkSRIAANs2SRJJEgAAAABJEpIkSRLbNpIkAAAAANs2AADbNpIkkiRJEts2AACSJNs22zYAAAAASRLbNgAAkiSSJAAA2zZJEgAAAABJEgAAkiRJEts2SRKSJJIkSRIAANs2kiSSJAAASRKSJAAAkiRJEkkS2zYAAAAASRIAAEkSAAAAAAAAkiQAAAAASRIAAEkSSRKSJJIkkiQAAJIkkiRJEgAASRJJEgAAkiRJEpIkkiQAAAAASRJJEkkSSRIAAAAASRJJEkkSAACSJAAAkiSSJJIkkiSSJJIkAACSJEkSAAAAAEkSAACSJAAA2zYAAAAAkiQAAEkSAABJEkkSSRJJEkkSAAAAAEkSSRJJEgAAAAAAAEkSJEmSJEkSSRKSJEkSSRIAAEkSSRIAAEkSSRIAANs2AAAAAAAAAADbNkkSkiQkSQAASRKSJAAASRJJEgAASRKSJAAAAACSJAAASRKSJAAA2zaSJEkSAAAAAAAASRJJEgAA2zZJEm1bSRIAAAAAkiSSJJIkAABJEgAASRIAAAAAAABJEgAAAABJEpIkSRJJEiRJkiRJEgAAAAAAAAAASRJJEpIkSRJJEkkSAACSJAAAAAAAAAAAJElJEkkSkiSSJJIkSRIAAAAAAAAAANs22zaSJAAA2zZJEkkSSRJJEgAASRIAAJIkSRIAAJIkSRIAAEkSAAAAAAAAkiTbNgAAAACSJJIkSRKSJAAASRIAAAAA2zYAANs2AACSJEkSAACSJEkSkiQkSds2AAAkSUkSSRJJEpIkAABJEkkSSRJtW5IkkiQAAAAAAAAAANs2kiRJEgAASRIAAAAASRIAAJIkSRKSJJIkkiQAAEkSSRLbNgAAAABJEgAASRKSJJIkSRIAAJIkSRJJEgAASRIAAEkSAABJEkkSAAAAAJIkkiRJEgAASRIAAJIkkiSSJJIkkiQAAAAASRIAAEkSSRIAAAAA2zYAAAAAkiQAAAAAAAAAAAAAAABJEgAAAAAAAAAAkiRJEgAASRKSJEkSAABJEgAAAADbNpIkAAAAAEkSSRJJEkkSkiQAAJIkSRIAAAAAkiSSJEkSAABJEkkSkiSSJAAA2zbbNkkSAABJEgAASRKSJJIkSRJJEgAAAABJEkkSSRIAAJIkkiTbNkkSkiSSJEkSAACSJAAASRIAAEkSAAAAAEkSSRJJEgAASRIAAJIkAABJEgAAAABJEkkSSRJJEkkS2zZJEgAAAABJEpIkkiRJEgAASRJJEkkSSRIAAEkSAACSJEkSAACSJAAASRIAAAAAkiRJEgAAAAAAAEkSAABJEgAASRJJEgAASRIAAEkSSRJJEkkSSRJJEgAASRJJEkkSAACSJEkSSRLbNpIk2zZJEgAASRKSJEkSSRKSJJIkAAAAAAAAAABJEgAAkiRJEpIkAACSJAAAAAAAAJIkSRIAAJIkSRJJEkkSAABJEkkSAABJEkkS2zYAANs2AABJEpIkSRKSJAAAJEkAAJIkAAAAAEkSSRJJEgAASRIAAEkSSRIAAAAAJEmSJAAA2zZJEpIkkiQAACRJSRKSJEkSAABJEkkSkiRJEpIkkiRJEkkSkiRJEgAAAAAAAJIkSRIAAEkSSRJJEm1bAAAAAEkSAACSJAAASRJJEpIkSRIAAEkSSRIAAJIkkiSSJAAAAABJEgAAAABJEgAAkiRJEgAAkiRJEts2AABJEgAASRJJEkkSAAAAAAAAAABJEkkSAABJEkkSAACSJAAAAADbNkkSSRJJEgAAAAAAAAAASRJJEkkSAAAAAAAAAABJEgAASRKSJEkSSRJJEiRJAABJEgAASRJJEkkS2zZJEkkSSRJJEkkSSRKSJAAAkiQAANs2AABJEpIkkiRJEgAA2zZJEgAASRJJEkkSSRIAAEkSSRKSJEkSSRJJEgAAAABJEkkSkiTbNkkSSRIAAEkSSRJJEgAAkiRJEkkSAAAAAEkSkiRJEpIkSRJJEgAAkiRJEkkSAACSJNs2AABJEgAAAACSJAAASRLbNgAAkiRJEts2SRIAAEkSkiQAANs2AADbNpIkAACSJAAAkiQAAAAAAABJEgAAAACSJAAASRKSJNs2AABJEgAAAABJEkkSkiQAAEkSAABJEkkSSRIAAAAASRLbNgAASRKSJAAAkiRJEts2SRIkSUkSAAAAAEkSAAAAAEkSkiRJEgAAkiQAAEkSAABJEkkSAAAAAEkSSRLbNpIkSRKSJEkSAADbNpIkSRJJEgAASRJJEgAAkiSSJJIkSRIAAAAAkiSSJEkSJEmSJEkSSRJJEpIkAAAAAJIkAAAAAJIkSRKSJJIkkiRJEkkSSRIAAAAAkiQAAEkSSRKSJEkSSRJJEkkSSRJJEgAASRKSJEkSkiRJEgAAAABJEkkSSRIAAAAAAAAAAAAAkiRJEkkSkiQAAAAAAABJEkkSSRIAAEkSkiQAAJIkkiQAAJIkAABJEgAAkiRJEgAASRIAAAAASRJJEiRJSRLbNgAASRJJEts2SRJJEkkS2zZJEkkSSRJJEkkSAADbNpIkSRJJEkkSSRJJEgAAAADbNkkSkiRJEgAAkiRJEgAASRJJEgAASRLbNgAAkiRJEpIkSRJJEgAAAAAAAEkS2zYAAJIkkiQAAAAAkiQAAEkSAACSJNs2AACSJEkSAABJEkkSSRIAAAAAkiSSJEkSSRIAANs2AAAAANs2AACSJJIk2zZJEkkSSRIAAEkSSRIAAAAASRIAAAAAAABJEkkSSRKSJEkSkiTbNgAAAACSJAAASRIAAJIk2zaSJJIkAABJEts2SRIAAEkSSRKSJEkSAAAAAJIkAACSJEkSSRIAAAAASRJJEkkSSRIAAJIkSRIAAEkSSRIAAEkSSRJJEpIkkiQAAEkSSRJJEkkSAAAAAAAASRIAAEkSAAAAAAAASRJJEgAAAAAAANs22zYAAJIkSRIAAAAAAACSJJIkAADbNts2SRJJEpIkAAAAACRJSRJJEgAAAABJEkkSAABJEpIkAACSJAAAkiQAANs2kiRJEgAASRKSJAAAAAAAAEkSSRIAAAAASRJJEgAASRJJEiRJSRLbNgAAAABJEpIkSRLbNkkSSRJJEgAAAACSJAAAkiSSJJIkAABJEgAAAADbNgAAkiQAAAAAAADbNkkSSRJJEkkSAAAAAAAASRIAAAAASRJJEgAAAAAAAJIkkiRJEgAAAACSJAAAkiQAAJIkAABJEpIkSRKSJAAAkiSSJEkSAACSJAAAkiQAAJIkAABJEkkSSRKSJAAAAAAAAEkSSRIAAEkSAACSJEkSkiQAAEkSSRIAAEkSSRIAAAAASRIAAEkS2zZJEpIk2zZJEkkSSRIAAAAAkiTbNkkSkiRJEpIkkiRJEpIkAAAAACRJAABJEgAAAAAAAEkSAACSJJIkSRJJEkkSAAAAAEkSAAAAAAAASRJJEpIkAAAAAAAAAACSJJIkSRJJEgAASRIAANs2SRJJEkkSSRLbNgAAAABJEgAAAACSJJIkAACSJAAAkiQAAAAAkiQAAAAASRJJEts2SRJJEkkSkiSSJAAASRJJEgAAAAAAAAAASRJJEpIkAABJEkkSJElJEkkS2zaSJAAASRIAANs2SRIAAEkSSRKSJJIkSRJJEgAAAAAAAAAAAAAAAAAASRIAAEkSAAAAAEkSSRIAAJIkAABJEgAAAAAAAEkSSRKSJAAASRIAAAAAkiSSJEkSbVtJEkkSSRLbNgAASRLbNpIkkiQAAEkSkiRJEgAAJEkAAEkSkiQAAJIkSRKSJAAASRIAAEkSSRJJEpIkSRJJEkkSSRIAAEkSSRIAAAAASRJJEkkSAACSJEkSAAAAAEkSSRIAAJIkSRIAAEkSAACSJAAAkiRJEkkSAAAAAG1bkiRJEgAASRLbNgAAkiRJEgAASRIAAAAASRJJEpIkkiRJEpIkkiRJEkkSSRIAAEkSSRKSJJIkAACSJEkSSRKSJEkSAABJEkkSSRKSJEkSAAAAAAAA2zZJEgAAkiSSJJIkSRIAAEkSkiQAAEkSAAAkSQAAAABJEts2kiRJEkkSkiQAAAAAbVuSJJIkSRIAAJIkAABJEkkSkiQAAEkSAAAAAAAASRIAAAAASRIAAEkSkiTbNkkSJEmSJAAAAABJEpIk2zZJEkkSSRIAAEkSAAAAAAAAAABJEgAAkiQAAAAA2zaSJEkSSRJJEkkSSRKSJJIkAABJEpIkSRIAAAAAAAAAAEkS2zZJEgAAAABJEgAAkiRJEkkSSRKSJEkSSRIAAAAAAABJEts2SRJJEkkSkiTbNkkSSRKSJEkSSRJJEgAAJEnbNgAAkiSSJJIkAADbNgAAkiRJEkkSSRIAAEkSkiQAAAAAAAAAAJIkkiTbNts2AABJEkkS2zZJEgAAAACSJAAAAACSJJIkSRKSJAAASRIAAEkSAABJEpIkSRJJEpIkAACSJAAAAACSJEkSSRJJEgAASRJJEpIkAAAAAEkSSRJJEgAAkiQAAEkSkiTbNkkSSRJJEpIkAADbNkkSkiQAAJIkSRIAAAAAAAAkSUkSSRJJEgAASRIAAAAAAAAAACRJSRIAAEkSkiSSJAAASRJJEkkSAACSJAAAkiRJEpIkAABJEkkSAACSJEkSSRKSJAAAAACSJJIkSRJJEpIkAABJEkkSAACSJEkSkiQAAEkSkiQAAAAASRKSJJIkAABJEkkSSRJJEgAASRKSJJIkSRIkSUkSSRJJEpIkAAAAAEkSSRKSJJIkSRJJEgAASRIAAJIkSRIAAEkS2zZJEkkSSRJJEgAASRKSJJIkkiRJEkkSSRIAAJIkSRIkSUkSAAAAAJIkAAAAAAAAAAAAAAAAAACSJJIkkiQAAAAASRIAAAAASRJJEgAAAABJEkkSSRIkSQAAAAAkSW1bAAAAAAAASRJJEgAASRIAANs2SRKSJEkSAACSJNs2kiQAAAAASRIAAEkSSRIAAAAASRIkSZIkAABJEkkSAADbNkkSSRJJEpIkSRIAAEkSSRIAAAAA2zYAAJIkkiSSJAAASRIAAAAAAABJEpIkkiRJEgAASRJJEgAAAABJEgAAAACSJJIkkiTbNiRJkiQAAEkSkiRJEts2AAAAAG1bSRLbNgAAAAAAAAAASRIAAAAAkiSSJAAAkiQAAJIkAAAAAJIkSRKSJEkSSRJJEkkSSRIAAAAAAACSJEkSSRIAAEkSkiQAAJIkAACSJAAAAAAAAJIkSRIAAJIkAAAAAJIkkiQAAEkSSRJJEkkSAAAAAJIkSRKSJAAASRJJEpIkAACSJAAA2zZJEkkSSRJJEts2AABJEkkSSRIAAAAAkiQAAEkSSRIAAEkSAACSJAAAAABJEgAASRJJEts2kiRJEkkS2zZJEpIkAABJEpIkAACSJNs2SRIAAEkSSRJJEgAAAAAAAEkSkiRJEgAAAADbNiRJSRIAAEkSAABJEkkSkiRJEgAAAAAAAAAAJElJEgAAkiSSJEkS2zYAAEkSSRIAAAAASRIAAAAAkiQAAEkSSRKSJAAAAAAAAEkSSRIAAEkSkiRJEgAAAACSJAAASRIAAEkSSRJJEkkSSRJJEkkSAAAAAEkSSRJJEpIkkiQAAAAAkiRJEgAAAAAAAAAAAACSJNs2SRKSJEkSSRIAAEkSSRIAAEkSAAAAAJIkAABJEts2SRIAAEkSSRIAAAAAAABJEts2AAAAAAAAkiSSJAAASRIAACRJAAAAAAAASRKSJAAASRJJEpIkAAAAAAAASRKSJEkSAADbNgAASRJJEts2SRIAAAAASRJJEts2AABJEpIkSRJJEiRJSRIAAEkSSRJJEkkSAABJEpIkAABJEgAASRJJEpIkSRLbNts2SRKSJJIkSRKSJAAASRIAAEkSSRJJEpIkAABJEgAAkiSSJAAASRJJEkkSAAAAAEkSAACSJJIkAABJEkkSAABJEkkSkiSSJNs2kiQAAEkSAAAAAAAASRJJEkkSAABJEkkSSRJJEgAAAABJEpIkAABJEkkSkiQAAJIkAAAAAJIkkiQAAA==\" type=\"audio/wav\" />\n",
       "                    Your browser does not support the audio element.\n",
       "                </audio>\n",
       "              "
      ],
      "text/plain": [
       "<IPython.lib.display.Audio object>"
      ]
     },
     "execution_count": 27,
     "metadata": {},
     "output_type": "execute_result"
    }
   ],
   "source": [
    "amp = 1\n",
    "framerate = 10000\n",
    "duration = 1\n",
    "\n",
    "signal = UncorrelatedPoissonNoise(amp=amp)\n",
    "wave = signal.make_wave(duration=duration, framerate=framerate)\n",
    "wave.make_audio()"
   ]
  },
  {
   "cell_type": "markdown",
   "metadata": {},
   "source": [
    "It looks more like a signal:"
   ]
  },
  {
   "cell_type": "code",
   "execution_count": 28,
   "metadata": {},
   "outputs": [
    {
     "data": {
      "text/plain": [
       "(0, 0.1)"
      ]
     },
     "execution_count": 28,
     "metadata": {},
     "output_type": "execute_result"
    },
    {
     "data": {
      "image/png": "[encoded data removed]",
      "text/plain": [
       "<Figure size 432x288 with 1 Axes>"
      ]
     },
     "metadata": {
      "needs_background": "light"
     },
     "output_type": "display_data"
    }
   ],
   "source": [
    "import matplotlib.pylab as pl\n",
    "\n",
    "wave.plot()\n",
    "\n",
    "pl.xlim([0,.1])"
   ]
  },
  {
   "cell_type": "markdown",
   "metadata": {},
   "source": [
    "And the spectrum converges on Gaussian noise"
   ]
  },
  {
   "cell_type": "code",
   "execution_count": 29,
   "metadata": {},
   "outputs": [
    {
     "data": {
      "image/png": "[encoded data removed]",
      "text/plain": [
       "<Figure size 864x432 with 2 Axes>"
      ]
     },
     "metadata": {
      "needs_background": "light"
     },
     "output_type": "display_data"
    }
   ],
   "source": [
    "spectrum = wave.make_spectrum()\n",
    "spectrum.hs[0] = 0\n",
    "\n",
    "thinkplot.preplot(2, cols=2)\n",
    "thinkstats2.NormalProbabilityPlot(spectrum.real, label='real')\n",
    "thinkplot.config(xlabel='Normal sample',\n",
    "                 ylabel='Power',\n",
    "                 legend=True,\n",
    "                 loc='lower right')\n",
    "\n",
    "thinkplot.subplot(2)\n",
    "thinkstats2.NormalProbabilityPlot(spectrum.imag, label='imag')\n",
    "thinkplot.config(xlabel='Normal sample',\n",
    "                     loc='lower right')"
   ]
  },
  {
   "cell_type": "markdown",
   "metadata": {},
   "source": [
    "Exercise: The algorithm in this chapter for generating pink noise is conceptually simple but computationally expensive. There are more efficient alternatives, like the Voss-McCartney algorithm. Research this method, implement it, compute the spectrum of the result, and confirm that it has the desired relationship between power and frequency."
   ]
  },
  {
   "cell_type": "markdown",
   "metadata": {},
   "source": [
    "Solution: The fundamental idea of this algorithm is to add up several sequences of random numbers that get updates at different sampling rates. The first source should get updated at every time step; the second source every other time step, the third source ever fourth step, and so on."
   ]
  },
  {
   "cell_type": "code",
   "execution_count": 30,
   "metadata": {},
   "outputs": [
    {
     "data": {
      "text/plain": [
       "array([[0.25135096, 0.04306711, 0.92469502, 0.14843353, 0.28864324],\n",
       "       [0.6507769 ,        nan,        nan,        nan,        nan],\n",
       "       [0.79849858,        nan,        nan,        nan,        nan],\n",
       "       [0.34248108,        nan,        nan,        nan,        nan],\n",
       "       [0.8203776 ,        nan,        nan,        nan,        nan],\n",
       "       [0.97049432,        nan,        nan,        nan,        nan]])"
      ]
     },
     "execution_count": 30,
     "metadata": {},
     "output_type": "execute_result"
    }
   ],
   "source": [
    "nrows = 100\n",
    "ncols = 5\n",
    "\n",
    "array = np.empty((nrows, ncols))\n",
    "array.fill(np.nan)\n",
    "array[0, :] = np.random.random(ncols)\n",
    "array[:, 0] = np.random.random(nrows)\n",
    "array[0:6]"
   ]
  },
  {
   "cell_type": "markdown",
   "metadata": {},
   "source": [
    "The next step is to choose the locations where the random sources change. If the number of rows is $n$, the number of changes in the first column is $n$, the number in the second column is $n/2$ on average, the number in the third column is $n/4$ on average, etc.\n",
    "\n",
    "So the total number of changes in the matrix is $2n$ on average; since $n$ of those are in the first column, the other $n$ are in the rest of the matrix.\n",
    "\n",
    "To place the remaining $n$ changes, we generate random columns from a geometric distribution with $p=0.5$. If we generate a value out of bounds, we set it to 0 (so the first column gets the extras)."
   ]
  },
  {
   "cell_type": "code",
   "execution_count": 31,
   "metadata": {},
   "outputs": [
    {
     "data": {
      "text/plain": [
       "array([1, 3, 4, 2, 1, 3, 2, 1, 1, 2, 1, 3, 4, 1, 1, 1, 1, 1, 2, 1, 1, 3,\n",
       "       2, 2, 1, 1, 2, 2, 1, 1, 1, 0, 1, 2, 1, 1, 3, 1, 2, 1, 0, 1, 1, 1,\n",
       "       4, 1, 1, 1, 4, 1, 1, 2, 1, 2, 4, 1, 2, 1, 1, 0, 4, 1, 1, 1, 2, 1,\n",
       "       1, 2, 2, 1, 1, 2, 3, 2, 0, 3, 1, 1, 2, 1, 2, 1, 1, 0, 2, 2, 1, 1,\n",
       "       1, 2, 1, 2, 3, 4, 2, 2, 2, 1, 4, 1])"
      ]
     },
     "execution_count": 31,
     "metadata": {},
     "output_type": "execute_result"
    }
   ],
   "source": [
    "p = 0.5\n",
    "n = nrows\n",
    "cols = np.random.geometric(p, n)\n",
    "cols[cols >= ncols] = 0\n",
    "cols"
   ]
  },
  {
   "cell_type": "markdown",
   "metadata": {},
   "source": [
    "Within each column, we choose a random row from a uniform distribution. Ideally we would choose without replacement, but it is faster and easier to choose with replacement, and I doubt it matters."
   ]
  },
  {
   "cell_type": "code",
   "execution_count": 32,
   "metadata": {},
   "outputs": [
    {
     "data": {
      "text/plain": [
       "array([35, 97, 20, 83,  8, 44, 16, 20, 80, 50, 57, 32, 24, 39, 57, 20, 36,\n",
       "       74, 75, 56, 42, 84, 72, 43, 22, 61, 38,  9, 84, 31, 23, 27, 77, 55,\n",
       "       42, 21, 72, 51, 22, 30, 54, 92, 94, 37,  2, 97, 73, 88, 65, 50, 88,\n",
       "       97, 96, 76, 67, 81, 50, 19, 38, 66, 96, 13,  5, 94, 41, 32, 18, 79,\n",
       "       41, 53, 55, 52, 86, 21, 17, 69, 84, 55, 80, 70, 21, 39, 57, 85, 54,\n",
       "       87, 75, 62, 97, 58, 25,  3, 52, 37, 78, 87, 57, 61,  0, 11])"
      ]
     },
     "execution_count": 32,
     "metadata": {},
     "output_type": "execute_result"
    }
   ],
   "source": [
    "rows = np.random.randint(nrows, size=n)\n",
    "rows"
   ]
  },
  {
   "cell_type": "markdown",
   "metadata": {},
   "source": [
    "Now we can put random values at rach of the change points."
   ]
  },
  {
   "cell_type": "code",
   "execution_count": 33,
   "metadata": {},
   "outputs": [
    {
     "data": {
      "text/plain": [
       "array([[0.25135096, 0.04306711, 0.92469502, 0.14843353, 0.54452705],\n",
       "       [0.6507769 ,        nan,        nan,        nan,        nan],\n",
       "       [0.79849858,        nan,        nan,        nan, 0.05243338],\n",
       "       [0.34248108,        nan, 0.23735108,        nan,        nan],\n",
       "       [0.8203776 ,        nan,        nan,        nan,        nan],\n",
       "       [0.97049432, 0.66674427,        nan,        nan,        nan]])"
      ]
     },
     "execution_count": 33,
     "metadata": {},
     "output_type": "execute_result"
    }
   ],
   "source": [
    "array[rows, cols] = np.random.random(n)\n",
    "array[0:6]"
   ]
  },
  {
   "cell_type": "markdown",
   "metadata": {},
   "source": [
    "Next we want to do a zero-order hold to fill in the NaNs. NumPy doesn't do that, but Pandas does. So I'll create a DataFrame:"
   ]
  },
  {
   "cell_type": "code",
   "execution_count": 34,
   "metadata": {},
   "outputs": [
    {
     "data": {
      "text/html": [
       "<div>\n",
       "<style scoped>\n",
       "    .dataframe tbody tr th:only-of-type {\n",
       "        vertical-align: middle;\n",
       "    }\n",
       "\n",
       "    .dataframe tbody tr th {\n",
       "        vertical-align: top;\n",
       "    }\n",
       "\n",
       "    .dataframe thead th {\n",
       "        text-align: right;\n",
       "    }\n",
       "</style>\n",
       "<table border=\"1\" class=\"dataframe\">\n",
       "  <thead>\n",
       "    <tr style=\"text-align: right;\">\n",
       "      <th></th>\n",
       "      <th>0</th>\n",
       "      <th>1</th>\n",
       "      <th>2</th>\n",
       "      <th>3</th>\n",
       "      <th>4</th>\n",
       "    </tr>\n",
       "  </thead>\n",
       "  <tbody>\n",
       "    <tr>\n",
       "      <th>0</th>\n",
       "      <td>0.251351</td>\n",
       "      <td>0.043067</td>\n",
       "      <td>0.924695</td>\n",
       "      <td>0.148434</td>\n",
       "      <td>0.544527</td>\n",
       "    </tr>\n",
       "    <tr>\n",
       "      <th>1</th>\n",
       "      <td>0.650777</td>\n",
       "      <td>NaN</td>\n",
       "      <td>NaN</td>\n",
       "      <td>NaN</td>\n",
       "      <td>NaN</td>\n",
       "    </tr>\n",
       "    <tr>\n",
       "      <th>2</th>\n",
       "      <td>0.798499</td>\n",
       "      <td>NaN</td>\n",
       "      <td>NaN</td>\n",
       "      <td>NaN</td>\n",
       "      <td>0.052433</td>\n",
       "    </tr>\n",
       "    <tr>\n",
       "      <th>3</th>\n",
       "      <td>0.342481</td>\n",
       "      <td>NaN</td>\n",
       "      <td>0.237351</td>\n",
       "      <td>NaN</td>\n",
       "      <td>NaN</td>\n",
       "    </tr>\n",
       "    <tr>\n",
       "      <th>4</th>\n",
       "      <td>0.820378</td>\n",
       "      <td>NaN</td>\n",
       "      <td>NaN</td>\n",
       "      <td>NaN</td>\n",
       "      <td>NaN</td>\n",
       "    </tr>\n",
       "  </tbody>\n",
       "</table>\n",
       "</div>"
      ],
      "text/plain": [
       "          0         1         2         3         4\n",
       "0  0.251351  0.043067  0.924695  0.148434  0.544527\n",
       "1  0.650777       NaN       NaN       NaN       NaN\n",
       "2  0.798499       NaN       NaN       NaN  0.052433\n",
       "3  0.342481       NaN  0.237351       NaN       NaN\n",
       "4  0.820378       NaN       NaN       NaN       NaN"
      ]
     },
     "execution_count": 34,
     "metadata": {},
     "output_type": "execute_result"
    }
   ],
   "source": [
    "df = pd.DataFrame(array)\n",
    "df.head()"
   ]
  },
  {
   "cell_type": "markdown",
   "metadata": {},
   "source": [
    "And then use fillna along the columns."
   ]
  },
  {
   "cell_type": "code",
   "execution_count": 35,
   "metadata": {},
   "outputs": [
    {
     "data": {
      "text/html": [
       "<div>\n",
       "<style scoped>\n",
       "    .dataframe tbody tr th:only-of-type {\n",
       "        vertical-align: middle;\n",
       "    }\n",
       "\n",
       "    .dataframe tbody tr th {\n",
       "        vertical-align: top;\n",
       "    }\n",
       "\n",
       "    .dataframe thead th {\n",
       "        text-align: right;\n",
       "    }\n",
       "</style>\n",
       "<table border=\"1\" class=\"dataframe\">\n",
       "  <thead>\n",
       "    <tr style=\"text-align: right;\">\n",
       "      <th></th>\n",
       "      <th>0</th>\n",
       "      <th>1</th>\n",
       "      <th>2</th>\n",
       "      <th>3</th>\n",
       "      <th>4</th>\n",
       "    </tr>\n",
       "  </thead>\n",
       "  <tbody>\n",
       "    <tr>\n",
       "      <th>0</th>\n",
       "      <td>0.251351</td>\n",
       "      <td>0.043067</td>\n",
       "      <td>0.924695</td>\n",
       "      <td>0.148434</td>\n",
       "      <td>0.544527</td>\n",
       "    </tr>\n",
       "    <tr>\n",
       "      <th>1</th>\n",
       "      <td>0.650777</td>\n",
       "      <td>0.043067</td>\n",
       "      <td>0.924695</td>\n",
       "      <td>0.148434</td>\n",
       "      <td>0.544527</td>\n",
       "    </tr>\n",
       "    <tr>\n",
       "      <th>2</th>\n",
       "      <td>0.798499</td>\n",
       "      <td>0.043067</td>\n",
       "      <td>0.924695</td>\n",
       "      <td>0.148434</td>\n",
       "      <td>0.052433</td>\n",
       "    </tr>\n",
       "    <tr>\n",
       "      <th>3</th>\n",
       "      <td>0.342481</td>\n",
       "      <td>0.043067</td>\n",
       "      <td>0.237351</td>\n",
       "      <td>0.148434</td>\n",
       "      <td>0.052433</td>\n",
       "    </tr>\n",
       "    <tr>\n",
       "      <th>4</th>\n",
       "      <td>0.820378</td>\n",
       "      <td>0.043067</td>\n",
       "      <td>0.237351</td>\n",
       "      <td>0.148434</td>\n",
       "      <td>0.052433</td>\n",
       "    </tr>\n",
       "  </tbody>\n",
       "</table>\n",
       "</div>"
      ],
      "text/plain": [
       "          0         1         2         3         4\n",
       "0  0.251351  0.043067  0.924695  0.148434  0.544527\n",
       "1  0.650777  0.043067  0.924695  0.148434  0.544527\n",
       "2  0.798499  0.043067  0.924695  0.148434  0.052433\n",
       "3  0.342481  0.043067  0.237351  0.148434  0.052433\n",
       "4  0.820378  0.043067  0.237351  0.148434  0.052433"
      ]
     },
     "execution_count": 35,
     "metadata": {},
     "output_type": "execute_result"
    }
   ],
   "source": [
    "filled = df.fillna(method='ffill', axis=0)\n",
    "filled.head()"
   ]
  },
  {
   "cell_type": "markdown",
   "metadata": {},
   "source": [
    "finally we add up the rows."
   ]
  },
  {
   "cell_type": "code",
   "execution_count": 36,
   "metadata": {},
   "outputs": [
    {
     "data": {
      "text/plain": [
       "0    1.912074\n",
       "1    2.311500\n",
       "2    1.967128\n",
       "3    0.823766\n",
       "4    1.301663\n",
       "dtype: float64"
      ]
     },
     "execution_count": 36,
     "metadata": {},
     "output_type": "execute_result"
    }
   ],
   "source": [
    "total = filled.sum(axis=1)\n",
    "total.head()"
   ]
  },
  {
   "cell_type": "markdown",
   "metadata": {},
   "source": [
    "If we put the results into a Wave, here's what it looks like:"
   ]
  },
  {
   "cell_type": "code",
   "execution_count": 37,
   "metadata": {},
   "outputs": [
    {
     "data": {
      "image/png": "[encoded data removed]",
      "text/plain": [
       "<Figure size 432x288 with 1 Axes>"
      ]
     },
     "metadata": {
      "needs_background": "light"
     },
     "output_type": "display_data"
    }
   ],
   "source": [
    "wave = thinkdsp.Wave(total.values)\n",
    "wave.plot()"
   ]
  },
  {
   "cell_type": "markdown",
   "metadata": {},
   "source": [
    "Here's the whole process in a function:"
   ]
  },
  {
   "cell_type": "code",
   "execution_count": null,
   "metadata": {},
   "outputs": [],
   "source": [
    "def voss(nrows, ncols=16):\n",
    "    \"\"\"Generates pink noise using the Voss-McCartney algorithm.\n",
    "    \n",
    "    nrows: number of values to generate\n",
    "    rcols: number of random sources to add\n",
    "    \n",
    "    returns: NumPy array\n",
    "    \"\"\"\n",
    "    array = np.empty((nrows, ncols))\n",
    "    array.fill(np.nan)\n",
    "    array[0, :] = np.random.random(ncols)\n",
    "    array[:, 0] = np.random.random(nrows)\n",
    "    \n",
    "    # the total number of changes is nrows\n",
    "    n = nrows\n",
    "    cols = np.random.geometric(0.5, n)\n",
    "    cols[cols >= ncols] = 0\n",
    "    rows = np.random.randint(nrows, size=n)\n",
    "    array[rows, cols] = np.random.random(n)\n",
    "\n",
    "    df = pd.DataFrame(array)\n",
    "    df.fillna(method='ffill', axis=0, inplace=True)\n",
    "    total = df.sum(axis=1)\n",
    "\n",
    "    return total.values"
   ]
  },
  {
   "cell_type": "code",
   "execution_count": 39,
   "metadata": {},
   "outputs": [
    {
     "data": {
      "text/plain": [
       "array([9.44529322, 8.58134144, 8.27072436, ..., 9.31314189, 9.11978566,\n",
       "       8.74828608])"
      ]
     },
     "execution_count": 39,
     "metadata": {},
     "output_type": "execute_result"
    }
   ],
   "source": [
    "ys = voss(11025)\n",
    "ys"
   ]
  },
  {
   "cell_type": "markdown",
   "metadata": {},
   "source": [
    "make them into a Wave:"
   ]
  },
  {
   "cell_type": "code",
   "execution_count": 40,
   "metadata": {},
   "outputs": [],
   "source": [
    "wave = thinkdsp.Wave(ys)\n",
    "wave.unbias()\n",
    "wave.normalize()"
   ]
  },
  {
   "cell_type": "markdown",
   "metadata": {},
   "source": [
    "看起來像"
   ]
  },
  {
   "cell_type": "code",
   "execution_count": 41,
   "metadata": {},
   "outputs": [
    {
     "data": {
      "image/png": "[encoded data removed]",
      "text/plain": [
       "<Figure size 432x288 with 1 Axes>"
      ]
     },
     "metadata": {
      "needs_background": "light"
     },
     "output_type": "display_data"
    }
   ],
   "source": [
    "wave.plot()"
   ]
  },
  {
   "cell_type": "markdown",
   "metadata": {},
   "source": [
    "As expected, it is more random-walk-like than white noise, but more random looking than red noise.\n",
    "\n",
    "Here's what it sounds like:"
   ]
  },
  {
   "cell_type": "code",
   "execution_count": 42,
   "metadata": {},
   "outputs": [
    {
     "data": {
      "text/html": [
       "\n",
       "                <audio  controls=\"controls\" >\n",
       "                    <source src=\"data:audio/wav;base64,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\" type=\"audio/wav\" />\n",
       "                    Your browser does not support the audio element.\n",
       "                </audio>\n",
       "              "
      ],
      "text/plain": [
       "<IPython.lib.display.Audio object>"
      ]
     },
     "execution_count": 42,
     "metadata": {},
     "output_type": "execute_result"
    }
   ],
   "source": [
    "wave.make_audio()"
   ]
  },
  {
   "cell_type": "markdown",
   "metadata": {},
   "source": [
    " the power spectrum"
   ]
  },
  {
   "cell_type": "code",
   "execution_count": null,
   "metadata": {},
   "outputs": [],
   "source": []
  }
 ],
 "metadata": {
  "kernelspec": {
   "display_name": "Python 3",
   "language": "python",
   "name": "python3"
  },
  "language_info": {
   "codemirror_mode": {
    "name": "ipython",
    "version": 3
   },
   "file_extension": ".py",
   "mimetype": "text/x-python",
   "name": "python",
   "nbconvert_exporter": "python",
   "pygments_lexer": "ipython3",
   "version": "3.6.8"
  }
 },
 "nbformat": 4,
 "nbformat_minor": 2
}
